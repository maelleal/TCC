{
  "nbformat": 4,
  "nbformat_minor": 0,
  "metadata": {
    "colab": {
      "name": "model_collaborative_filtering.ipynb",
      "provenance": [],
      "authorship_tag": "ABX9TyMw7GXviTh5DvK9OCo5IlYX",
      "include_colab_link": true
    },
    "kernelspec": {
      "name": "python3",
      "display_name": "Python 3"
    },
    "language_info": {
      "name": "python"
    }
  },
  "cells": [
    {
      "cell_type": "markdown",
      "metadata": {
        "id": "view-in-github",
        "colab_type": "text"
      },
      "source": [
        "<a href=\"https://colab.research.google.com/github/maelleal/TCC_Recomendacao_INE/blob/main/model_collaborative_filtering.ipynb\" target=\"_parent\"><img src=\"https://colab.research.google.com/assets/colab-badge.svg\" alt=\"Open In Colab\"/></a>"
      ]
    },
    {
      "cell_type": "code",
      "execution_count": 2,
      "metadata": {
        "id": "rtrvNmO-yM0T",
        "colab": {
          "base_uri": "https://localhost:8080/"
        },
        "outputId": "1307e602-8165-4757-c318-902e14559213"
      },
      "outputs": [
        {
          "output_type": "stream",
          "name": "stdout",
          "text": [
            "Looking in indexes: https://pypi.org/simple, https://us-python.pkg.dev/colab-wheels/public/simple/\n",
            "Requirement already satisfied: scikit-learn in /usr/local/lib/python3.7/dist-packages (1.0.2)\n",
            "Requirement already satisfied: joblib>=0.11 in /usr/local/lib/python3.7/dist-packages (from scikit-learn) (1.1.0)\n",
            "Requirement already satisfied: threadpoolctl>=2.0.0 in /usr/local/lib/python3.7/dist-packages (from scikit-learn) (3.1.0)\n",
            "Requirement already satisfied: scipy>=1.1.0 in /usr/local/lib/python3.7/dist-packages (from scikit-learn) (1.7.3)\n",
            "Requirement already satisfied: numpy>=1.14.6 in /usr/local/lib/python3.7/dist-packages (from scikit-learn) (1.21.6)\n",
            "Mounted at /content/drive\n"
          ]
        }
      ],
      "source": [
        "!pip install -U scikit-learn\n",
        "from google.colab import drive\n",
        "drive.mount('/content/drive')\n",
        "import numpy as np\n",
        "import pandas as pandas\n",
        "import matplotlib.pyplot as plt\n",
        "from sklearn.naive_bayes import GaussianNB\n",
        "from sklearn.decomposition import TruncatedSVD\n",
        "\n"
      ]
    },
    {
      "cell_type": "code",
      "source": [
        "\n",
        "dataset = pandas.read_excel('/content/drive/My Drive/TCC - Sistema recomendação INE/Tabela para modelo medias v2.xlsx')\n",
        "dataset = dataset.replace([\"#N/A\"], 0)\n",
        "dataset_filtrado = dataset.drop(columns=['ID_UFSC', 'COD_MAT'])\n",
        "dataset_filtrado = dataset_filtrado.replace(np.nan, 0)\n",
        "dataset_filtrado = dataset_filtrado.round(2)\n",
        "dataset_filtrado.head()\n",
        "print(dataset_filtrado.dtypes)\n",
        "print(dataset_filtrado)"
      ],
      "metadata": {
        "colab": {
          "base_uri": "https://localhost:8080/"
        },
        "id": "_YiUNjX-0Svd",
        "outputId": "4bcbc875-6788-485a-a5d4-976c926fb93b"
      },
      "execution_count": 3,
      "outputs": [
        {
          "output_type": "stream",
          "name": "stdout",
          "text": [
            "MATRICULA       int64\n",
            "ORIENTADOR      int64\n",
            "COD_AREA      float64\n",
            "MEDIA_NOTA    float64\n",
            "Area1         float64\n",
            "Area2         float64\n",
            "Area3         float64\n",
            "Area4         float64\n",
            "Area5         float64\n",
            "Area6         float64\n",
            "Area7         float64\n",
            "Area8         float64\n",
            "Area9         float64\n",
            "Area10        float64\n",
            "Area11        float64\n",
            "Area12        float64\n",
            "Area13        float64\n",
            "dtype: object\n",
            "     MATRICULA  ORIENTADOR  COD_AREA  MEDIA_NOTA  Area1  Area2  Area3  Area4  \\\n",
            "0     11100878           5      10.0        9.50   8.84   7.60   6.90   7.50   \n",
            "1     12200660           5      12.0       10.00   7.30   8.84   8.00   8.00   \n",
            "2     12101248           5      10.0       10.00   0.00   0.00   0.00   0.00   \n",
            "3      9232055          24       3.0        9.50   8.84   0.00   7.67   7.67   \n",
            "4     12101265          12       3.0        9.67   0.00   0.00   0.00   0.00   \n",
            "..         ...         ...       ...         ...    ...    ...    ...    ...   \n",
            "309   15204125          13      10.0       10.00   7.20   7.34   6.00   7.50   \n",
            "310   16100725           6       3.0       10.00   7.20   7.34   6.00   7.50   \n",
            "311   16100728           1       5.0        8.88   7.20   7.34   6.00   7.50   \n",
            "312   16105151          20      11.0       10.00   7.20   7.34   6.00   7.50   \n",
            "313   16105545          30      10.0        9.00   7.20   7.34   6.00   7.50   \n",
            "\n",
            "     Area5  Area6  Area7  Area8  Area9  Area10  Area11  Area12  Area13  \n",
            "0     8.50   7.00   6.75   8.00   7.90    7.34    6.50    6.67     0.0  \n",
            "1     6.00   7.75  10.00   8.25   8.34    7.75    7.67    0.00     0.0  \n",
            "2     0.00   0.00   0.00   0.00   0.00    0.00    0.00    0.00     0.0  \n",
            "3     6.25   8.50   6.00   6.75   0.00    7.00    7.00    7.50     8.0  \n",
            "4     0.00   0.00   0.00   0.00   0.00    0.00    0.00    0.00     0.0  \n",
            "..     ...    ...    ...    ...    ...     ...     ...     ...     ...  \n",
            "309   6.00   6.00   9.25   6.34   7.50    7.00    6.90    0.00     0.0  \n",
            "310   6.00   6.00   9.25   6.34   7.50    7.00    6.90    0.00     0.0  \n",
            "311   6.00   6.00   9.25   6.34   7.50    7.00    6.90    0.00     0.0  \n",
            "312   6.00   6.00   9.25   6.34   7.50    7.00    6.90    0.00     0.0  \n",
            "313   6.00   6.00   9.25   6.34   7.50    7.00    6.90    0.00     0.0  \n",
            "\n",
            "[314 rows x 17 columns]\n"
          ]
        }
      ]
    },
    {
      "cell_type": "code",
      "source": [
        "# https://scikit-learn.org/stable/modules/generated/sklearn.metrics.pairwise_distances.html\n",
        "from sklearn.metrics.pairwise import pairwise_distances\n",
        "\n",
        "# Calcule DIstance Matriz\n",
        "cosine_sim = 1-pairwise_distances(dataset_filtrado, metric='cosine')\n",
        "cosine_sim[:4, :4]"
      ],
      "metadata": {
        "colab": {
          "base_uri": "https://localhost:8080/"
        },
        "id": "nThfItgUJwQ9",
        "outputId": "a0d7563e-73e4-476e-9067-3aafda4a46c6"
      },
      "execution_count": 5,
      "outputs": [
        {
          "output_type": "execute_result",
          "data": {
            "text/plain": [
              "array([[1., 1., 1., 1.],\n",
              "       [1., 1., 1., 1.],\n",
              "       [1., 1., 1., 1.],\n",
              "       [1., 1., 1., 1.]])"
            ]
          },
          "metadata": {},
          "execution_count": 5
        }
      ]
    },
    {
      "cell_type": "code",
      "source": [
        "# Indices dos conteúdos originais\n",
        "indices = pandas.Series(range(len(dataset_filtrado)), index=dataset_filtrado.index)\n",
        "indices\n",
        "\n",
        "# Function that get recommendations based on the cosine similarity score\n",
        "def get_recommender(idx, dataset_filtrado, top_n = 5):\n",
        "    sim_idx    = indices[idx]\n",
        "    sim_scores = list(enumerate(cosine_sim[sim_idx]))\n",
        "    sim_scores = sorted(sim_scores, key=lambda x: x[1], reverse=True)\n",
        "    sim_scores = sim_scores[1:top_n+1]\n",
        "    idx_rec    = [i[0] for i in sim_scores]\n",
        "    idx_sim    = [i[1] for i in sim_scores]\n",
        "    \n",
        "    return indices.iloc[idx_rec].index, idx_sim\n",
        "\n",
        "get_recommender(309, dataset_filtrado, top_n = 5)  "
      ],
      "metadata": {
        "colab": {
          "base_uri": "https://localhost:8080/"
        },
        "id": "_jn_DEEWDiPv",
        "outputId": "e68d5b24-72c6-44d5-9e5f-ff5606ccbf1d"
      },
      "execution_count": 16,
      "outputs": [
        {
          "output_type": "execute_result",
          "data": {
            "text/plain": [
              "(Int64Index([253, 193, 21, 278, 239], dtype='int64'),\n",
              " [0.9999999999999936,\n",
              "  0.999999999999979,\n",
              "  0.9999999999999755,\n",
              "  0.9999999999999589,\n",
              "  0.9999999999999313])"
            ]
          },
          "metadata": {},
          "execution_count": 16
        }
      ]
    },
    {
      "cell_type": "code",
      "source": [
        "\n"
      ],
      "metadata": {
        "id": "qrgc1VRVKmvu"
      },
      "execution_count": 9,
      "outputs": []
    }
  ]
}