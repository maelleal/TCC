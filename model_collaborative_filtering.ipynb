{
  "nbformat": 4,
  "nbformat_minor": 0,
  "metadata": {
    "colab": {
      "provenance": [],
      "authorship_tag": "ABX9TyPdxFU5DwTqhz8d06MyA+AD",
      "include_colab_link": true
    },
    "kernelspec": {
      "name": "python3",
      "display_name": "Python 3"
    },
    "language_info": {
      "name": "python"
    }
  },
  "cells": [
    {
      "cell_type": "markdown",
      "metadata": {
        "id": "view-in-github",
        "colab_type": "text"
      },
      "source": [
        "<a href=\"https://colab.research.google.com/github/maelleal/TCC_Recomendacao_INE/blob/main/model_collaborative_filtering.ipynb\" target=\"_parent\"><img src=\"https://colab.research.google.com/assets/colab-badge.svg\" alt=\"Open In Colab\"/></a>"
      ]
    },
    {
      "cell_type": "code",
      "execution_count": null,
      "metadata": {
        "id": "rtrvNmO-yM0T"
      },
      "outputs": [],
      "source": [
        "!pip install -U scikit-learn\n",
        "from google.colab import drive\n",
        "drive.mount('/content/drive')\n",
        "import numpy as np\n",
        "import pandas as pandas\n",
        "\n"
      ]
    },
    {
      "cell_type": "code",
      "source": [
        "\n",
        "dataset = pandas.read_excel('/content/drive/My Drive/TCC - Sistema recomendação INE/tabela_modelo_medias_v4.xlsx')\n",
        "dataset_filtrado = dataset.drop(columns=['ID_UFSC', 'CURSO', 'AREA', 'ORIENTADOR', 'CLASSIF_AREA', 'MATRICULA', 'COD_AREA', 'MEDIA_NOTA'])\n",
        "dataset_filtrado = dataset_filtrado.replace(np.nan, 0)\n",
        "dataset_filtrado = dataset_filtrado.round(2)\n",
        "print(dataset_filtrado)"
      ],
      "metadata": {
        "colab": {
          "base_uri": "https://localhost:8080/"
        },
        "id": "_YiUNjX-0Svd",
        "outputId": "dd5ab137-d5e0-4864-bfbb-30184c4d2be2"
      },
      "execution_count": 19,
      "outputs": [
        {
          "output_type": "stream",
          "name": "stdout",
          "text": [
            "     Area1  Area2  Area3  Area4  Area5  Area6  Area7  Area8  Area9  Area10  \\\n",
            "0     8.50   7.00   7.34   9.17   8.13   8.00   7.75   7.50   8.50    6.84   \n",
            "1     7.75   6.50   8.00   7.17   7.67   8.50   7.34   8.00   9.63    7.50   \n",
            "2     9.00   7.40   6.60   8.50   8.00   7.50   7.25   8.63   8.10    7.67   \n",
            "3     8.67   7.25   7.30   7.00   6.00   6.00   7.50   8.17   7.50    7.50   \n",
            "4     8.50   6.00   6.80   8.13   7.00   7.00   8.50   6.00   8.40    6.50   \n",
            "..     ...    ...    ...    ...    ...    ...    ...    ...    ...     ...   \n",
            "321   8.50   6.00   6.40   6.67   6.34   7.50   6.75   6.00   9.10    6.17   \n",
            "322   8.50   6.50   6.88   6.80   7.17   8.00   6.75   6.75   9.20    7.63   \n",
            "323   6.00   6.67   7.50   6.75   6.00   6.75   9.00   8.00   7.00    6.34   \n",
            "324   7.20   7.84   7.00   7.50   6.50   6.50   7.67   6.34   7.50    7.17   \n",
            "325   9.75   6.50   7.63   6.50   6.63   8.00   7.25   7.00   9.38    7.50   \n",
            "\n",
            "     Area11  Area12  Area13  \n",
            "0      7.38    7.79    7.00  \n",
            "1      8.63    7.09    8.00  \n",
            "2      6.50    7.50    0.00  \n",
            "3      6.25    7.25    0.00  \n",
            "4      7.63    7.50    6.50  \n",
            "..      ...     ...     ...  \n",
            "321    6.00    7.20    6.38  \n",
            "322    7.38    6.72    7.34  \n",
            "323    6.75    0.00    0.00  \n",
            "324    7.09    0.00    0.00  \n",
            "325    6.88    7.70    8.50  \n",
            "\n",
            "[326 rows x 13 columns]\n"
          ]
        }
      ]
    },
    {
      "cell_type": "code",
      "source": [
        "# https://scikit-learn.org/stable/modules/generated/sklearn.metrics.pairwise_distances.html\n",
        "from sklearn.metrics.pairwise import pairwise_distances\n",
        "\n",
        "# Calcule DIstance Matriz\n",
        "cosine_sim = 1-pairwise_distances(dataset_filtrado, metric='cosine')\n",
        "cosine_sim[:4, :4]"
      ],
      "metadata": {
        "colab": {
          "base_uri": "https://localhost:8080/"
        },
        "id": "nThfItgUJwQ9",
        "outputId": "cfe62b8c-d5bc-439b-e5a5-ad4f26bbbd86"
      },
      "execution_count": 22,
      "outputs": [
        {
          "output_type": "execute_result",
          "data": {
            "text/plain": [
              "array([[1.        , 0.99321062, 0.96526404, 0.95965994],\n",
              "       [0.99321062, 1.        , 0.94983313, 0.94764251],\n",
              "       [0.96526404, 0.94983313, 1.        , 0.99500772],\n",
              "       [0.95965994, 0.94764251, 0.99500772, 1.        ]])"
            ]
          },
          "metadata": {},
          "execution_count": 22
        }
      ]
    },
    {
      "cell_type": "code",
      "source": [
        "# Indices dos conteúdos originais\n",
        "indices = pandas.Series(range(len(dataset_filtrado)), index=dataset_filtrado.index)\n",
        "indices\n",
        "\n",
        "# Function that get recommendations based on the cosine similarity score\n",
        "def get_recommender(idx, dataset_filtrado, top_n = 5):\n",
        "    sim_idx    = indices[idx]\n",
        "    sim_scores = list(enumerate(cosine_sim[sim_idx]))\n",
        "    sim_scores = sorted(sim_scores, key=lambda x: x[1], reverse=True)\n",
        "    sim_scores = sim_scores[1:top_n+1]\n",
        "    idx_rec    = [i[0] for i in sim_scores]\n",
        "    idx_sim    = [i[1] for i in sim_scores]\n",
        "    \n",
        "    return indices.iloc[idx_rec].index, idx_sim\n",
        "\n",
        "get_recommender(321, dataset_filtrado, top_n = 5)  "
      ],
      "metadata": {
        "colab": {
          "base_uri": "https://localhost:8080/"
        },
        "id": "_jn_DEEWDiPv",
        "outputId": "125413ed-cc30-4ba2-f8aa-c52f0a7243ee"
      },
      "execution_count": 23,
      "outputs": [
        {
          "output_type": "execute_result",
          "data": {
            "text/plain": [
              "(Int64Index([279, 57, 281, 121, 149], dtype='int64'),\n",
              " [0.9981383650294038,\n",
              "  0.9980173158673651,\n",
              "  0.9978902093848087,\n",
              "  0.9977206582364168,\n",
              "  0.997664755959038])"
            ]
          },
          "metadata": {},
          "execution_count": 23
        }
      ]
    },
    {
      "cell_type": "code",
      "source": [
        "\n"
      ],
      "metadata": {
        "id": "qrgc1VRVKmvu"
      },
      "execution_count": null,
      "outputs": []
    }
  ]
}