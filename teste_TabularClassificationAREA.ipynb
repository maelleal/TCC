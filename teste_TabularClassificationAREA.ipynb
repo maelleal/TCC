{
  "nbformat": 4,
  "nbformat_minor": 0,
  "metadata": {
    "colab": {
      "provenance": [],
      "authorship_tag": "ABX9TyMjjVcKIhgUMh4I3958ocr3",
      "include_colab_link": true
    },
    "kernelspec": {
      "name": "python3",
      "display_name": "Python 3"
    },
    "language_info": {
      "name": "python"
    }
  },
  "cells": [
    {
      "cell_type": "markdown",
      "metadata": {
        "id": "view-in-github",
        "colab_type": "text"
      },
      "source": [
        "<a href=\"https://colab.research.google.com/github/maelleal/TCC_Recomendacao_INE/blob/main/teste_TabularClassificationAREA.ipynb\" target=\"_parent\"><img src=\"https://colab.research.google.com/assets/colab-badge.svg\" alt=\"Open In Colab\"/></a>"
      ]
    },
    {
      "cell_type": "code",
      "execution_count": 1,
      "metadata": {
        "colab": {
          "base_uri": "https://localhost:8080/"
        },
        "id": "sagEgzKuSo-6",
        "outputId": "1b4f70ff-5738-48d7-85b7-3d266431346e"
      },
      "outputs": [
        {
          "output_type": "stream",
          "name": "stdout",
          "text": [
            "Mounted at /content/drive\n"
          ]
        }
      ],
      "source": [
        "from fastai.tabular.all import *\n",
        "from google.colab import drive\n",
        "drive.mount('/content/drive')"
      ]
    },
    {
      "cell_type": "code",
      "source": [
        "import pandas as pd\n",
        "import numpy as np\n",
        "import pathlib\n",
        "import json\n",
        "from pandas import json_normalize"
      ],
      "metadata": {
        "id": "riPu_csVTTjV"
      },
      "execution_count": 2,
      "outputs": []
    },
    {
      "cell_type": "code",
      "source": [
        "path = pathlib.Path('/content/drive/My Drive/TCC - Sistema recomendação INE')\n",
        "df_test = pd.read_excel(path/'tabela_modelo_medias_v4_test.xlsx')\n",
        "df_test = df_test.drop(columns=['ID_UFSC', 'MATRICULA', 'COD_AREA'])\n",
        "\n",
        "df_test.head(n=8)"
      ],
      "metadata": {
        "id": "X4aIKwTy8Gnt",
        "colab": {
          "base_uri": "https://localhost:8080/",
          "height": 300
        },
        "outputId": "b7d82e8e-64aa-4ad2-f044-794028a148e0"
      },
      "execution_count": 3,
      "outputs": [
        {
          "output_type": "execute_result",
          "data": {
            "text/plain": [
              "                              CURSO          AREA               ORIENTADOR  \\\n",
              "0            CIÊNCIAS DA COMPUTAÇÃO  AREA DEFAULT                      NaN   \n",
              "1            CIÊNCIAS DA COMPUTAÇÃO  AREA DEFAULT  Carlos Becker Westphall   \n",
              "2  SISTEMAS DE INFORMAÇÃO (noturno)  AREA DEFAULT                      NaN   \n",
              "3            CIÊNCIAS DA COMPUTAÇÃO  AREA DEFAULT                      NaN   \n",
              "4            CIÊNCIAS DA COMPUTAÇÃO  AREA DEFAULT                      NaN   \n",
              "5            CIÊNCIAS DA COMPUTAÇÃO  AREA DEFAULT   Frank Augusto Siqueira   \n",
              "6  SISTEMAS DE INFORMAÇÃO (noturno)  AREA DEFAULT                      NaN   \n",
              "7            CIÊNCIAS DA COMPUTAÇÃO  AREA DEFAULT                      NaN   \n",
              "\n",
              "                                                   CLASSIF_AREA  MEDIA_NOTA  \\\n",
              "0                             INE5429 - Segurança em Computação        10.0   \n",
              "1                                                           NaN        10.0   \n",
              "2                                                           NaN         8.5   \n",
              "3                                                           NaN         9.5   \n",
              "4                           INE5624 - Engenharia de Usabilidade        10.0   \n",
              "5                                                           NaN         7.5   \n",
              "6                                                           NaN         7.5   \n",
              "7  INE5650 - Web Semântica, Ontologias e Sistemas de Informação         7.5   \n",
              "\n",
              "   Area1  Area2  Area3  Area4  Area5  Area6  Area7  Area8  Area9  Area10  \\\n",
              "0   7.50   6.00    7.5   7.75   7.67   10.0   7.25   6.75   8.20    7.17   \n",
              "1   9.50   6.50    7.0   7.50   8.13    6.5   7.84   8.50  10.00    7.67   \n",
              "2   9.00   7.40    6.6   8.50   8.00    7.5   7.25   8.63   8.10    7.67   \n",
              "3   8.50   6.00    8.2   7.67   8.00    8.0   7.00   7.50   8.84    7.50   \n",
              "4   8.75   6.50    7.1   6.84   7.50    8.5   6.75   7.50   9.13    7.00   \n",
              "5   8.50   6.00    7.0   6.25   6.50    8.0   7.25   6.00   8.10    7.50   \n",
              "6   7.20   7.34    6.0   7.50   6.00    6.0   9.25   6.34   7.50    7.00   \n",
              "7   7.50   7.00    8.5   8.17   6.67    7.5   7.00   6.75   8.70    7.17   \n",
              "\n",
              "   Area11  Area12  Area13  \n",
              "0    6.88    7.34    8.00  \n",
              "1    7.88    8.10    7.84  \n",
              "2    6.50    7.50    0.00  \n",
              "3    8.13    8.22    8.00  \n",
              "4    6.75    7.34    8.13  \n",
              "5    6.50    6.40    7.00  \n",
              "6    6.90    0.00    0.00  \n",
              "7    7.63    7.34    7.25  "
            ],
            "text/html": [
              "\n",
              "  <div id=\"df-1e8ca17c-5f2d-406f-bfe8-bdc55f32718c\">\n",
              "    <div class=\"colab-df-container\">\n",
              "      <div>\n",
              "<style scoped>\n",
              "    .dataframe tbody tr th:only-of-type {\n",
              "        vertical-align: middle;\n",
              "    }\n",
              "\n",
              "    .dataframe tbody tr th {\n",
              "        vertical-align: top;\n",
              "    }\n",
              "\n",
              "    .dataframe thead th {\n",
              "        text-align: right;\n",
              "    }\n",
              "</style>\n",
              "<table border=\"1\" class=\"dataframe\">\n",
              "  <thead>\n",
              "    <tr style=\"text-align: right;\">\n",
              "      <th></th>\n",
              "      <th>CURSO</th>\n",
              "      <th>AREA</th>\n",
              "      <th>ORIENTADOR</th>\n",
              "      <th>CLASSIF_AREA</th>\n",
              "      <th>MEDIA_NOTA</th>\n",
              "      <th>Area1</th>\n",
              "      <th>Area2</th>\n",
              "      <th>Area3</th>\n",
              "      <th>Area4</th>\n",
              "      <th>Area5</th>\n",
              "      <th>Area6</th>\n",
              "      <th>Area7</th>\n",
              "      <th>Area8</th>\n",
              "      <th>Area9</th>\n",
              "      <th>Area10</th>\n",
              "      <th>Area11</th>\n",
              "      <th>Area12</th>\n",
              "      <th>Area13</th>\n",
              "    </tr>\n",
              "  </thead>\n",
              "  <tbody>\n",
              "    <tr>\n",
              "      <th>0</th>\n",
              "      <td>CIÊNCIAS DA COMPUTAÇÃO</td>\n",
              "      <td>AREA DEFAULT</td>\n",
              "      <td>NaN</td>\n",
              "      <td>INE5429 - Segurança em Computação</td>\n",
              "      <td>10.0</td>\n",
              "      <td>7.50</td>\n",
              "      <td>6.00</td>\n",
              "      <td>7.5</td>\n",
              "      <td>7.75</td>\n",
              "      <td>7.67</td>\n",
              "      <td>10.0</td>\n",
              "      <td>7.25</td>\n",
              "      <td>6.75</td>\n",
              "      <td>8.20</td>\n",
              "      <td>7.17</td>\n",
              "      <td>6.88</td>\n",
              "      <td>7.34</td>\n",
              "      <td>8.00</td>\n",
              "    </tr>\n",
              "    <tr>\n",
              "      <th>1</th>\n",
              "      <td>CIÊNCIAS DA COMPUTAÇÃO</td>\n",
              "      <td>AREA DEFAULT</td>\n",
              "      <td>Carlos Becker Westphall</td>\n",
              "      <td>NaN</td>\n",
              "      <td>10.0</td>\n",
              "      <td>9.50</td>\n",
              "      <td>6.50</td>\n",
              "      <td>7.0</td>\n",
              "      <td>7.50</td>\n",
              "      <td>8.13</td>\n",
              "      <td>6.5</td>\n",
              "      <td>7.84</td>\n",
              "      <td>8.50</td>\n",
              "      <td>10.00</td>\n",
              "      <td>7.67</td>\n",
              "      <td>7.88</td>\n",
              "      <td>8.10</td>\n",
              "      <td>7.84</td>\n",
              "    </tr>\n",
              "    <tr>\n",
              "      <th>2</th>\n",
              "      <td>SISTEMAS DE INFORMAÇÃO (noturno)</td>\n",
              "      <td>AREA DEFAULT</td>\n",
              "      <td>NaN</td>\n",
              "      <td>NaN</td>\n",
              "      <td>8.5</td>\n",
              "      <td>9.00</td>\n",
              "      <td>7.40</td>\n",
              "      <td>6.6</td>\n",
              "      <td>8.50</td>\n",
              "      <td>8.00</td>\n",
              "      <td>7.5</td>\n",
              "      <td>7.25</td>\n",
              "      <td>8.63</td>\n",
              "      <td>8.10</td>\n",
              "      <td>7.67</td>\n",
              "      <td>6.50</td>\n",
              "      <td>7.50</td>\n",
              "      <td>0.00</td>\n",
              "    </tr>\n",
              "    <tr>\n",
              "      <th>3</th>\n",
              "      <td>CIÊNCIAS DA COMPUTAÇÃO</td>\n",
              "      <td>AREA DEFAULT</td>\n",
              "      <td>NaN</td>\n",
              "      <td>NaN</td>\n",
              "      <td>9.5</td>\n",
              "      <td>8.50</td>\n",
              "      <td>6.00</td>\n",
              "      <td>8.2</td>\n",
              "      <td>7.67</td>\n",
              "      <td>8.00</td>\n",
              "      <td>8.0</td>\n",
              "      <td>7.00</td>\n",
              "      <td>7.50</td>\n",
              "      <td>8.84</td>\n",
              "      <td>7.50</td>\n",
              "      <td>8.13</td>\n",
              "      <td>8.22</td>\n",
              "      <td>8.00</td>\n",
              "    </tr>\n",
              "    <tr>\n",
              "      <th>4</th>\n",
              "      <td>CIÊNCIAS DA COMPUTAÇÃO</td>\n",
              "      <td>AREA DEFAULT</td>\n",
              "      <td>NaN</td>\n",
              "      <td>INE5624 - Engenharia de Usabilidade</td>\n",
              "      <td>10.0</td>\n",
              "      <td>8.75</td>\n",
              "      <td>6.50</td>\n",
              "      <td>7.1</td>\n",
              "      <td>6.84</td>\n",
              "      <td>7.50</td>\n",
              "      <td>8.5</td>\n",
              "      <td>6.75</td>\n",
              "      <td>7.50</td>\n",
              "      <td>9.13</td>\n",
              "      <td>7.00</td>\n",
              "      <td>6.75</td>\n",
              "      <td>7.34</td>\n",
              "      <td>8.13</td>\n",
              "    </tr>\n",
              "    <tr>\n",
              "      <th>5</th>\n",
              "      <td>CIÊNCIAS DA COMPUTAÇÃO</td>\n",
              "      <td>AREA DEFAULT</td>\n",
              "      <td>Frank Augusto Siqueira</td>\n",
              "      <td>NaN</td>\n",
              "      <td>7.5</td>\n",
              "      <td>8.50</td>\n",
              "      <td>6.00</td>\n",
              "      <td>7.0</td>\n",
              "      <td>6.25</td>\n",
              "      <td>6.50</td>\n",
              "      <td>8.0</td>\n",
              "      <td>7.25</td>\n",
              "      <td>6.00</td>\n",
              "      <td>8.10</td>\n",
              "      <td>7.50</td>\n",
              "      <td>6.50</td>\n",
              "      <td>6.40</td>\n",
              "      <td>7.00</td>\n",
              "    </tr>\n",
              "    <tr>\n",
              "      <th>6</th>\n",
              "      <td>SISTEMAS DE INFORMAÇÃO (noturno)</td>\n",
              "      <td>AREA DEFAULT</td>\n",
              "      <td>NaN</td>\n",
              "      <td>NaN</td>\n",
              "      <td>7.5</td>\n",
              "      <td>7.20</td>\n",
              "      <td>7.34</td>\n",
              "      <td>6.0</td>\n",
              "      <td>7.50</td>\n",
              "      <td>6.00</td>\n",
              "      <td>6.0</td>\n",
              "      <td>9.25</td>\n",
              "      <td>6.34</td>\n",
              "      <td>7.50</td>\n",
              "      <td>7.00</td>\n",
              "      <td>6.90</td>\n",
              "      <td>0.00</td>\n",
              "      <td>0.00</td>\n",
              "    </tr>\n",
              "    <tr>\n",
              "      <th>7</th>\n",
              "      <td>CIÊNCIAS DA COMPUTAÇÃO</td>\n",
              "      <td>AREA DEFAULT</td>\n",
              "      <td>NaN</td>\n",
              "      <td>INE5650 - Web Semântica, Ontologias e Sistemas de Informação</td>\n",
              "      <td>7.5</td>\n",
              "      <td>7.50</td>\n",
              "      <td>7.00</td>\n",
              "      <td>8.5</td>\n",
              "      <td>8.17</td>\n",
              "      <td>6.67</td>\n",
              "      <td>7.5</td>\n",
              "      <td>7.00</td>\n",
              "      <td>6.75</td>\n",
              "      <td>8.70</td>\n",
              "      <td>7.17</td>\n",
              "      <td>7.63</td>\n",
              "      <td>7.34</td>\n",
              "      <td>7.25</td>\n",
              "    </tr>\n",
              "  </tbody>\n",
              "</table>\n",
              "</div>\n",
              "      <button class=\"colab-df-convert\" onclick=\"convertToInteractive('df-1e8ca17c-5f2d-406f-bfe8-bdc55f32718c')\"\n",
              "              title=\"Convert this dataframe to an interactive table.\"\n",
              "              style=\"display:none;\">\n",
              "        \n",
              "  <svg xmlns=\"http://www.w3.org/2000/svg\" height=\"24px\"viewBox=\"0 0 24 24\"\n",
              "       width=\"24px\">\n",
              "    <path d=\"M0 0h24v24H0V0z\" fill=\"none\"/>\n",
              "    <path d=\"M18.56 5.44l.94 2.06.94-2.06 2.06-.94-2.06-.94-.94-2.06-.94 2.06-2.06.94zm-11 1L8.5 8.5l.94-2.06 2.06-.94-2.06-.94L8.5 2.5l-.94 2.06-2.06.94zm10 10l.94 2.06.94-2.06 2.06-.94-2.06-.94-.94-2.06-.94 2.06-2.06.94z\"/><path d=\"M17.41 7.96l-1.37-1.37c-.4-.4-.92-.59-1.43-.59-.52 0-1.04.2-1.43.59L10.3 9.45l-7.72 7.72c-.78.78-.78 2.05 0 2.83L4 21.41c.39.39.9.59 1.41.59.51 0 1.02-.2 1.41-.59l7.78-7.78 2.81-2.81c.8-.78.8-2.07 0-2.86zM5.41 20L4 18.59l7.72-7.72 1.47 1.35L5.41 20z\"/>\n",
              "  </svg>\n",
              "      </button>\n",
              "      \n",
              "  <style>\n",
              "    .colab-df-container {\n",
              "      display:flex;\n",
              "      flex-wrap:wrap;\n",
              "      gap: 12px;\n",
              "    }\n",
              "\n",
              "    .colab-df-convert {\n",
              "      background-color: #E8F0FE;\n",
              "      border: none;\n",
              "      border-radius: 50%;\n",
              "      cursor: pointer;\n",
              "      display: none;\n",
              "      fill: #1967D2;\n",
              "      height: 32px;\n",
              "      padding: 0 0 0 0;\n",
              "      width: 32px;\n",
              "    }\n",
              "\n",
              "    .colab-df-convert:hover {\n",
              "      background-color: #E2EBFA;\n",
              "      box-shadow: 0px 1px 2px rgba(60, 64, 67, 0.3), 0px 1px 3px 1px rgba(60, 64, 67, 0.15);\n",
              "      fill: #174EA6;\n",
              "    }\n",
              "\n",
              "    [theme=dark] .colab-df-convert {\n",
              "      background-color: #3B4455;\n",
              "      fill: #D2E3FC;\n",
              "    }\n",
              "\n",
              "    [theme=dark] .colab-df-convert:hover {\n",
              "      background-color: #434B5C;\n",
              "      box-shadow: 0px 1px 3px 1px rgba(0, 0, 0, 0.15);\n",
              "      filter: drop-shadow(0px 1px 2px rgba(0, 0, 0, 0.3));\n",
              "      fill: #FFFFFF;\n",
              "    }\n",
              "  </style>\n",
              "\n",
              "      <script>\n",
              "        const buttonEl =\n",
              "          document.querySelector('#df-1e8ca17c-5f2d-406f-bfe8-bdc55f32718c button.colab-df-convert');\n",
              "        buttonEl.style.display =\n",
              "          google.colab.kernel.accessAllowed ? 'block' : 'none';\n",
              "\n",
              "        async function convertToInteractive(key) {\n",
              "          const element = document.querySelector('#df-1e8ca17c-5f2d-406f-bfe8-bdc55f32718c');\n",
              "          const dataTable =\n",
              "            await google.colab.kernel.invokeFunction('convertToInteractive',\n",
              "                                                     [key], {});\n",
              "          if (!dataTable) return;\n",
              "\n",
              "          const docLinkHtml = 'Like what you see? Visit the ' +\n",
              "            '<a target=\"_blank\" href=https://colab.research.google.com/notebooks/data_table.ipynb>data table notebook</a>'\n",
              "            + ' to learn more about interactive tables.';\n",
              "          element.innerHTML = '';\n",
              "          dataTable['output_type'] = 'display_data';\n",
              "          await google.colab.output.renderOutput(dataTable, element);\n",
              "          const docLink = document.createElement('div');\n",
              "          docLink.innerHTML = docLinkHtml;\n",
              "          element.appendChild(docLink);\n",
              "        }\n",
              "      </script>\n",
              "    </div>\n",
              "  </div>\n",
              "  "
            ]
          },
          "metadata": {},
          "execution_count": 3
        }
      ]
    },
    {
      "cell_type": "code",
      "source": [
        "path_learn = pathlib.Path('/content/drive/My Drive/TCC - Sistema recomendação INE')"
      ],
      "metadata": {
        "id": "er5b_oz1TE-j"
      },
      "execution_count": 4,
      "outputs": []
    },
    {
      "cell_type": "code",
      "source": [
        "learn_segundo = load_learner(path_learn/\"modeloParaPredicaoArea.pk1\")\n",
        "learn_segundo.dls.show()"
      ],
      "metadata": {
        "colab": {
          "base_uri": "https://localhost:8080/",
          "height": 50
        },
        "id": "3sY9Zy594BsB",
        "outputId": "8eb5bd08-6ac7-4c35-d281-c2cd82afb604"
      },
      "execution_count": 5,
      "outputs": [
        {
          "output_type": "display_data",
          "data": {
            "text/plain": [
              "<IPython.core.display.HTML object>"
            ],
            "text/html": [
              "<table border=\"1\" class=\"dataframe\">\n",
              "  <thead>\n",
              "    <tr style=\"text-align: right;\">\n",
              "      <th></th>\n",
              "      <th>CURSO</th>\n",
              "      <th>ORIENTADOR</th>\n",
              "      <th>CLASSIF_AREA</th>\n",
              "      <th>Area1</th>\n",
              "      <th>Area2</th>\n",
              "      <th>Area3</th>\n",
              "      <th>Area4</th>\n",
              "      <th>Area5</th>\n",
              "      <th>Area6</th>\n",
              "      <th>Area7</th>\n",
              "      <th>Area8</th>\n",
              "      <th>Area9</th>\n",
              "      <th>Area10</th>\n",
              "      <th>Area11</th>\n",
              "      <th>Area12</th>\n",
              "      <th>Area13</th>\n",
              "      <th>AREA</th>\n",
              "    </tr>\n",
              "  </thead>\n",
              "  <tbody>\n",
              "  </tbody>\n",
              "</table>"
            ]
          },
          "metadata": {}
        }
      ]
    },
    {
      "cell_type": "code",
      "source": [
        "row, cls, probs = learn_segundo.predict(df_test.iloc[0])\n",
        "row.show()\n",
        "cls"
      ],
      "metadata": {
        "colab": {
          "base_uri": "https://localhost:8080/",
          "height": 98
        },
        "id": "jT7BYEp1tISV",
        "outputId": "dd96e8ad-7be7-46f6-a12d-a856c6224e9c"
      },
      "execution_count": 6,
      "outputs": [
        {
          "output_type": "display_data",
          "data": {
            "text/plain": [
              "<IPython.core.display.HTML object>"
            ],
            "text/html": [
              "\n",
              "<style>\n",
              "    /* Turns off some styling */\n",
              "    progress {\n",
              "        /* gets rid of default border in Firefox and Opera. */\n",
              "        border: none;\n",
              "        /* Needs to be in here for Safari polyfill so background images work as expected. */\n",
              "        background-size: auto;\n",
              "    }\n",
              "    progress:not([value]), progress:not([value])::-webkit-progress-bar {\n",
              "        background: repeating-linear-gradient(45deg, #7e7e7e, #7e7e7e 10px, #5c5c5c 10px, #5c5c5c 20px);\n",
              "    }\n",
              "    .progress-bar-interrupted, .progress-bar-interrupted::-webkit-progress-bar {\n",
              "        background: #F44336;\n",
              "    }\n",
              "</style>\n"
            ]
          },
          "metadata": {}
        },
        {
          "output_type": "display_data",
          "data": {
            "text/plain": [
              "<IPython.core.display.HTML object>"
            ],
            "text/html": []
          },
          "metadata": {}
        },
        {
          "output_type": "display_data",
          "data": {
            "text/plain": [
              "<IPython.core.display.HTML object>"
            ],
            "text/html": [
              "<table border=\"1\" class=\"dataframe\">\n",
              "  <thead>\n",
              "    <tr style=\"text-align: right;\">\n",
              "      <th></th>\n",
              "      <th>CURSO</th>\n",
              "      <th>ORIENTADOR</th>\n",
              "      <th>CLASSIF_AREA</th>\n",
              "      <th>Area1</th>\n",
              "      <th>Area2</th>\n",
              "      <th>Area3</th>\n",
              "      <th>Area4</th>\n",
              "      <th>Area5</th>\n",
              "      <th>Area6</th>\n",
              "      <th>Area7</th>\n",
              "      <th>Area8</th>\n",
              "      <th>Area9</th>\n",
              "      <th>Area10</th>\n",
              "      <th>Area11</th>\n",
              "      <th>Area12</th>\n",
              "      <th>Area13</th>\n",
              "      <th>AREA</th>\n",
              "    </tr>\n",
              "  </thead>\n",
              "  <tbody>\n",
              "    <tr>\n",
              "      <th>0</th>\n",
              "      <td>CIÊNCIAS DA COMPUTAÇÃO</td>\n",
              "      <td>#na#</td>\n",
              "      <td>INE5429 - Segurança em Computação</td>\n",
              "      <td>7.5</td>\n",
              "      <td>6.0</td>\n",
              "      <td>7.5</td>\n",
              "      <td>7.75</td>\n",
              "      <td>7.67</td>\n",
              "      <td>10.0</td>\n",
              "      <td>7.25</td>\n",
              "      <td>6.75</td>\n",
              "      <td>8.2</td>\n",
              "      <td>7.17</td>\n",
              "      <td>6.88</td>\n",
              "      <td>7.34</td>\n",
              "      <td>8.0</td>\n",
              "      <td>Redes de Computadores e Segurança</td>\n",
              "    </tr>\n",
              "  </tbody>\n",
              "</table>"
            ]
          },
          "metadata": {}
        },
        {
          "output_type": "execute_result",
          "data": {
            "text/plain": [
              "tensor(7)"
            ]
          },
          "metadata": {},
          "execution_count": 6
        }
      ]
    },
    {
      "cell_type": "code",
      "source": [
        "row, cls, probs = learn_segundo.predict(df_test.iloc[1])\n",
        "row.show()\n",
        "cls"
      ],
      "metadata": {
        "colab": {
          "base_uri": "https://localhost:8080/",
          "height": 98
        },
        "outputId": "3b1ce871-f234-43c1-cc2c-6037770e2188",
        "id": "XSdtH9a4-UQk"
      },
      "execution_count": 7,
      "outputs": [
        {
          "output_type": "display_data",
          "data": {
            "text/plain": [
              "<IPython.core.display.HTML object>"
            ],
            "text/html": [
              "\n",
              "<style>\n",
              "    /* Turns off some styling */\n",
              "    progress {\n",
              "        /* gets rid of default border in Firefox and Opera. */\n",
              "        border: none;\n",
              "        /* Needs to be in here for Safari polyfill so background images work as expected. */\n",
              "        background-size: auto;\n",
              "    }\n",
              "    progress:not([value]), progress:not([value])::-webkit-progress-bar {\n",
              "        background: repeating-linear-gradient(45deg, #7e7e7e, #7e7e7e 10px, #5c5c5c 10px, #5c5c5c 20px);\n",
              "    }\n",
              "    .progress-bar-interrupted, .progress-bar-interrupted::-webkit-progress-bar {\n",
              "        background: #F44336;\n",
              "    }\n",
              "</style>\n"
            ]
          },
          "metadata": {}
        },
        {
          "output_type": "display_data",
          "data": {
            "text/plain": [
              "<IPython.core.display.HTML object>"
            ],
            "text/html": []
          },
          "metadata": {}
        },
        {
          "output_type": "display_data",
          "data": {
            "text/plain": [
              "<IPython.core.display.HTML object>"
            ],
            "text/html": [
              "<table border=\"1\" class=\"dataframe\">\n",
              "  <thead>\n",
              "    <tr style=\"text-align: right;\">\n",
              "      <th></th>\n",
              "      <th>CURSO</th>\n",
              "      <th>ORIENTADOR</th>\n",
              "      <th>CLASSIF_AREA</th>\n",
              "      <th>Area1</th>\n",
              "      <th>Area2</th>\n",
              "      <th>Area3</th>\n",
              "      <th>Area4</th>\n",
              "      <th>Area5</th>\n",
              "      <th>Area6</th>\n",
              "      <th>Area7</th>\n",
              "      <th>Area8</th>\n",
              "      <th>Area9</th>\n",
              "      <th>Area10</th>\n",
              "      <th>Area11</th>\n",
              "      <th>Area12</th>\n",
              "      <th>Area13</th>\n",
              "      <th>AREA</th>\n",
              "    </tr>\n",
              "  </thead>\n",
              "  <tbody>\n",
              "    <tr>\n",
              "      <th>0</th>\n",
              "      <td>CIÊNCIAS DA COMPUTAÇÃO</td>\n",
              "      <td>Carlos Becker Westphall</td>\n",
              "      <td>#na#</td>\n",
              "      <td>9.5</td>\n",
              "      <td>6.5</td>\n",
              "      <td>7.0</td>\n",
              "      <td>7.5</td>\n",
              "      <td>8.13</td>\n",
              "      <td>6.5</td>\n",
              "      <td>7.84</td>\n",
              "      <td>8.5</td>\n",
              "      <td>10.0</td>\n",
              "      <td>7.67</td>\n",
              "      <td>7.88</td>\n",
              "      <td>8.1</td>\n",
              "      <td>7.84</td>\n",
              "      <td>Redes de Computadores e Segurança</td>\n",
              "    </tr>\n",
              "  </tbody>\n",
              "</table>"
            ]
          },
          "metadata": {}
        },
        {
          "output_type": "execute_result",
          "data": {
            "text/plain": [
              "tensor(7)"
            ]
          },
          "metadata": {},
          "execution_count": 7
        }
      ]
    },
    {
      "cell_type": "code",
      "source": [
        "row, cls, probs = learn_segundo.predict(df_test.iloc[2])\n",
        "row.show()\n",
        "cls"
      ],
      "metadata": {
        "colab": {
          "base_uri": "https://localhost:8080/",
          "height": 98
        },
        "outputId": "9ac1359e-4b8c-4a72-e0b7-10808729c945",
        "id": "8SokC0an-Veb"
      },
      "execution_count": 8,
      "outputs": [
        {
          "output_type": "display_data",
          "data": {
            "text/plain": [
              "<IPython.core.display.HTML object>"
            ],
            "text/html": [
              "\n",
              "<style>\n",
              "    /* Turns off some styling */\n",
              "    progress {\n",
              "        /* gets rid of default border in Firefox and Opera. */\n",
              "        border: none;\n",
              "        /* Needs to be in here for Safari polyfill so background images work as expected. */\n",
              "        background-size: auto;\n",
              "    }\n",
              "    progress:not([value]), progress:not([value])::-webkit-progress-bar {\n",
              "        background: repeating-linear-gradient(45deg, #7e7e7e, #7e7e7e 10px, #5c5c5c 10px, #5c5c5c 20px);\n",
              "    }\n",
              "    .progress-bar-interrupted, .progress-bar-interrupted::-webkit-progress-bar {\n",
              "        background: #F44336;\n",
              "    }\n",
              "</style>\n"
            ]
          },
          "metadata": {}
        },
        {
          "output_type": "display_data",
          "data": {
            "text/plain": [
              "<IPython.core.display.HTML object>"
            ],
            "text/html": []
          },
          "metadata": {}
        },
        {
          "output_type": "display_data",
          "data": {
            "text/plain": [
              "<IPython.core.display.HTML object>"
            ],
            "text/html": [
              "<table border=\"1\" class=\"dataframe\">\n",
              "  <thead>\n",
              "    <tr style=\"text-align: right;\">\n",
              "      <th></th>\n",
              "      <th>CURSO</th>\n",
              "      <th>ORIENTADOR</th>\n",
              "      <th>CLASSIF_AREA</th>\n",
              "      <th>Area1</th>\n",
              "      <th>Area2</th>\n",
              "      <th>Area3</th>\n",
              "      <th>Area4</th>\n",
              "      <th>Area5</th>\n",
              "      <th>Area6</th>\n",
              "      <th>Area7</th>\n",
              "      <th>Area8</th>\n",
              "      <th>Area9</th>\n",
              "      <th>Area10</th>\n",
              "      <th>Area11</th>\n",
              "      <th>Area12</th>\n",
              "      <th>Area13</th>\n",
              "      <th>AREA</th>\n",
              "    </tr>\n",
              "  </thead>\n",
              "  <tbody>\n",
              "    <tr>\n",
              "      <th>0</th>\n",
              "      <td>SISTEMAS DE INFORMAÇÃO (noturno)</td>\n",
              "      <td>#na#</td>\n",
              "      <td>#na#</td>\n",
              "      <td>9.0</td>\n",
              "      <td>7.4</td>\n",
              "      <td>6.6</td>\n",
              "      <td>8.5</td>\n",
              "      <td>8.0</td>\n",
              "      <td>7.5</td>\n",
              "      <td>7.25</td>\n",
              "      <td>8.63</td>\n",
              "      <td>8.1</td>\n",
              "      <td>7.67</td>\n",
              "      <td>6.5</td>\n",
              "      <td>7.5</td>\n",
              "      <td>1.215174e-07</td>\n",
              "      <td>Engenharia de Software, Gerência de Projetos</td>\n",
              "    </tr>\n",
              "  </tbody>\n",
              "</table>"
            ]
          },
          "metadata": {}
        },
        {
          "output_type": "execute_result",
          "data": {
            "text/plain": [
              "tensor(2)"
            ]
          },
          "metadata": {},
          "execution_count": 8
        }
      ]
    },
    {
      "cell_type": "code",
      "source": [
        "row, cls, probs = learn_segundo.predict(df_test.iloc[3])\n",
        "row.show()\n",
        "cls"
      ],
      "metadata": {
        "colab": {
          "base_uri": "https://localhost:8080/",
          "height": 98
        },
        "id": "YA-qv19iCHpW",
        "outputId": "c6269ae2-5dc0-4890-b45a-5b27c6268039"
      },
      "execution_count": 9,
      "outputs": [
        {
          "output_type": "display_data",
          "data": {
            "text/plain": [
              "<IPython.core.display.HTML object>"
            ],
            "text/html": [
              "\n",
              "<style>\n",
              "    /* Turns off some styling */\n",
              "    progress {\n",
              "        /* gets rid of default border in Firefox and Opera. */\n",
              "        border: none;\n",
              "        /* Needs to be in here for Safari polyfill so background images work as expected. */\n",
              "        background-size: auto;\n",
              "    }\n",
              "    progress:not([value]), progress:not([value])::-webkit-progress-bar {\n",
              "        background: repeating-linear-gradient(45deg, #7e7e7e, #7e7e7e 10px, #5c5c5c 10px, #5c5c5c 20px);\n",
              "    }\n",
              "    .progress-bar-interrupted, .progress-bar-interrupted::-webkit-progress-bar {\n",
              "        background: #F44336;\n",
              "    }\n",
              "</style>\n"
            ]
          },
          "metadata": {}
        },
        {
          "output_type": "display_data",
          "data": {
            "text/plain": [
              "<IPython.core.display.HTML object>"
            ],
            "text/html": []
          },
          "metadata": {}
        },
        {
          "output_type": "display_data",
          "data": {
            "text/plain": [
              "<IPython.core.display.HTML object>"
            ],
            "text/html": [
              "<table border=\"1\" class=\"dataframe\">\n",
              "  <thead>\n",
              "    <tr style=\"text-align: right;\">\n",
              "      <th></th>\n",
              "      <th>CURSO</th>\n",
              "      <th>ORIENTADOR</th>\n",
              "      <th>CLASSIF_AREA</th>\n",
              "      <th>Area1</th>\n",
              "      <th>Area2</th>\n",
              "      <th>Area3</th>\n",
              "      <th>Area4</th>\n",
              "      <th>Area5</th>\n",
              "      <th>Area6</th>\n",
              "      <th>Area7</th>\n",
              "      <th>Area8</th>\n",
              "      <th>Area9</th>\n",
              "      <th>Area10</th>\n",
              "      <th>Area11</th>\n",
              "      <th>Area12</th>\n",
              "      <th>Area13</th>\n",
              "      <th>AREA</th>\n",
              "    </tr>\n",
              "  </thead>\n",
              "  <tbody>\n",
              "    <tr>\n",
              "      <th>0</th>\n",
              "      <td>CIÊNCIAS DA COMPUTAÇÃO</td>\n",
              "      <td>#na#</td>\n",
              "      <td>#na#</td>\n",
              "      <td>8.5</td>\n",
              "      <td>6.0</td>\n",
              "      <td>8.2</td>\n",
              "      <td>7.67</td>\n",
              "      <td>8.0</td>\n",
              "      <td>8.0</td>\n",
              "      <td>7.0</td>\n",
              "      <td>7.5</td>\n",
              "      <td>8.84</td>\n",
              "      <td>7.5</td>\n",
              "      <td>8.13</td>\n",
              "      <td>8.22</td>\n",
              "      <td>8.0</td>\n",
              "      <td>Teoria da Computação e Linguagens</td>\n",
              "    </tr>\n",
              "  </tbody>\n",
              "</table>"
            ]
          },
          "metadata": {}
        },
        {
          "output_type": "execute_result",
          "data": {
            "text/plain": [
              "tensor(9)"
            ]
          },
          "metadata": {},
          "execution_count": 9
        }
      ]
    },
    {
      "cell_type": "code",
      "source": [
        "row, cls, probs = learn_segundo.predict(df_test.iloc[4])\n",
        "row.show()\n",
        "cls"
      ],
      "metadata": {
        "colab": {
          "base_uri": "https://localhost:8080/",
          "height": 98
        },
        "id": "ANR0Qj6SRjd1",
        "outputId": "dc8d813e-7f51-4489-ffc3-992eaf7afd01"
      },
      "execution_count": 10,
      "outputs": [
        {
          "output_type": "display_data",
          "data": {
            "text/plain": [
              "<IPython.core.display.HTML object>"
            ],
            "text/html": [
              "\n",
              "<style>\n",
              "    /* Turns off some styling */\n",
              "    progress {\n",
              "        /* gets rid of default border in Firefox and Opera. */\n",
              "        border: none;\n",
              "        /* Needs to be in here for Safari polyfill so background images work as expected. */\n",
              "        background-size: auto;\n",
              "    }\n",
              "    progress:not([value]), progress:not([value])::-webkit-progress-bar {\n",
              "        background: repeating-linear-gradient(45deg, #7e7e7e, #7e7e7e 10px, #5c5c5c 10px, #5c5c5c 20px);\n",
              "    }\n",
              "    .progress-bar-interrupted, .progress-bar-interrupted::-webkit-progress-bar {\n",
              "        background: #F44336;\n",
              "    }\n",
              "</style>\n"
            ]
          },
          "metadata": {}
        },
        {
          "output_type": "display_data",
          "data": {
            "text/plain": [
              "<IPython.core.display.HTML object>"
            ],
            "text/html": []
          },
          "metadata": {}
        },
        {
          "output_type": "display_data",
          "data": {
            "text/plain": [
              "<IPython.core.display.HTML object>"
            ],
            "text/html": [
              "<table border=\"1\" class=\"dataframe\">\n",
              "  <thead>\n",
              "    <tr style=\"text-align: right;\">\n",
              "      <th></th>\n",
              "      <th>CURSO</th>\n",
              "      <th>ORIENTADOR</th>\n",
              "      <th>CLASSIF_AREA</th>\n",
              "      <th>Area1</th>\n",
              "      <th>Area2</th>\n",
              "      <th>Area3</th>\n",
              "      <th>Area4</th>\n",
              "      <th>Area5</th>\n",
              "      <th>Area6</th>\n",
              "      <th>Area7</th>\n",
              "      <th>Area8</th>\n",
              "      <th>Area9</th>\n",
              "      <th>Area10</th>\n",
              "      <th>Area11</th>\n",
              "      <th>Area12</th>\n",
              "      <th>Area13</th>\n",
              "      <th>AREA</th>\n",
              "    </tr>\n",
              "  </thead>\n",
              "  <tbody>\n",
              "    <tr>\n",
              "      <th>0</th>\n",
              "      <td>CIÊNCIAS DA COMPUTAÇÃO</td>\n",
              "      <td>#na#</td>\n",
              "      <td>INE5624 - Engenharia de Usabilidade</td>\n",
              "      <td>8.75</td>\n",
              "      <td>6.5</td>\n",
              "      <td>7.1</td>\n",
              "      <td>6.84</td>\n",
              "      <td>7.5</td>\n",
              "      <td>8.5</td>\n",
              "      <td>6.75</td>\n",
              "      <td>7.5</td>\n",
              "      <td>9.13</td>\n",
              "      <td>7.0</td>\n",
              "      <td>6.75</td>\n",
              "      <td>7.34</td>\n",
              "      <td>8.13</td>\n",
              "      <td>Engenharia de Software, Gerência de Projetos</td>\n",
              "    </tr>\n",
              "  </tbody>\n",
              "</table>"
            ]
          },
          "metadata": {}
        },
        {
          "output_type": "execute_result",
          "data": {
            "text/plain": [
              "tensor(2)"
            ]
          },
          "metadata": {},
          "execution_count": 10
        }
      ]
    },
    {
      "cell_type": "code",
      "source": [
        "row, cls, probs = learn_segundo.predict(df_test.iloc[5])\n",
        "row.show()\n",
        "cls"
      ],
      "metadata": {
        "colab": {
          "base_uri": "https://localhost:8080/",
          "height": 98
        },
        "id": "rdcRamc8RjmW",
        "outputId": "db185db7-01e7-455a-82a2-0f810d577976"
      },
      "execution_count": 11,
      "outputs": [
        {
          "output_type": "display_data",
          "data": {
            "text/plain": [
              "<IPython.core.display.HTML object>"
            ],
            "text/html": [
              "\n",
              "<style>\n",
              "    /* Turns off some styling */\n",
              "    progress {\n",
              "        /* gets rid of default border in Firefox and Opera. */\n",
              "        border: none;\n",
              "        /* Needs to be in here for Safari polyfill so background images work as expected. */\n",
              "        background-size: auto;\n",
              "    }\n",
              "    progress:not([value]), progress:not([value])::-webkit-progress-bar {\n",
              "        background: repeating-linear-gradient(45deg, #7e7e7e, #7e7e7e 10px, #5c5c5c 10px, #5c5c5c 20px);\n",
              "    }\n",
              "    .progress-bar-interrupted, .progress-bar-interrupted::-webkit-progress-bar {\n",
              "        background: #F44336;\n",
              "    }\n",
              "</style>\n"
            ]
          },
          "metadata": {}
        },
        {
          "output_type": "display_data",
          "data": {
            "text/plain": [
              "<IPython.core.display.HTML object>"
            ],
            "text/html": []
          },
          "metadata": {}
        },
        {
          "output_type": "display_data",
          "data": {
            "text/plain": [
              "<IPython.core.display.HTML object>"
            ],
            "text/html": [
              "<table border=\"1\" class=\"dataframe\">\n",
              "  <thead>\n",
              "    <tr style=\"text-align: right;\">\n",
              "      <th></th>\n",
              "      <th>CURSO</th>\n",
              "      <th>ORIENTADOR</th>\n",
              "      <th>CLASSIF_AREA</th>\n",
              "      <th>Area1</th>\n",
              "      <th>Area2</th>\n",
              "      <th>Area3</th>\n",
              "      <th>Area4</th>\n",
              "      <th>Area5</th>\n",
              "      <th>Area6</th>\n",
              "      <th>Area7</th>\n",
              "      <th>Area8</th>\n",
              "      <th>Area9</th>\n",
              "      <th>Area10</th>\n",
              "      <th>Area11</th>\n",
              "      <th>Area12</th>\n",
              "      <th>Area13</th>\n",
              "      <th>AREA</th>\n",
              "    </tr>\n",
              "  </thead>\n",
              "  <tbody>\n",
              "    <tr>\n",
              "      <th>0</th>\n",
              "      <td>CIÊNCIAS DA COMPUTAÇÃO</td>\n",
              "      <td>Frank Augusto Siqueira</td>\n",
              "      <td>#na#</td>\n",
              "      <td>8.5</td>\n",
              "      <td>6.0</td>\n",
              "      <td>7.0</td>\n",
              "      <td>6.25</td>\n",
              "      <td>6.5</td>\n",
              "      <td>8.0</td>\n",
              "      <td>7.25</td>\n",
              "      <td>6.0</td>\n",
              "      <td>8.1</td>\n",
              "      <td>7.5</td>\n",
              "      <td>6.5</td>\n",
              "      <td>6.4</td>\n",
              "      <td>7.0</td>\n",
              "      <td>Fundamentos de Programação</td>\n",
              "    </tr>\n",
              "  </tbody>\n",
              "</table>"
            ]
          },
          "metadata": {}
        },
        {
          "output_type": "execute_result",
          "data": {
            "text/plain": [
              "tensor(4)"
            ]
          },
          "metadata": {},
          "execution_count": 11
        }
      ]
    },
    {
      "cell_type": "code",
      "source": [
        "row, cls, probs = learn_segundo.predict(df_test.iloc[6])\n",
        "row.show()\n",
        "cls"
      ],
      "metadata": {
        "colab": {
          "base_uri": "https://localhost:8080/",
          "height": 98
        },
        "id": "beQuOwZylvM0",
        "outputId": "6f117bd9-df6d-4611-d51c-d0caf300e3fb"
      },
      "execution_count": 12,
      "outputs": [
        {
          "output_type": "display_data",
          "data": {
            "text/plain": [
              "<IPython.core.display.HTML object>"
            ],
            "text/html": [
              "\n",
              "<style>\n",
              "    /* Turns off some styling */\n",
              "    progress {\n",
              "        /* gets rid of default border in Firefox and Opera. */\n",
              "        border: none;\n",
              "        /* Needs to be in here for Safari polyfill so background images work as expected. */\n",
              "        background-size: auto;\n",
              "    }\n",
              "    progress:not([value]), progress:not([value])::-webkit-progress-bar {\n",
              "        background: repeating-linear-gradient(45deg, #7e7e7e, #7e7e7e 10px, #5c5c5c 10px, #5c5c5c 20px);\n",
              "    }\n",
              "    .progress-bar-interrupted, .progress-bar-interrupted::-webkit-progress-bar {\n",
              "        background: #F44336;\n",
              "    }\n",
              "</style>\n"
            ]
          },
          "metadata": {}
        },
        {
          "output_type": "display_data",
          "data": {
            "text/plain": [
              "<IPython.core.display.HTML object>"
            ],
            "text/html": []
          },
          "metadata": {}
        },
        {
          "output_type": "display_data",
          "data": {
            "text/plain": [
              "<IPython.core.display.HTML object>"
            ],
            "text/html": [
              "<table border=\"1\" class=\"dataframe\">\n",
              "  <thead>\n",
              "    <tr style=\"text-align: right;\">\n",
              "      <th></th>\n",
              "      <th>CURSO</th>\n",
              "      <th>ORIENTADOR</th>\n",
              "      <th>CLASSIF_AREA</th>\n",
              "      <th>Area1</th>\n",
              "      <th>Area2</th>\n",
              "      <th>Area3</th>\n",
              "      <th>Area4</th>\n",
              "      <th>Area5</th>\n",
              "      <th>Area6</th>\n",
              "      <th>Area7</th>\n",
              "      <th>Area8</th>\n",
              "      <th>Area9</th>\n",
              "      <th>Area10</th>\n",
              "      <th>Area11</th>\n",
              "      <th>Area12</th>\n",
              "      <th>Area13</th>\n",
              "      <th>AREA</th>\n",
              "    </tr>\n",
              "  </thead>\n",
              "  <tbody>\n",
              "    <tr>\n",
              "      <th>0</th>\n",
              "      <td>SISTEMAS DE INFORMAÇÃO (noturno)</td>\n",
              "      <td>#na#</td>\n",
              "      <td>#na#</td>\n",
              "      <td>7.2</td>\n",
              "      <td>7.34</td>\n",
              "      <td>6.0</td>\n",
              "      <td>7.5</td>\n",
              "      <td>6.0</td>\n",
              "      <td>6.0</td>\n",
              "      <td>9.25</td>\n",
              "      <td>6.34</td>\n",
              "      <td>7.5</td>\n",
              "      <td>7.0</td>\n",
              "      <td>6.9</td>\n",
              "      <td>-2.052376e-07</td>\n",
              "      <td>1.215174e-07</td>\n",
              "      <td>Engenharia de Software, Gerência de Projetos</td>\n",
              "    </tr>\n",
              "  </tbody>\n",
              "</table>"
            ]
          },
          "metadata": {}
        },
        {
          "output_type": "execute_result",
          "data": {
            "text/plain": [
              "tensor(2)"
            ]
          },
          "metadata": {},
          "execution_count": 12
        }
      ]
    },
    {
      "cell_type": "code",
      "source": [
        "row, cls, probs = learn_segundo.predict(df_test.iloc[7])\n",
        "row.show()\n",
        "cls"
      ],
      "metadata": {
        "colab": {
          "base_uri": "https://localhost:8080/",
          "height": 98
        },
        "id": "kYqFMLt8lvUq",
        "outputId": "43e845de-dc90-4685-867f-7b82f39fdc0b"
      },
      "execution_count": 13,
      "outputs": [
        {
          "output_type": "display_data",
          "data": {
            "text/plain": [
              "<IPython.core.display.HTML object>"
            ],
            "text/html": [
              "\n",
              "<style>\n",
              "    /* Turns off some styling */\n",
              "    progress {\n",
              "        /* gets rid of default border in Firefox and Opera. */\n",
              "        border: none;\n",
              "        /* Needs to be in here for Safari polyfill so background images work as expected. */\n",
              "        background-size: auto;\n",
              "    }\n",
              "    progress:not([value]), progress:not([value])::-webkit-progress-bar {\n",
              "        background: repeating-linear-gradient(45deg, #7e7e7e, #7e7e7e 10px, #5c5c5c 10px, #5c5c5c 20px);\n",
              "    }\n",
              "    .progress-bar-interrupted, .progress-bar-interrupted::-webkit-progress-bar {\n",
              "        background: #F44336;\n",
              "    }\n",
              "</style>\n"
            ]
          },
          "metadata": {}
        },
        {
          "output_type": "display_data",
          "data": {
            "text/plain": [
              "<IPython.core.display.HTML object>"
            ],
            "text/html": []
          },
          "metadata": {}
        },
        {
          "output_type": "display_data",
          "data": {
            "text/plain": [
              "<IPython.core.display.HTML object>"
            ],
            "text/html": [
              "<table border=\"1\" class=\"dataframe\">\n",
              "  <thead>\n",
              "    <tr style=\"text-align: right;\">\n",
              "      <th></th>\n",
              "      <th>CURSO</th>\n",
              "      <th>ORIENTADOR</th>\n",
              "      <th>CLASSIF_AREA</th>\n",
              "      <th>Area1</th>\n",
              "      <th>Area2</th>\n",
              "      <th>Area3</th>\n",
              "      <th>Area4</th>\n",
              "      <th>Area5</th>\n",
              "      <th>Area6</th>\n",
              "      <th>Area7</th>\n",
              "      <th>Area8</th>\n",
              "      <th>Area9</th>\n",
              "      <th>Area10</th>\n",
              "      <th>Area11</th>\n",
              "      <th>Area12</th>\n",
              "      <th>Area13</th>\n",
              "      <th>AREA</th>\n",
              "    </tr>\n",
              "  </thead>\n",
              "  <tbody>\n",
              "    <tr>\n",
              "      <th>0</th>\n",
              "      <td>CIÊNCIAS DA COMPUTAÇÃO</td>\n",
              "      <td>#na#</td>\n",
              "      <td>INE5650 - Web Semântica, Ontologias e Sistemas de Informação</td>\n",
              "      <td>7.5</td>\n",
              "      <td>7.0</td>\n",
              "      <td>8.5</td>\n",
              "      <td>8.17</td>\n",
              "      <td>6.67</td>\n",
              "      <td>7.5</td>\n",
              "      <td>7.0</td>\n",
              "      <td>6.75</td>\n",
              "      <td>8.7</td>\n",
              "      <td>7.17</td>\n",
              "      <td>7.63</td>\n",
              "      <td>7.34</td>\n",
              "      <td>7.25</td>\n",
              "      <td>Tratamento e Banco de Dados</td>\n",
              "    </tr>\n",
              "  </tbody>\n",
              "</table>"
            ]
          },
          "metadata": {}
        },
        {
          "output_type": "execute_result",
          "data": {
            "text/plain": [
              "tensor(10)"
            ]
          },
          "metadata": {},
          "execution_count": 13
        }
      ]
    },
    {
      "cell_type": "code",
      "source": [
        "row, cls, probs = learn_segundo.predict(df_test.iloc[8])\n",
        "row.show()\n",
        "cls"
      ],
      "metadata": {
        "colab": {
          "base_uri": "https://localhost:8080/",
          "height": 98
        },
        "id": "JZ3HjUBqlvav",
        "outputId": "733ab6e4-4208-44b7-fa44-08edd8b61672"
      },
      "execution_count": 14,
      "outputs": [
        {
          "output_type": "display_data",
          "data": {
            "text/plain": [
              "<IPython.core.display.HTML object>"
            ],
            "text/html": [
              "\n",
              "<style>\n",
              "    /* Turns off some styling */\n",
              "    progress {\n",
              "        /* gets rid of default border in Firefox and Opera. */\n",
              "        border: none;\n",
              "        /* Needs to be in here for Safari polyfill so background images work as expected. */\n",
              "        background-size: auto;\n",
              "    }\n",
              "    progress:not([value]), progress:not([value])::-webkit-progress-bar {\n",
              "        background: repeating-linear-gradient(45deg, #7e7e7e, #7e7e7e 10px, #5c5c5c 10px, #5c5c5c 20px);\n",
              "    }\n",
              "    .progress-bar-interrupted, .progress-bar-interrupted::-webkit-progress-bar {\n",
              "        background: #F44336;\n",
              "    }\n",
              "</style>\n"
            ]
          },
          "metadata": {}
        },
        {
          "output_type": "display_data",
          "data": {
            "text/plain": [
              "<IPython.core.display.HTML object>"
            ],
            "text/html": []
          },
          "metadata": {}
        },
        {
          "output_type": "display_data",
          "data": {
            "text/plain": [
              "<IPython.core.display.HTML object>"
            ],
            "text/html": [
              "<table border=\"1\" class=\"dataframe\">\n",
              "  <thead>\n",
              "    <tr style=\"text-align: right;\">\n",
              "      <th></th>\n",
              "      <th>CURSO</th>\n",
              "      <th>ORIENTADOR</th>\n",
              "      <th>CLASSIF_AREA</th>\n",
              "      <th>Area1</th>\n",
              "      <th>Area2</th>\n",
              "      <th>Area3</th>\n",
              "      <th>Area4</th>\n",
              "      <th>Area5</th>\n",
              "      <th>Area6</th>\n",
              "      <th>Area7</th>\n",
              "      <th>Area8</th>\n",
              "      <th>Area9</th>\n",
              "      <th>Area10</th>\n",
              "      <th>Area11</th>\n",
              "      <th>Area12</th>\n",
              "      <th>Area13</th>\n",
              "      <th>AREA</th>\n",
              "    </tr>\n",
              "  </thead>\n",
              "  <tbody>\n",
              "    <tr>\n",
              "      <th>0</th>\n",
              "      <td>SISTEMAS DE INFORMAÇÃO (noturno)</td>\n",
              "      <td>#na#</td>\n",
              "      <td>#na#</td>\n",
              "      <td>8.08</td>\n",
              "      <td>8.34</td>\n",
              "      <td>6.0</td>\n",
              "      <td>6.5</td>\n",
              "      <td>7.0</td>\n",
              "      <td>7.5</td>\n",
              "      <td>10.0</td>\n",
              "      <td>8.5</td>\n",
              "      <td>8.5</td>\n",
              "      <td>6.84</td>\n",
              "      <td>7.7</td>\n",
              "      <td>-2.052376e-07</td>\n",
              "      <td>1.215174e-07</td>\n",
              "      <td>Fundamentos de Programação</td>\n",
              "    </tr>\n",
              "  </tbody>\n",
              "</table>"
            ]
          },
          "metadata": {}
        },
        {
          "output_type": "execute_result",
          "data": {
            "text/plain": [
              "tensor(4)"
            ]
          },
          "metadata": {},
          "execution_count": 14
        }
      ]
    },
    {
      "cell_type": "code",
      "source": [
        "row, cls, probs = learn_segundo.predict(df_test.iloc[9])\n",
        "row.show()\n",
        "cls"
      ],
      "metadata": {
        "colab": {
          "base_uri": "https://localhost:8080/",
          "height": 98
        },
        "id": "28O8Qs8tlvg4",
        "outputId": "611b2bbd-e498-42c4-cffb-c070c4428a1c"
      },
      "execution_count": 15,
      "outputs": [
        {
          "output_type": "display_data",
          "data": {
            "text/plain": [
              "<IPython.core.display.HTML object>"
            ],
            "text/html": [
              "\n",
              "<style>\n",
              "    /* Turns off some styling */\n",
              "    progress {\n",
              "        /* gets rid of default border in Firefox and Opera. */\n",
              "        border: none;\n",
              "        /* Needs to be in here for Safari polyfill so background images work as expected. */\n",
              "        background-size: auto;\n",
              "    }\n",
              "    progress:not([value]), progress:not([value])::-webkit-progress-bar {\n",
              "        background: repeating-linear-gradient(45deg, #7e7e7e, #7e7e7e 10px, #5c5c5c 10px, #5c5c5c 20px);\n",
              "    }\n",
              "    .progress-bar-interrupted, .progress-bar-interrupted::-webkit-progress-bar {\n",
              "        background: #F44336;\n",
              "    }\n",
              "</style>\n"
            ]
          },
          "metadata": {}
        },
        {
          "output_type": "display_data",
          "data": {
            "text/plain": [
              "<IPython.core.display.HTML object>"
            ],
            "text/html": []
          },
          "metadata": {}
        },
        {
          "output_type": "display_data",
          "data": {
            "text/plain": [
              "<IPython.core.display.HTML object>"
            ],
            "text/html": [
              "<table border=\"1\" class=\"dataframe\">\n",
              "  <thead>\n",
              "    <tr style=\"text-align: right;\">\n",
              "      <th></th>\n",
              "      <th>CURSO</th>\n",
              "      <th>ORIENTADOR</th>\n",
              "      <th>CLASSIF_AREA</th>\n",
              "      <th>Area1</th>\n",
              "      <th>Area2</th>\n",
              "      <th>Area3</th>\n",
              "      <th>Area4</th>\n",
              "      <th>Area5</th>\n",
              "      <th>Area6</th>\n",
              "      <th>Area7</th>\n",
              "      <th>Area8</th>\n",
              "      <th>Area9</th>\n",
              "      <th>Area10</th>\n",
              "      <th>Area11</th>\n",
              "      <th>Area12</th>\n",
              "      <th>Area13</th>\n",
              "      <th>AREA</th>\n",
              "    </tr>\n",
              "  </thead>\n",
              "  <tbody>\n",
              "    <tr>\n",
              "      <th>0</th>\n",
              "      <td>SISTEMAS DE INFORMAÇÃO (noturno)</td>\n",
              "      <td>#na#</td>\n",
              "      <td>#na#</td>\n",
              "      <td>7.25</td>\n",
              "      <td>6.75</td>\n",
              "      <td>6.0</td>\n",
              "      <td>6.5</td>\n",
              "      <td>6.0</td>\n",
              "      <td>6.25</td>\n",
              "      <td>9.25</td>\n",
              "      <td>7.0</td>\n",
              "      <td>7.67</td>\n",
              "      <td>7.0</td>\n",
              "      <td>7.86</td>\n",
              "      <td>-2.052376e-07</td>\n",
              "      <td>1.215174e-07</td>\n",
              "      <td>Engenharia de Software, Gerência de Projetos</td>\n",
              "    </tr>\n",
              "  </tbody>\n",
              "</table>"
            ]
          },
          "metadata": {}
        },
        {
          "output_type": "execute_result",
          "data": {
            "text/plain": [
              "tensor(2)"
            ]
          },
          "metadata": {},
          "execution_count": 15
        }
      ]
    },
    {
      "cell_type": "code",
      "source": [
        "row, cls, probs = learn_segundo.predict(df_test.iloc[10])\n",
        "row.show()\n",
        "cls"
      ],
      "metadata": {
        "colab": {
          "base_uri": "https://localhost:8080/",
          "height": 98
        },
        "id": "pNvuPcoLlvnp",
        "outputId": "65853cf3-564f-4d88-b853-5458ef38917d"
      },
      "execution_count": 16,
      "outputs": [
        {
          "output_type": "display_data",
          "data": {
            "text/plain": [
              "<IPython.core.display.HTML object>"
            ],
            "text/html": [
              "\n",
              "<style>\n",
              "    /* Turns off some styling */\n",
              "    progress {\n",
              "        /* gets rid of default border in Firefox and Opera. */\n",
              "        border: none;\n",
              "        /* Needs to be in here for Safari polyfill so background images work as expected. */\n",
              "        background-size: auto;\n",
              "    }\n",
              "    progress:not([value]), progress:not([value])::-webkit-progress-bar {\n",
              "        background: repeating-linear-gradient(45deg, #7e7e7e, #7e7e7e 10px, #5c5c5c 10px, #5c5c5c 20px);\n",
              "    }\n",
              "    .progress-bar-interrupted, .progress-bar-interrupted::-webkit-progress-bar {\n",
              "        background: #F44336;\n",
              "    }\n",
              "</style>\n"
            ]
          },
          "metadata": {}
        },
        {
          "output_type": "display_data",
          "data": {
            "text/plain": [
              "<IPython.core.display.HTML object>"
            ],
            "text/html": []
          },
          "metadata": {}
        },
        {
          "output_type": "display_data",
          "data": {
            "text/plain": [
              "<IPython.core.display.HTML object>"
            ],
            "text/html": [
              "<table border=\"1\" class=\"dataframe\">\n",
              "  <thead>\n",
              "    <tr style=\"text-align: right;\">\n",
              "      <th></th>\n",
              "      <th>CURSO</th>\n",
              "      <th>ORIENTADOR</th>\n",
              "      <th>CLASSIF_AREA</th>\n",
              "      <th>Area1</th>\n",
              "      <th>Area2</th>\n",
              "      <th>Area3</th>\n",
              "      <th>Area4</th>\n",
              "      <th>Area5</th>\n",
              "      <th>Area6</th>\n",
              "      <th>Area7</th>\n",
              "      <th>Area8</th>\n",
              "      <th>Area9</th>\n",
              "      <th>Area10</th>\n",
              "      <th>Area11</th>\n",
              "      <th>Area12</th>\n",
              "      <th>Area13</th>\n",
              "      <th>AREA</th>\n",
              "    </tr>\n",
              "  </thead>\n",
              "  <tbody>\n",
              "    <tr>\n",
              "      <th>0</th>\n",
              "      <td>SISTEMAS DE INFORMAÇÃO (noturno)</td>\n",
              "      <td>#na#</td>\n",
              "      <td>#na#</td>\n",
              "      <td>8.75</td>\n",
              "      <td>7.7</td>\n",
              "      <td>7.7</td>\n",
              "      <td>6.5</td>\n",
              "      <td>6.0</td>\n",
              "      <td>6.5</td>\n",
              "      <td>6.75</td>\n",
              "      <td>7.34</td>\n",
              "      <td>7.0</td>\n",
              "      <td>8.34</td>\n",
              "      <td>7.0</td>\n",
              "      <td>7.82</td>\n",
              "      <td>1.215174e-07</td>\n",
              "      <td>Tratamento e Banco de Dados</td>\n",
              "    </tr>\n",
              "  </tbody>\n",
              "</table>"
            ]
          },
          "metadata": {}
        },
        {
          "output_type": "execute_result",
          "data": {
            "text/plain": [
              "tensor(10)"
            ]
          },
          "metadata": {},
          "execution_count": 16
        }
      ]
    },
    {
      "cell_type": "code",
      "source": [
        "row, cls, probs = learn_segundo.predict(df_test.iloc[11])\n",
        "row.show()\n",
        "cls"
      ],
      "metadata": {
        "colab": {
          "base_uri": "https://localhost:8080/",
          "height": 98
        },
        "id": "XjERErtllvte",
        "outputId": "07aeaf1e-35e6-46c2-c09c-16dccb57aabb"
      },
      "execution_count": 17,
      "outputs": [
        {
          "output_type": "display_data",
          "data": {
            "text/plain": [
              "<IPython.core.display.HTML object>"
            ],
            "text/html": [
              "\n",
              "<style>\n",
              "    /* Turns off some styling */\n",
              "    progress {\n",
              "        /* gets rid of default border in Firefox and Opera. */\n",
              "        border: none;\n",
              "        /* Needs to be in here for Safari polyfill so background images work as expected. */\n",
              "        background-size: auto;\n",
              "    }\n",
              "    progress:not([value]), progress:not([value])::-webkit-progress-bar {\n",
              "        background: repeating-linear-gradient(45deg, #7e7e7e, #7e7e7e 10px, #5c5c5c 10px, #5c5c5c 20px);\n",
              "    }\n",
              "    .progress-bar-interrupted, .progress-bar-interrupted::-webkit-progress-bar {\n",
              "        background: #F44336;\n",
              "    }\n",
              "</style>\n"
            ]
          },
          "metadata": {}
        },
        {
          "output_type": "display_data",
          "data": {
            "text/plain": [
              "<IPython.core.display.HTML object>"
            ],
            "text/html": []
          },
          "metadata": {}
        },
        {
          "output_type": "display_data",
          "data": {
            "text/plain": [
              "<IPython.core.display.HTML object>"
            ],
            "text/html": [
              "<table border=\"1\" class=\"dataframe\">\n",
              "  <thead>\n",
              "    <tr style=\"text-align: right;\">\n",
              "      <th></th>\n",
              "      <th>CURSO</th>\n",
              "      <th>ORIENTADOR</th>\n",
              "      <th>CLASSIF_AREA</th>\n",
              "      <th>Area1</th>\n",
              "      <th>Area2</th>\n",
              "      <th>Area3</th>\n",
              "      <th>Area4</th>\n",
              "      <th>Area5</th>\n",
              "      <th>Area6</th>\n",
              "      <th>Area7</th>\n",
              "      <th>Area8</th>\n",
              "      <th>Area9</th>\n",
              "      <th>Area10</th>\n",
              "      <th>Area11</th>\n",
              "      <th>Area12</th>\n",
              "      <th>Area13</th>\n",
              "      <th>AREA</th>\n",
              "    </tr>\n",
              "  </thead>\n",
              "  <tbody>\n",
              "    <tr>\n",
              "      <th>0</th>\n",
              "      <td>SISTEMAS DE INFORMAÇÃO (noturno)</td>\n",
              "      <td>Elder Rizzon Santos</td>\n",
              "      <td>INE5428 - Informática e Sociedade</td>\n",
              "      <td>7.8</td>\n",
              "      <td>7.34</td>\n",
              "      <td>7.5</td>\n",
              "      <td>7.5</td>\n",
              "      <td>6.5</td>\n",
              "      <td>6.5</td>\n",
              "      <td>7.5</td>\n",
              "      <td>8.25</td>\n",
              "      <td>7.17</td>\n",
              "      <td>6.88</td>\n",
              "      <td>8.09</td>\n",
              "      <td>-2.052376e-07</td>\n",
              "      <td>1.215174e-07</td>\n",
              "      <td>Ciência, Tecnologia, Sociedade e Emprendedorismo</td>\n",
              "    </tr>\n",
              "  </tbody>\n",
              "</table>"
            ]
          },
          "metadata": {}
        },
        {
          "output_type": "execute_result",
          "data": {
            "text/plain": [
              "tensor(1)"
            ]
          },
          "metadata": {},
          "execution_count": 17
        }
      ]
    },
    {
      "cell_type": "code",
      "source": [
        "row, cls, probs = learn_segundo.predict(df_test.iloc[12])\n",
        "row.show()\n",
        "cls"
      ],
      "metadata": {
        "colab": {
          "base_uri": "https://localhost:8080/",
          "height": 98
        },
        "id": "rfTbFOW-lvzx",
        "outputId": "ca567350-7a8f-4aed-a4ec-f83ef32861d2"
      },
      "execution_count": 18,
      "outputs": [
        {
          "output_type": "display_data",
          "data": {
            "text/plain": [
              "<IPython.core.display.HTML object>"
            ],
            "text/html": [
              "\n",
              "<style>\n",
              "    /* Turns off some styling */\n",
              "    progress {\n",
              "        /* gets rid of default border in Firefox and Opera. */\n",
              "        border: none;\n",
              "        /* Needs to be in here for Safari polyfill so background images work as expected. */\n",
              "        background-size: auto;\n",
              "    }\n",
              "    progress:not([value]), progress:not([value])::-webkit-progress-bar {\n",
              "        background: repeating-linear-gradient(45deg, #7e7e7e, #7e7e7e 10px, #5c5c5c 10px, #5c5c5c 20px);\n",
              "    }\n",
              "    .progress-bar-interrupted, .progress-bar-interrupted::-webkit-progress-bar {\n",
              "        background: #F44336;\n",
              "    }\n",
              "</style>\n"
            ]
          },
          "metadata": {}
        },
        {
          "output_type": "display_data",
          "data": {
            "text/plain": [
              "<IPython.core.display.HTML object>"
            ],
            "text/html": []
          },
          "metadata": {}
        },
        {
          "output_type": "display_data",
          "data": {
            "text/plain": [
              "<IPython.core.display.HTML object>"
            ],
            "text/html": [
              "<table border=\"1\" class=\"dataframe\">\n",
              "  <thead>\n",
              "    <tr style=\"text-align: right;\">\n",
              "      <th></th>\n",
              "      <th>CURSO</th>\n",
              "      <th>ORIENTADOR</th>\n",
              "      <th>CLASSIF_AREA</th>\n",
              "      <th>Area1</th>\n",
              "      <th>Area2</th>\n",
              "      <th>Area3</th>\n",
              "      <th>Area4</th>\n",
              "      <th>Area5</th>\n",
              "      <th>Area6</th>\n",
              "      <th>Area7</th>\n",
              "      <th>Area8</th>\n",
              "      <th>Area9</th>\n",
              "      <th>Area10</th>\n",
              "      <th>Area11</th>\n",
              "      <th>Area12</th>\n",
              "      <th>Area13</th>\n",
              "      <th>AREA</th>\n",
              "    </tr>\n",
              "  </thead>\n",
              "  <tbody>\n",
              "    <tr>\n",
              "      <th>0</th>\n",
              "      <td>SISTEMAS DE INFORMAÇÃO (noturno)</td>\n",
              "      <td>Ronaldo dos Santos Mello</td>\n",
              "      <td>INE5454 - Tópicos Especiais em Gerência de Dados</td>\n",
              "      <td>8.5</td>\n",
              "      <td>8.6</td>\n",
              "      <td>8.4</td>\n",
              "      <td>8.5</td>\n",
              "      <td>8.0</td>\n",
              "      <td>7.5</td>\n",
              "      <td>6.75</td>\n",
              "      <td>8.17</td>\n",
              "      <td>8.6</td>\n",
              "      <td>8.67</td>\n",
              "      <td>6.5</td>\n",
              "      <td>7.69</td>\n",
              "      <td>1.215174e-07</td>\n",
              "      <td>Tratamento e Banco de Dados</td>\n",
              "    </tr>\n",
              "  </tbody>\n",
              "</table>"
            ]
          },
          "metadata": {}
        },
        {
          "output_type": "execute_result",
          "data": {
            "text/plain": [
              "tensor(10)"
            ]
          },
          "metadata": {},
          "execution_count": 18
        }
      ]
    },
    {
      "cell_type": "code",
      "source": [
        "row, cls, probs = learn_segundo.predict(df_test.iloc[13])\n",
        "row.show()\n",
        "cls"
      ],
      "metadata": {
        "colab": {
          "base_uri": "https://localhost:8080/",
          "height": 98
        },
        "id": "QiUFLk9mlv6J",
        "outputId": "e229c8be-36d6-48fe-9a6f-3faef6f859a3"
      },
      "execution_count": 19,
      "outputs": [
        {
          "output_type": "display_data",
          "data": {
            "text/plain": [
              "<IPython.core.display.HTML object>"
            ],
            "text/html": [
              "\n",
              "<style>\n",
              "    /* Turns off some styling */\n",
              "    progress {\n",
              "        /* gets rid of default border in Firefox and Opera. */\n",
              "        border: none;\n",
              "        /* Needs to be in here for Safari polyfill so background images work as expected. */\n",
              "        background-size: auto;\n",
              "    }\n",
              "    progress:not([value]), progress:not([value])::-webkit-progress-bar {\n",
              "        background: repeating-linear-gradient(45deg, #7e7e7e, #7e7e7e 10px, #5c5c5c 10px, #5c5c5c 20px);\n",
              "    }\n",
              "    .progress-bar-interrupted, .progress-bar-interrupted::-webkit-progress-bar {\n",
              "        background: #F44336;\n",
              "    }\n",
              "</style>\n"
            ]
          },
          "metadata": {}
        },
        {
          "output_type": "display_data",
          "data": {
            "text/plain": [
              "<IPython.core.display.HTML object>"
            ],
            "text/html": []
          },
          "metadata": {}
        },
        {
          "output_type": "display_data",
          "data": {
            "text/plain": [
              "<IPython.core.display.HTML object>"
            ],
            "text/html": [
              "<table border=\"1\" class=\"dataframe\">\n",
              "  <thead>\n",
              "    <tr style=\"text-align: right;\">\n",
              "      <th></th>\n",
              "      <th>CURSO</th>\n",
              "      <th>ORIENTADOR</th>\n",
              "      <th>CLASSIF_AREA</th>\n",
              "      <th>Area1</th>\n",
              "      <th>Area2</th>\n",
              "      <th>Area3</th>\n",
              "      <th>Area4</th>\n",
              "      <th>Area5</th>\n",
              "      <th>Area6</th>\n",
              "      <th>Area7</th>\n",
              "      <th>Area8</th>\n",
              "      <th>Area9</th>\n",
              "      <th>Area10</th>\n",
              "      <th>Area11</th>\n",
              "      <th>Area12</th>\n",
              "      <th>Area13</th>\n",
              "      <th>AREA</th>\n",
              "    </tr>\n",
              "  </thead>\n",
              "  <tbody>\n",
              "    <tr>\n",
              "      <th>0</th>\n",
              "      <td>CIÊNCIAS DA COMPUTAÇÃO</td>\n",
              "      <td>#na#</td>\n",
              "      <td>#na#</td>\n",
              "      <td>9.0</td>\n",
              "      <td>8.5</td>\n",
              "      <td>8.63</td>\n",
              "      <td>8.67</td>\n",
              "      <td>7.34</td>\n",
              "      <td>10.0</td>\n",
              "      <td>7.5</td>\n",
              "      <td>9.0</td>\n",
              "      <td>8.3</td>\n",
              "      <td>7.5</td>\n",
              "      <td>8.38</td>\n",
              "      <td>8.5</td>\n",
              "      <td>8.75</td>\n",
              "      <td>Tratamento e Banco de Dados</td>\n",
              "    </tr>\n",
              "  </tbody>\n",
              "</table>"
            ]
          },
          "metadata": {}
        },
        {
          "output_type": "execute_result",
          "data": {
            "text/plain": [
              "tensor(10)"
            ]
          },
          "metadata": {},
          "execution_count": 19
        }
      ]
    },
    {
      "cell_type": "code",
      "source": [
        "row, cls, probs = learn_segundo.predict(df_test.iloc[14])\n",
        "row.show()\n",
        "cls"
      ],
      "metadata": {
        "colab": {
          "base_uri": "https://localhost:8080/",
          "height": 98
        },
        "id": "jZysnE3vlwA7",
        "outputId": "f86d4f02-7f88-40b1-b927-5429830c5591"
      },
      "execution_count": 20,
      "outputs": [
        {
          "output_type": "display_data",
          "data": {
            "text/plain": [
              "<IPython.core.display.HTML object>"
            ],
            "text/html": [
              "\n",
              "<style>\n",
              "    /* Turns off some styling */\n",
              "    progress {\n",
              "        /* gets rid of default border in Firefox and Opera. */\n",
              "        border: none;\n",
              "        /* Needs to be in here for Safari polyfill so background images work as expected. */\n",
              "        background-size: auto;\n",
              "    }\n",
              "    progress:not([value]), progress:not([value])::-webkit-progress-bar {\n",
              "        background: repeating-linear-gradient(45deg, #7e7e7e, #7e7e7e 10px, #5c5c5c 10px, #5c5c5c 20px);\n",
              "    }\n",
              "    .progress-bar-interrupted, .progress-bar-interrupted::-webkit-progress-bar {\n",
              "        background: #F44336;\n",
              "    }\n",
              "</style>\n"
            ]
          },
          "metadata": {}
        },
        {
          "output_type": "display_data",
          "data": {
            "text/plain": [
              "<IPython.core.display.HTML object>"
            ],
            "text/html": []
          },
          "metadata": {}
        },
        {
          "output_type": "display_data",
          "data": {
            "text/plain": [
              "<IPython.core.display.HTML object>"
            ],
            "text/html": [
              "<table border=\"1\" class=\"dataframe\">\n",
              "  <thead>\n",
              "    <tr style=\"text-align: right;\">\n",
              "      <th></th>\n",
              "      <th>CURSO</th>\n",
              "      <th>ORIENTADOR</th>\n",
              "      <th>CLASSIF_AREA</th>\n",
              "      <th>Area1</th>\n",
              "      <th>Area2</th>\n",
              "      <th>Area3</th>\n",
              "      <th>Area4</th>\n",
              "      <th>Area5</th>\n",
              "      <th>Area6</th>\n",
              "      <th>Area7</th>\n",
              "      <th>Area8</th>\n",
              "      <th>Area9</th>\n",
              "      <th>Area10</th>\n",
              "      <th>Area11</th>\n",
              "      <th>Area12</th>\n",
              "      <th>Area13</th>\n",
              "      <th>AREA</th>\n",
              "    </tr>\n",
              "  </thead>\n",
              "  <tbody>\n",
              "    <tr>\n",
              "      <th>0</th>\n",
              "      <td>CIÊNCIAS DA COMPUTAÇÃO</td>\n",
              "      <td>Patricia Vilain</td>\n",
              "      <td>INE5455 - Testes de Software</td>\n",
              "      <td>9.75</td>\n",
              "      <td>8.5</td>\n",
              "      <td>8.6</td>\n",
              "      <td>9.5</td>\n",
              "      <td>8.5</td>\n",
              "      <td>9.5</td>\n",
              "      <td>7.25</td>\n",
              "      <td>8.25</td>\n",
              "      <td>9.5</td>\n",
              "      <td>8.67</td>\n",
              "      <td>7.75</td>\n",
              "      <td>8.0</td>\n",
              "      <td>8.5</td>\n",
              "      <td>Engenharia de Software, Gerência de Projetos</td>\n",
              "    </tr>\n",
              "  </tbody>\n",
              "</table>"
            ]
          },
          "metadata": {}
        },
        {
          "output_type": "execute_result",
          "data": {
            "text/plain": [
              "tensor(2)"
            ]
          },
          "metadata": {},
          "execution_count": 20
        }
      ]
    },
    {
      "cell_type": "code",
      "source": [
        "row, cls, probs = learn_segundo.predict(df_test.iloc[15])\n",
        "row.show()\n",
        "cls"
      ],
      "metadata": {
        "colab": {
          "base_uri": "https://localhost:8080/",
          "height": 98
        },
        "id": "6xRxH7V4lwIr",
        "outputId": "e2136365-fc4b-488a-bfbf-4f702f0b52d2"
      },
      "execution_count": 21,
      "outputs": [
        {
          "output_type": "display_data",
          "data": {
            "text/plain": [
              "<IPython.core.display.HTML object>"
            ],
            "text/html": [
              "\n",
              "<style>\n",
              "    /* Turns off some styling */\n",
              "    progress {\n",
              "        /* gets rid of default border in Firefox and Opera. */\n",
              "        border: none;\n",
              "        /* Needs to be in here for Safari polyfill so background images work as expected. */\n",
              "        background-size: auto;\n",
              "    }\n",
              "    progress:not([value]), progress:not([value])::-webkit-progress-bar {\n",
              "        background: repeating-linear-gradient(45deg, #7e7e7e, #7e7e7e 10px, #5c5c5c 10px, #5c5c5c 20px);\n",
              "    }\n",
              "    .progress-bar-interrupted, .progress-bar-interrupted::-webkit-progress-bar {\n",
              "        background: #F44336;\n",
              "    }\n",
              "</style>\n"
            ]
          },
          "metadata": {}
        },
        {
          "output_type": "display_data",
          "data": {
            "text/plain": [
              "<IPython.core.display.HTML object>"
            ],
            "text/html": []
          },
          "metadata": {}
        },
        {
          "output_type": "display_data",
          "data": {
            "text/plain": [
              "<IPython.core.display.HTML object>"
            ],
            "text/html": [
              "<table border=\"1\" class=\"dataframe\">\n",
              "  <thead>\n",
              "    <tr style=\"text-align: right;\">\n",
              "      <th></th>\n",
              "      <th>CURSO</th>\n",
              "      <th>ORIENTADOR</th>\n",
              "      <th>CLASSIF_AREA</th>\n",
              "      <th>Area1</th>\n",
              "      <th>Area2</th>\n",
              "      <th>Area3</th>\n",
              "      <th>Area4</th>\n",
              "      <th>Area5</th>\n",
              "      <th>Area6</th>\n",
              "      <th>Area7</th>\n",
              "      <th>Area8</th>\n",
              "      <th>Area9</th>\n",
              "      <th>Area10</th>\n",
              "      <th>Area11</th>\n",
              "      <th>Area12</th>\n",
              "      <th>Area13</th>\n",
              "      <th>AREA</th>\n",
              "    </tr>\n",
              "  </thead>\n",
              "  <tbody>\n",
              "    <tr>\n",
              "      <th>0</th>\n",
              "      <td>CIÊNCIAS DA COMPUTAÇÃO</td>\n",
              "      <td>Patricia Vilain</td>\n",
              "      <td>INE5455 - Testes de Software</td>\n",
              "      <td>9.25</td>\n",
              "      <td>6.5</td>\n",
              "      <td>7.2</td>\n",
              "      <td>8.25</td>\n",
              "      <td>6.67</td>\n",
              "      <td>7.5</td>\n",
              "      <td>6.25</td>\n",
              "      <td>6.5</td>\n",
              "      <td>9.0</td>\n",
              "      <td>6.84</td>\n",
              "      <td>6.38</td>\n",
              "      <td>6.86</td>\n",
              "      <td>7.5</td>\n",
              "      <td>Engenharia de Software, Gerência de Projetos</td>\n",
              "    </tr>\n",
              "  </tbody>\n",
              "</table>"
            ]
          },
          "metadata": {}
        },
        {
          "output_type": "execute_result",
          "data": {
            "text/plain": [
              "tensor(2)"
            ]
          },
          "metadata": {},
          "execution_count": 21
        }
      ]
    },
    {
      "cell_type": "code",
      "source": [
        "row, cls, probs = learn_segundo.predict(df_test.iloc[16])\n",
        "row.show()\n",
        "cls"
      ],
      "metadata": {
        "colab": {
          "base_uri": "https://localhost:8080/",
          "height": 98
        },
        "id": "Rcy-EXDUlwP-",
        "outputId": "5532d864-1b84-4055-cb67-7090e2511d16"
      },
      "execution_count": 22,
      "outputs": [
        {
          "output_type": "display_data",
          "data": {
            "text/plain": [
              "<IPython.core.display.HTML object>"
            ],
            "text/html": [
              "\n",
              "<style>\n",
              "    /* Turns off some styling */\n",
              "    progress {\n",
              "        /* gets rid of default border in Firefox and Opera. */\n",
              "        border: none;\n",
              "        /* Needs to be in here for Safari polyfill so background images work as expected. */\n",
              "        background-size: auto;\n",
              "    }\n",
              "    progress:not([value]), progress:not([value])::-webkit-progress-bar {\n",
              "        background: repeating-linear-gradient(45deg, #7e7e7e, #7e7e7e 10px, #5c5c5c 10px, #5c5c5c 20px);\n",
              "    }\n",
              "    .progress-bar-interrupted, .progress-bar-interrupted::-webkit-progress-bar {\n",
              "        background: #F44336;\n",
              "    }\n",
              "</style>\n"
            ]
          },
          "metadata": {}
        },
        {
          "output_type": "display_data",
          "data": {
            "text/plain": [
              "<IPython.core.display.HTML object>"
            ],
            "text/html": []
          },
          "metadata": {}
        },
        {
          "output_type": "display_data",
          "data": {
            "text/plain": [
              "<IPython.core.display.HTML object>"
            ],
            "text/html": [
              "<table border=\"1\" class=\"dataframe\">\n",
              "  <thead>\n",
              "    <tr style=\"text-align: right;\">\n",
              "      <th></th>\n",
              "      <th>CURSO</th>\n",
              "      <th>ORIENTADOR</th>\n",
              "      <th>CLASSIF_AREA</th>\n",
              "      <th>Area1</th>\n",
              "      <th>Area2</th>\n",
              "      <th>Area3</th>\n",
              "      <th>Area4</th>\n",
              "      <th>Area5</th>\n",
              "      <th>Area6</th>\n",
              "      <th>Area7</th>\n",
              "      <th>Area8</th>\n",
              "      <th>Area9</th>\n",
              "      <th>Area10</th>\n",
              "      <th>Area11</th>\n",
              "      <th>Area12</th>\n",
              "      <th>Area13</th>\n",
              "      <th>AREA</th>\n",
              "    </tr>\n",
              "  </thead>\n",
              "  <tbody>\n",
              "    <tr>\n",
              "      <th>0</th>\n",
              "      <td>SISTEMAS DE INFORMAÇÃO (noturno)</td>\n",
              "      <td>Elder Rizzon Santos</td>\n",
              "      <td>#na#</td>\n",
              "      <td>7.3</td>\n",
              "      <td>7.0</td>\n",
              "      <td>8.0</td>\n",
              "      <td>8.0</td>\n",
              "      <td>6.0</td>\n",
              "      <td>6.5</td>\n",
              "      <td>9.5</td>\n",
              "      <td>7.63</td>\n",
              "      <td>7.67</td>\n",
              "      <td>7.5</td>\n",
              "      <td>7.17</td>\n",
              "      <td>-2.052376e-07</td>\n",
              "      <td>1.215174e-07</td>\n",
              "      <td>Teoria da Computação e Linguagens</td>\n",
              "    </tr>\n",
              "  </tbody>\n",
              "</table>"
            ]
          },
          "metadata": {}
        },
        {
          "output_type": "execute_result",
          "data": {
            "text/plain": [
              "tensor(9)"
            ]
          },
          "metadata": {},
          "execution_count": 22
        }
      ]
    },
    {
      "cell_type": "code",
      "source": [
        "row, cls, probs = learn_segundo.predict(df_test.iloc[17])\n",
        "row.show()\n",
        "cls"
      ],
      "metadata": {
        "colab": {
          "base_uri": "https://localhost:8080/",
          "height": 98
        },
        "id": "tzyg9nRAlwXA",
        "outputId": "fcdf3bd9-75fe-4adc-de42-4102a9f67982"
      },
      "execution_count": 23,
      "outputs": [
        {
          "output_type": "display_data",
          "data": {
            "text/plain": [
              "<IPython.core.display.HTML object>"
            ],
            "text/html": [
              "\n",
              "<style>\n",
              "    /* Turns off some styling */\n",
              "    progress {\n",
              "        /* gets rid of default border in Firefox and Opera. */\n",
              "        border: none;\n",
              "        /* Needs to be in here for Safari polyfill so background images work as expected. */\n",
              "        background-size: auto;\n",
              "    }\n",
              "    progress:not([value]), progress:not([value])::-webkit-progress-bar {\n",
              "        background: repeating-linear-gradient(45deg, #7e7e7e, #7e7e7e 10px, #5c5c5c 10px, #5c5c5c 20px);\n",
              "    }\n",
              "    .progress-bar-interrupted, .progress-bar-interrupted::-webkit-progress-bar {\n",
              "        background: #F44336;\n",
              "    }\n",
              "</style>\n"
            ]
          },
          "metadata": {}
        },
        {
          "output_type": "display_data",
          "data": {
            "text/plain": [
              "<IPython.core.display.HTML object>"
            ],
            "text/html": []
          },
          "metadata": {}
        },
        {
          "output_type": "display_data",
          "data": {
            "text/plain": [
              "<IPython.core.display.HTML object>"
            ],
            "text/html": [
              "<table border=\"1\" class=\"dataframe\">\n",
              "  <thead>\n",
              "    <tr style=\"text-align: right;\">\n",
              "      <th></th>\n",
              "      <th>CURSO</th>\n",
              "      <th>ORIENTADOR</th>\n",
              "      <th>CLASSIF_AREA</th>\n",
              "      <th>Area1</th>\n",
              "      <th>Area2</th>\n",
              "      <th>Area3</th>\n",
              "      <th>Area4</th>\n",
              "      <th>Area5</th>\n",
              "      <th>Area6</th>\n",
              "      <th>Area7</th>\n",
              "      <th>Area8</th>\n",
              "      <th>Area9</th>\n",
              "      <th>Area10</th>\n",
              "      <th>Area11</th>\n",
              "      <th>Area12</th>\n",
              "      <th>Area13</th>\n",
              "      <th>AREA</th>\n",
              "    </tr>\n",
              "  </thead>\n",
              "  <tbody>\n",
              "    <tr>\n",
              "      <th>0</th>\n",
              "      <td>SISTEMAS DE INFORMAÇÃO (noturno)</td>\n",
              "      <td>#na#</td>\n",
              "      <td>INE5633 - Sistemas Inteligentes</td>\n",
              "      <td>7.5</td>\n",
              "      <td>8.34</td>\n",
              "      <td>10.0</td>\n",
              "      <td>9.0</td>\n",
              "      <td>7.0</td>\n",
              "      <td>8.25</td>\n",
              "      <td>9.0</td>\n",
              "      <td>7.0</td>\n",
              "      <td>8.17</td>\n",
              "      <td>6.63</td>\n",
              "      <td>8.15</td>\n",
              "      <td>-2.052376e-07</td>\n",
              "      <td>1.215174e-07</td>\n",
              "      <td>Teoria da Computação e Linguagens</td>\n",
              "    </tr>\n",
              "  </tbody>\n",
              "</table>"
            ]
          },
          "metadata": {}
        },
        {
          "output_type": "execute_result",
          "data": {
            "text/plain": [
              "tensor(9)"
            ]
          },
          "metadata": {},
          "execution_count": 23
        }
      ]
    },
    {
      "cell_type": "code",
      "source": [
        "row, cls, probs = learn_segundo.predict(df_test.iloc[18])\n",
        "row.show()\n",
        "cls"
      ],
      "metadata": {
        "colab": {
          "base_uri": "https://localhost:8080/",
          "height": 98
        },
        "id": "EYLsYJQ9lweF",
        "outputId": "33ae5d32-3a41-4f83-8e97-96719830299a"
      },
      "execution_count": 24,
      "outputs": [
        {
          "output_type": "display_data",
          "data": {
            "text/plain": [
              "<IPython.core.display.HTML object>"
            ],
            "text/html": [
              "\n",
              "<style>\n",
              "    /* Turns off some styling */\n",
              "    progress {\n",
              "        /* gets rid of default border in Firefox and Opera. */\n",
              "        border: none;\n",
              "        /* Needs to be in here for Safari polyfill so background images work as expected. */\n",
              "        background-size: auto;\n",
              "    }\n",
              "    progress:not([value]), progress:not([value])::-webkit-progress-bar {\n",
              "        background: repeating-linear-gradient(45deg, #7e7e7e, #7e7e7e 10px, #5c5c5c 10px, #5c5c5c 20px);\n",
              "    }\n",
              "    .progress-bar-interrupted, .progress-bar-interrupted::-webkit-progress-bar {\n",
              "        background: #F44336;\n",
              "    }\n",
              "</style>\n"
            ]
          },
          "metadata": {}
        },
        {
          "output_type": "display_data",
          "data": {
            "text/plain": [
              "<IPython.core.display.HTML object>"
            ],
            "text/html": []
          },
          "metadata": {}
        },
        {
          "output_type": "display_data",
          "data": {
            "text/plain": [
              "<IPython.core.display.HTML object>"
            ],
            "text/html": [
              "<table border=\"1\" class=\"dataframe\">\n",
              "  <thead>\n",
              "    <tr style=\"text-align: right;\">\n",
              "      <th></th>\n",
              "      <th>CURSO</th>\n",
              "      <th>ORIENTADOR</th>\n",
              "      <th>CLASSIF_AREA</th>\n",
              "      <th>Area1</th>\n",
              "      <th>Area2</th>\n",
              "      <th>Area3</th>\n",
              "      <th>Area4</th>\n",
              "      <th>Area5</th>\n",
              "      <th>Area6</th>\n",
              "      <th>Area7</th>\n",
              "      <th>Area8</th>\n",
              "      <th>Area9</th>\n",
              "      <th>Area10</th>\n",
              "      <th>Area11</th>\n",
              "      <th>Area12</th>\n",
              "      <th>Area13</th>\n",
              "      <th>AREA</th>\n",
              "    </tr>\n",
              "  </thead>\n",
              "  <tbody>\n",
              "    <tr>\n",
              "      <th>0</th>\n",
              "      <td>SISTEMAS DE INFORMAÇÃO (noturno)</td>\n",
              "      <td>Jean Carlo Rossa Hauck</td>\n",
              "      <td>INE5614 - Engenharia de Software</td>\n",
              "      <td>7.88</td>\n",
              "      <td>8.92</td>\n",
              "      <td>8.0</td>\n",
              "      <td>8.0</td>\n",
              "      <td>9.0</td>\n",
              "      <td>9.25</td>\n",
              "      <td>9.25</td>\n",
              "      <td>8.75</td>\n",
              "      <td>8.17</td>\n",
              "      <td>7.0</td>\n",
              "      <td>8.08</td>\n",
              "      <td>-2.052376e-07</td>\n",
              "      <td>1.215174e-07</td>\n",
              "      <td>Engenharia de Software, Gerência de Projetos</td>\n",
              "    </tr>\n",
              "  </tbody>\n",
              "</table>"
            ]
          },
          "metadata": {}
        },
        {
          "output_type": "execute_result",
          "data": {
            "text/plain": [
              "tensor(2)"
            ]
          },
          "metadata": {},
          "execution_count": 24
        }
      ]
    }
  ]
}