{
  "nbformat": 4,
  "nbformat_minor": 0,
  "metadata": {
    "colab": {
      "provenance": [],
      "authorship_tag": "ABX9TyOm5psUiTq0ttdTSUYtNfNb",
      "include_colab_link": true
    },
    "kernelspec": {
      "name": "python3",
      "display_name": "Python 3"
    },
    "language_info": {
      "name": "python"
    }
  },
  "cells": [
    {
      "cell_type": "markdown",
      "metadata": {
        "id": "view-in-github",
        "colab_type": "text"
      },
      "source": [
        "<a href=\"https://colab.research.google.com/github/maelleal/TCC_Recomendacao_INE/blob/main/TabularClassificationAREA.ipynb\" target=\"_parent\"><img src=\"https://colab.research.google.com/assets/colab-badge.svg\" alt=\"Open In Colab\"/></a>"
      ]
    },
    {
      "cell_type": "code",
      "execution_count": 1,
      "metadata": {
        "id": "UkKoZfKooiFP",
        "outputId": "d2a4cd96-3e2e-429d-ddf4-c9fd0bbb4148",
        "colab": {
          "base_uri": "https://localhost:8080/"
        }
      },
      "outputs": [
        {
          "output_type": "stream",
          "name": "stdout",
          "text": [
            "Looking in indexes: https://pypi.org/simple, https://us-python.pkg.dev/colab-wheels/public/simple/\n",
            "Requirement already satisfied: fastai in /usr/local/lib/python3.7/dist-packages (2.7.10)\n",
            "Requirement already satisfied: torch<1.14,>=1.7 in /usr/local/lib/python3.7/dist-packages (from fastai) (1.12.1+cu113)\n",
            "Requirement already satisfied: spacy<4 in /usr/local/lib/python3.7/dist-packages (from fastai) (3.4.3)\n",
            "Requirement already satisfied: packaging in /usr/local/lib/python3.7/dist-packages (from fastai) (21.3)\n",
            "Requirement already satisfied: pillow>6.0.0 in /usr/local/lib/python3.7/dist-packages (from fastai) (7.1.2)\n",
            "Requirement already satisfied: scikit-learn in /usr/local/lib/python3.7/dist-packages (from fastai) (1.0.2)\n",
            "Requirement already satisfied: requests in /usr/local/lib/python3.7/dist-packages (from fastai) (2.23.0)\n",
            "Requirement already satisfied: fastcore<1.6,>=1.4.5 in /usr/local/lib/python3.7/dist-packages (from fastai) (1.5.27)\n",
            "Requirement already satisfied: pip in /usr/local/lib/python3.7/dist-packages (from fastai) (21.1.3)\n",
            "Requirement already satisfied: scipy in /usr/local/lib/python3.7/dist-packages (from fastai) (1.7.3)\n",
            "Requirement already satisfied: pyyaml in /usr/local/lib/python3.7/dist-packages (from fastai) (6.0)\n",
            "Requirement already satisfied: pandas in /usr/local/lib/python3.7/dist-packages (from fastai) (1.3.5)\n",
            "Requirement already satisfied: matplotlib in /usr/local/lib/python3.7/dist-packages (from fastai) (3.2.2)\n",
            "Requirement already satisfied: fastdownload<2,>=0.0.5 in /usr/local/lib/python3.7/dist-packages (from fastai) (0.0.7)\n",
            "Requirement already satisfied: torchvision>=0.8.2 in /usr/local/lib/python3.7/dist-packages (from fastai) (0.13.1+cu113)\n",
            "Requirement already satisfied: fastprogress>=0.2.4 in /usr/local/lib/python3.7/dist-packages (from fastai) (1.0.3)\n",
            "Requirement already satisfied: wasabi<1.1.0,>=0.9.1 in /usr/local/lib/python3.7/dist-packages (from spacy<4->fastai) (0.10.1)\n",
            "Requirement already satisfied: typing-extensions<4.2.0,>=3.7.4 in /usr/local/lib/python3.7/dist-packages (from spacy<4->fastai) (4.1.1)\n",
            "Requirement already satisfied: spacy-loggers<2.0.0,>=1.0.0 in /usr/local/lib/python3.7/dist-packages (from spacy<4->fastai) (1.0.3)\n",
            "Requirement already satisfied: catalogue<2.1.0,>=2.0.6 in /usr/local/lib/python3.7/dist-packages (from spacy<4->fastai) (2.0.8)\n",
            "Requirement already satisfied: pydantic!=1.8,!=1.8.1,<1.11.0,>=1.7.4 in /usr/local/lib/python3.7/dist-packages (from spacy<4->fastai) (1.10.2)\n",
            "Requirement already satisfied: numpy>=1.15.0 in /usr/local/lib/python3.7/dist-packages (from spacy<4->fastai) (1.21.6)\n",
            "Requirement already satisfied: tqdm<5.0.0,>=4.38.0 in /usr/local/lib/python3.7/dist-packages (from spacy<4->fastai) (4.64.1)\n",
            "Requirement already satisfied: srsly<3.0.0,>=2.4.3 in /usr/local/lib/python3.7/dist-packages (from spacy<4->fastai) (2.4.5)\n",
            "Requirement already satisfied: jinja2 in /usr/local/lib/python3.7/dist-packages (from spacy<4->fastai) (2.11.3)\n",
            "Requirement already satisfied: setuptools in /usr/local/lib/python3.7/dist-packages (from spacy<4->fastai) (57.4.0)\n",
            "Requirement already satisfied: preshed<3.1.0,>=3.0.2 in /usr/local/lib/python3.7/dist-packages (from spacy<4->fastai) (3.0.8)\n",
            "Requirement already satisfied: spacy-legacy<3.1.0,>=3.0.10 in /usr/local/lib/python3.7/dist-packages (from spacy<4->fastai) (3.0.10)\n",
            "Requirement already satisfied: typer<0.8.0,>=0.3.0 in /usr/local/lib/python3.7/dist-packages (from spacy<4->fastai) (0.7.0)\n",
            "Requirement already satisfied: langcodes<4.0.0,>=3.2.0 in /usr/local/lib/python3.7/dist-packages (from spacy<4->fastai) (3.3.0)\n",
            "Requirement already satisfied: thinc<8.2.0,>=8.1.0 in /usr/local/lib/python3.7/dist-packages (from spacy<4->fastai) (8.1.5)\n",
            "Requirement already satisfied: cymem<2.1.0,>=2.0.2 in /usr/local/lib/python3.7/dist-packages (from spacy<4->fastai) (2.0.7)\n",
            "Requirement already satisfied: pathy>=0.3.5 in /usr/local/lib/python3.7/dist-packages (from spacy<4->fastai) (0.8.1)\n",
            "Requirement already satisfied: murmurhash<1.1.0,>=0.28.0 in /usr/local/lib/python3.7/dist-packages (from spacy<4->fastai) (1.0.9)\n",
            "Requirement already satisfied: zipp>=0.5 in /usr/local/lib/python3.7/dist-packages (from catalogue<2.1.0,>=2.0.6->spacy<4->fastai) (3.10.0)\n",
            "Requirement already satisfied: pyparsing!=3.0.5,>=2.0.2 in /usr/local/lib/python3.7/dist-packages (from packaging->fastai) (3.0.9)\n",
            "Requirement already satisfied: smart-open<6.0.0,>=5.2.1 in /usr/local/lib/python3.7/dist-packages (from pathy>=0.3.5->spacy<4->fastai) (5.2.1)\n",
            "Requirement already satisfied: certifi>=2017.4.17 in /usr/local/lib/python3.7/dist-packages (from requests->fastai) (2022.9.24)\n",
            "Requirement already satisfied: idna<3,>=2.5 in /usr/local/lib/python3.7/dist-packages (from requests->fastai) (2.10)\n",
            "Requirement already satisfied: urllib3!=1.25.0,!=1.25.1,<1.26,>=1.21.1 in /usr/local/lib/python3.7/dist-packages (from requests->fastai) (1.24.3)\n",
            "Requirement already satisfied: chardet<4,>=3.0.2 in /usr/local/lib/python3.7/dist-packages (from requests->fastai) (3.0.4)\n",
            "Requirement already satisfied: blis<0.8.0,>=0.7.8 in /usr/local/lib/python3.7/dist-packages (from thinc<8.2.0,>=8.1.0->spacy<4->fastai) (0.7.9)\n",
            "Requirement already satisfied: confection<1.0.0,>=0.0.1 in /usr/local/lib/python3.7/dist-packages (from thinc<8.2.0,>=8.1.0->spacy<4->fastai) (0.0.3)\n",
            "Requirement already satisfied: click<9.0.0,>=7.1.1 in /usr/local/lib/python3.7/dist-packages (from typer<0.8.0,>=0.3.0->spacy<4->fastai) (7.1.2)\n",
            "Requirement already satisfied: MarkupSafe>=0.23 in /usr/local/lib/python3.7/dist-packages (from jinja2->spacy<4->fastai) (2.0.1)\n",
            "Requirement already satisfied: python-dateutil>=2.1 in /usr/local/lib/python3.7/dist-packages (from matplotlib->fastai) (2.8.2)\n",
            "Requirement already satisfied: cycler>=0.10 in /usr/local/lib/python3.7/dist-packages (from matplotlib->fastai) (0.11.0)\n",
            "Requirement already satisfied: kiwisolver>=1.0.1 in /usr/local/lib/python3.7/dist-packages (from matplotlib->fastai) (1.4.4)\n",
            "Requirement already satisfied: six>=1.5 in /usr/local/lib/python3.7/dist-packages (from python-dateutil>=2.1->matplotlib->fastai) (1.15.0)\n",
            "Requirement already satisfied: pytz>=2017.3 in /usr/local/lib/python3.7/dist-packages (from pandas->fastai) (2022.6)\n",
            "Requirement already satisfied: threadpoolctl>=2.0.0 in /usr/local/lib/python3.7/dist-packages (from scikit-learn->fastai) (3.1.0)\n",
            "Requirement already satisfied: joblib>=0.11 in /usr/local/lib/python3.7/dist-packages (from scikit-learn->fastai) (1.2.0)\n"
          ]
        }
      ],
      "source": [
        "!pip install -U fastai\n",
        "from fastai.tabular import *\n",
        "from fastai.tabular.all import *\n",
        "import pandas as pd\n",
        "import numpy as np\n",
        "import pathlib"
      ]
    },
    {
      "cell_type": "code",
      "source": [
        "from google.colab import drive\n",
        "drive.mount('/content/drive')"
      ],
      "metadata": {
        "id": "EHxffDsY4vLi",
        "colab": {
          "base_uri": "https://localhost:8080/"
        },
        "outputId": "e202c99e-2df2-4314-cf82-233081919d02"
      },
      "execution_count": 2,
      "outputs": [
        {
          "output_type": "stream",
          "name": "stdout",
          "text": [
            "Mounted at /content/drive\n"
          ]
        }
      ]
    },
    {
      "cell_type": "code",
      "source": [
        "path = pathlib.Path('/content/drive/My Drive/TCC - Sistema recomendação INE')\n",
        "df = pd.read_excel(path/'tabela_modelo_medias_v5.xlsx')\n",
        "df = df.drop(columns=['ID_UFSC', 'MATRICULA', 'COD_AREA', 'MEDIA_NOTA'])\n",
        "\n",
        "df.head(n=4)"
      ],
      "metadata": {
        "id": "VRzzaaPWzGeJ",
        "colab": {
          "base_uri": "https://localhost:8080/",
          "height": 358
        },
        "outputId": "c208dbe0-0d3d-4faf-a742-9919bc75d6ed"
      },
      "execution_count": 3,
      "outputs": [
        {
          "output_type": "execute_result",
          "data": {
            "text/plain": [
              "                              CURSO  \\\n",
              "0  SISTEMAS DE INFORMAÇÃO (noturno)   \n",
              "1            CIÊNCIAS DA COMPUTAÇÃO   \n",
              "2  SISTEMAS DE INFORMAÇÃO (noturno)   \n",
              "3  SISTEMAS DE INFORMAÇÃO (noturno)   \n",
              "\n",
              "                                               AREA  \\\n",
              "0                                      AREA DEFAULT   \n",
              "1  Ciência, Tecnologia, Sociedade e Emprendedorismo   \n",
              "2  Ciência, Tecnologia, Sociedade e Emprendedorismo   \n",
              "3  Ciência, Tecnologia, Sociedade e Emprendedorismo   \n",
              "\n",
              "                   ORIENTADOR  \\\n",
              "0          ORIENTADOR DEFAULT   \n",
              "1  Joao Candido Lima Dovicchi   \n",
              "2       José Eduardo de Lucca   \n",
              "3       José Eduardo de Lucca   \n",
              "\n",
              "                                                           CLASSIF_AREA  \\\n",
              "0                                                    DISCIPLINA DEFAULT   \n",
              "1  INE5655 - Gestão Estratégica de Tecnologia, Informação e Comunicação   \n",
              "2                                     INE5428 - Informática e Sociedade   \n",
              "3                                     INE5428 - Informática e Sociedade   \n",
              "\n",
              "   Area1  Area2  Area3  Area4  Area5  Area6  Area7  Area8  Area9  Area10  \\\n",
              "0   1.00   1.00   1.00   1.00   1.00   1.00   1.00   1.00   1.00     1.0   \n",
              "1   8.84   0.00   7.67   7.67   6.25   8.50   6.00   6.75   0.00     7.0   \n",
              "2   7.30   6.75   6.00   6.50   6.50   8.25   8.00   7.50   7.67     6.5   \n",
              "3   8.00   7.34   8.00   7.50   7.50   7.25   9.75   8.38   8.17     6.5   \n",
              "\n",
              "   Area11  Area12  Area13  \n",
              "0    1.00     1.0     1.0  \n",
              "1    7.00     7.5     8.0  \n",
              "2    6.63     0.0     0.0  \n",
              "3    7.59     0.0     0.0  "
            ],
            "text/html": [
              "\n",
              "  <div id=\"df-ad844fec-1084-4cf2-b1ee-a2e81929fc39\">\n",
              "    <div class=\"colab-df-container\">\n",
              "      <div>\n",
              "<style scoped>\n",
              "    .dataframe tbody tr th:only-of-type {\n",
              "        vertical-align: middle;\n",
              "    }\n",
              "\n",
              "    .dataframe tbody tr th {\n",
              "        vertical-align: top;\n",
              "    }\n",
              "\n",
              "    .dataframe thead th {\n",
              "        text-align: right;\n",
              "    }\n",
              "</style>\n",
              "<table border=\"1\" class=\"dataframe\">\n",
              "  <thead>\n",
              "    <tr style=\"text-align: right;\">\n",
              "      <th></th>\n",
              "      <th>CURSO</th>\n",
              "      <th>AREA</th>\n",
              "      <th>ORIENTADOR</th>\n",
              "      <th>CLASSIF_AREA</th>\n",
              "      <th>Area1</th>\n",
              "      <th>Area2</th>\n",
              "      <th>Area3</th>\n",
              "      <th>Area4</th>\n",
              "      <th>Area5</th>\n",
              "      <th>Area6</th>\n",
              "      <th>Area7</th>\n",
              "      <th>Area8</th>\n",
              "      <th>Area9</th>\n",
              "      <th>Area10</th>\n",
              "      <th>Area11</th>\n",
              "      <th>Area12</th>\n",
              "      <th>Area13</th>\n",
              "    </tr>\n",
              "  </thead>\n",
              "  <tbody>\n",
              "    <tr>\n",
              "      <th>0</th>\n",
              "      <td>SISTEMAS DE INFORMAÇÃO (noturno)</td>\n",
              "      <td>AREA DEFAULT</td>\n",
              "      <td>ORIENTADOR DEFAULT</td>\n",
              "      <td>DISCIPLINA DEFAULT</td>\n",
              "      <td>1.00</td>\n",
              "      <td>1.00</td>\n",
              "      <td>1.00</td>\n",
              "      <td>1.00</td>\n",
              "      <td>1.00</td>\n",
              "      <td>1.00</td>\n",
              "      <td>1.00</td>\n",
              "      <td>1.00</td>\n",
              "      <td>1.00</td>\n",
              "      <td>1.0</td>\n",
              "      <td>1.00</td>\n",
              "      <td>1.0</td>\n",
              "      <td>1.0</td>\n",
              "    </tr>\n",
              "    <tr>\n",
              "      <th>1</th>\n",
              "      <td>CIÊNCIAS DA COMPUTAÇÃO</td>\n",
              "      <td>Ciência, Tecnologia, Sociedade e Emprendedorismo</td>\n",
              "      <td>Joao Candido Lima Dovicchi</td>\n",
              "      <td>INE5655 - Gestão Estratégica de Tecnologia, Informação e Comunicação</td>\n",
              "      <td>8.84</td>\n",
              "      <td>0.00</td>\n",
              "      <td>7.67</td>\n",
              "      <td>7.67</td>\n",
              "      <td>6.25</td>\n",
              "      <td>8.50</td>\n",
              "      <td>6.00</td>\n",
              "      <td>6.75</td>\n",
              "      <td>0.00</td>\n",
              "      <td>7.0</td>\n",
              "      <td>7.00</td>\n",
              "      <td>7.5</td>\n",
              "      <td>8.0</td>\n",
              "    </tr>\n",
              "    <tr>\n",
              "      <th>2</th>\n",
              "      <td>SISTEMAS DE INFORMAÇÃO (noturno)</td>\n",
              "      <td>Ciência, Tecnologia, Sociedade e Emprendedorismo</td>\n",
              "      <td>José Eduardo de Lucca</td>\n",
              "      <td>INE5428 - Informática e Sociedade</td>\n",
              "      <td>7.30</td>\n",
              "      <td>6.75</td>\n",
              "      <td>6.00</td>\n",
              "      <td>6.50</td>\n",
              "      <td>6.50</td>\n",
              "      <td>8.25</td>\n",
              "      <td>8.00</td>\n",
              "      <td>7.50</td>\n",
              "      <td>7.67</td>\n",
              "      <td>6.5</td>\n",
              "      <td>6.63</td>\n",
              "      <td>0.0</td>\n",
              "      <td>0.0</td>\n",
              "    </tr>\n",
              "    <tr>\n",
              "      <th>3</th>\n",
              "      <td>SISTEMAS DE INFORMAÇÃO (noturno)</td>\n",
              "      <td>Ciência, Tecnologia, Sociedade e Emprendedorismo</td>\n",
              "      <td>José Eduardo de Lucca</td>\n",
              "      <td>INE5428 - Informática e Sociedade</td>\n",
              "      <td>8.00</td>\n",
              "      <td>7.34</td>\n",
              "      <td>8.00</td>\n",
              "      <td>7.50</td>\n",
              "      <td>7.50</td>\n",
              "      <td>7.25</td>\n",
              "      <td>9.75</td>\n",
              "      <td>8.38</td>\n",
              "      <td>8.17</td>\n",
              "      <td>6.5</td>\n",
              "      <td>7.59</td>\n",
              "      <td>0.0</td>\n",
              "      <td>0.0</td>\n",
              "    </tr>\n",
              "  </tbody>\n",
              "</table>\n",
              "</div>\n",
              "      <button class=\"colab-df-convert\" onclick=\"convertToInteractive('df-ad844fec-1084-4cf2-b1ee-a2e81929fc39')\"\n",
              "              title=\"Convert this dataframe to an interactive table.\"\n",
              "              style=\"display:none;\">\n",
              "        \n",
              "  <svg xmlns=\"http://www.w3.org/2000/svg\" height=\"24px\"viewBox=\"0 0 24 24\"\n",
              "       width=\"24px\">\n",
              "    <path d=\"M0 0h24v24H0V0z\" fill=\"none\"/>\n",
              "    <path d=\"M18.56 5.44l.94 2.06.94-2.06 2.06-.94-2.06-.94-.94-2.06-.94 2.06-2.06.94zm-11 1L8.5 8.5l.94-2.06 2.06-.94-2.06-.94L8.5 2.5l-.94 2.06-2.06.94zm10 10l.94 2.06.94-2.06 2.06-.94-2.06-.94-.94-2.06-.94 2.06-2.06.94z\"/><path d=\"M17.41 7.96l-1.37-1.37c-.4-.4-.92-.59-1.43-.59-.52 0-1.04.2-1.43.59L10.3 9.45l-7.72 7.72c-.78.78-.78 2.05 0 2.83L4 21.41c.39.39.9.59 1.41.59.51 0 1.02-.2 1.41-.59l7.78-7.78 2.81-2.81c.8-.78.8-2.07 0-2.86zM5.41 20L4 18.59l7.72-7.72 1.47 1.35L5.41 20z\"/>\n",
              "  </svg>\n",
              "      </button>\n",
              "      \n",
              "  <style>\n",
              "    .colab-df-container {\n",
              "      display:flex;\n",
              "      flex-wrap:wrap;\n",
              "      gap: 12px;\n",
              "    }\n",
              "\n",
              "    .colab-df-convert {\n",
              "      background-color: #E8F0FE;\n",
              "      border: none;\n",
              "      border-radius: 50%;\n",
              "      cursor: pointer;\n",
              "      display: none;\n",
              "      fill: #1967D2;\n",
              "      height: 32px;\n",
              "      padding: 0 0 0 0;\n",
              "      width: 32px;\n",
              "    }\n",
              "\n",
              "    .colab-df-convert:hover {\n",
              "      background-color: #E2EBFA;\n",
              "      box-shadow: 0px 1px 2px rgba(60, 64, 67, 0.3), 0px 1px 3px 1px rgba(60, 64, 67, 0.15);\n",
              "      fill: #174EA6;\n",
              "    }\n",
              "\n",
              "    [theme=dark] .colab-df-convert {\n",
              "      background-color: #3B4455;\n",
              "      fill: #D2E3FC;\n",
              "    }\n",
              "\n",
              "    [theme=dark] .colab-df-convert:hover {\n",
              "      background-color: #434B5C;\n",
              "      box-shadow: 0px 1px 3px 1px rgba(0, 0, 0, 0.15);\n",
              "      filter: drop-shadow(0px 1px 2px rgba(0, 0, 0, 0.3));\n",
              "      fill: #FFFFFF;\n",
              "    }\n",
              "  </style>\n",
              "\n",
              "      <script>\n",
              "        const buttonEl =\n",
              "          document.querySelector('#df-ad844fec-1084-4cf2-b1ee-a2e81929fc39 button.colab-df-convert');\n",
              "        buttonEl.style.display =\n",
              "          google.colab.kernel.accessAllowed ? 'block' : 'none';\n",
              "\n",
              "        async function convertToInteractive(key) {\n",
              "          const element = document.querySelector('#df-ad844fec-1084-4cf2-b1ee-a2e81929fc39');\n",
              "          const dataTable =\n",
              "            await google.colab.kernel.invokeFunction('convertToInteractive',\n",
              "                                                     [key], {});\n",
              "          if (!dataTable) return;\n",
              "\n",
              "          const docLinkHtml = 'Like what you see? Visit the ' +\n",
              "            '<a target=\"_blank\" href=https://colab.research.google.com/notebooks/data_table.ipynb>data table notebook</a>'\n",
              "            + ' to learn more about interactive tables.';\n",
              "          element.innerHTML = '';\n",
              "          dataTable['output_type'] = 'display_data';\n",
              "          await google.colab.output.renderOutput(dataTable, element);\n",
              "          const docLink = document.createElement('div');\n",
              "          docLink.innerHTML = docLinkHtml;\n",
              "          element.appendChild(docLink);\n",
              "        }\n",
              "      </script>\n",
              "    </div>\n",
              "  </div>\n",
              "  "
            ]
          },
          "metadata": {},
          "execution_count": 3
        }
      ]
    },
    {
      "cell_type": "code",
      "source": [
        "#The list of categorical features in the dataset\n",
        "cat_names = ['CURSO', 'ORIENTADOR', 'AREA', 'CLASSIF_AREA'] \n",
        "\n",
        "#The list of continuous features in the dataset\n",
        "#Exclude the Dependent variable 'AREA'\n",
        "cont_names =['Area1', 'Area2', 'Area3', 'Area4', 'Area5', 'Area6', 'Area7', 'Area8', 'Area9', 'Area10', 'Area11', 'Area12', 'Area13'] \n"
      ],
      "metadata": {
        "id": "qpGi1R3yzmla"
      },
      "execution_count": 4,
      "outputs": []
    },
    {
      "cell_type": "code",
      "source": [
        "cat = Categorify()"
      ],
      "metadata": {
        "id": "pCBFf9M3MaKp"
      },
      "execution_count": 5,
      "outputs": []
    },
    {
      "cell_type": "code",
      "source": [
        "to = TabularPandas(df, cat, cat_names)"
      ],
      "metadata": {
        "id": "kOQ_ahXzMz_I"
      },
      "execution_count": 6,
      "outputs": []
    },
    {
      "cell_type": "code",
      "source": [
        "cats = to.procs.categorify"
      ],
      "metadata": {
        "id": "vCcRPNo9M0tq"
      },
      "execution_count": 7,
      "outputs": []
    },
    {
      "cell_type": "code",
      "source": [
        "norm = Normalize()"
      ],
      "metadata": {
        "id": "N4-ObcbSNNO7"
      },
      "execution_count": 8,
      "outputs": []
    },
    {
      "cell_type": "code",
      "source": [
        "to = TabularPandas(df, norm, cont_names=cont_names, cat_names=cat_names)"
      ],
      "metadata": {
        "id": "esTc1ROKNapB"
      },
      "execution_count": 9,
      "outputs": []
    },
    {
      "cell_type": "code",
      "source": [
        "norms = to.procs.normalize"
      ],
      "metadata": {
        "id": "USCUGZGxNeDR"
      },
      "execution_count": 10,
      "outputs": []
    },
    {
      "cell_type": "code",
      "source": [
        "to.conts.head()"
      ],
      "metadata": {
        "colab": {
          "base_uri": "https://localhost:8080/",
          "height": 206
        },
        "id": "N_TDgAdMOFQB",
        "outputId": "5dbb0eb0-3371-440c-a57d-6ceae4bc91d0"
      },
      "execution_count": 11,
      "outputs": [
        {
          "output_type": "execute_result",
          "data": {
            "text/plain": [
              "      Area1     Area2     Area3     Area4     Area5     Area6     Area7  \\\n",
              "0 -6.762219 -4.065492 -5.982622 -6.374544 -6.157860 -5.383018 -5.084287   \n",
              "1  0.747274 -4.733466  0.042741 -0.056253 -0.833175  0.806554 -1.200503   \n",
              "2 -0.727805 -0.224646 -1.465858 -1.164559 -0.579619  0.600235  0.353010   \n",
              "3 -0.057315  0.169458  0.340848 -0.217289  0.434607 -0.225041  1.712334   \n",
              "4 -0.727805  1.171418  0.340848  0.256346 -1.086732  0.187597  1.906524   \n",
              "\n",
              "      Area8     Area9    Area10    Area11    Area12    Area13  \n",
              "0 -4.927196 -4.313026 -5.767669 -5.922481 -1.185653 -0.766876  \n",
              "1 -0.618888 -4.922992 -0.200845 -0.175148  0.686107  1.063734  \n",
              "2 -0.056935 -0.244558 -0.664747 -0.529567 -1.473616 -1.028392  \n",
              "3  0.602424  0.060424 -0.664747  0.390007 -1.473616 -1.028392  \n",
              "4  0.505018  0.164118  0.495008  0.466638 -1.473616 -1.028392  "
            ],
            "text/html": [
              "\n",
              "  <div id=\"df-3036b0af-9e83-4f57-9910-24ee0094aefd\">\n",
              "    <div class=\"colab-df-container\">\n",
              "      <div>\n",
              "<style scoped>\n",
              "    .dataframe tbody tr th:only-of-type {\n",
              "        vertical-align: middle;\n",
              "    }\n",
              "\n",
              "    .dataframe tbody tr th {\n",
              "        vertical-align: top;\n",
              "    }\n",
              "\n",
              "    .dataframe thead th {\n",
              "        text-align: right;\n",
              "    }\n",
              "</style>\n",
              "<table border=\"1\" class=\"dataframe\">\n",
              "  <thead>\n",
              "    <tr style=\"text-align: right;\">\n",
              "      <th></th>\n",
              "      <th>Area1</th>\n",
              "      <th>Area2</th>\n",
              "      <th>Area3</th>\n",
              "      <th>Area4</th>\n",
              "      <th>Area5</th>\n",
              "      <th>Area6</th>\n",
              "      <th>Area7</th>\n",
              "      <th>Area8</th>\n",
              "      <th>Area9</th>\n",
              "      <th>Area10</th>\n",
              "      <th>Area11</th>\n",
              "      <th>Area12</th>\n",
              "      <th>Area13</th>\n",
              "    </tr>\n",
              "  </thead>\n",
              "  <tbody>\n",
              "    <tr>\n",
              "      <th>0</th>\n",
              "      <td>-6.762219</td>\n",
              "      <td>-4.065492</td>\n",
              "      <td>-5.982622</td>\n",
              "      <td>-6.374544</td>\n",
              "      <td>-6.157860</td>\n",
              "      <td>-5.383018</td>\n",
              "      <td>-5.084287</td>\n",
              "      <td>-4.927196</td>\n",
              "      <td>-4.313026</td>\n",
              "      <td>-5.767669</td>\n",
              "      <td>-5.922481</td>\n",
              "      <td>-1.185653</td>\n",
              "      <td>-0.766876</td>\n",
              "    </tr>\n",
              "    <tr>\n",
              "      <th>1</th>\n",
              "      <td>0.747274</td>\n",
              "      <td>-4.733466</td>\n",
              "      <td>0.042741</td>\n",
              "      <td>-0.056253</td>\n",
              "      <td>-0.833175</td>\n",
              "      <td>0.806554</td>\n",
              "      <td>-1.200503</td>\n",
              "      <td>-0.618888</td>\n",
              "      <td>-4.922992</td>\n",
              "      <td>-0.200845</td>\n",
              "      <td>-0.175148</td>\n",
              "      <td>0.686107</td>\n",
              "      <td>1.063734</td>\n",
              "    </tr>\n",
              "    <tr>\n",
              "      <th>2</th>\n",
              "      <td>-0.727805</td>\n",
              "      <td>-0.224646</td>\n",
              "      <td>-1.465858</td>\n",
              "      <td>-1.164559</td>\n",
              "      <td>-0.579619</td>\n",
              "      <td>0.600235</td>\n",
              "      <td>0.353010</td>\n",
              "      <td>-0.056935</td>\n",
              "      <td>-0.244558</td>\n",
              "      <td>-0.664747</td>\n",
              "      <td>-0.529567</td>\n",
              "      <td>-1.473616</td>\n",
              "      <td>-1.028392</td>\n",
              "    </tr>\n",
              "    <tr>\n",
              "      <th>3</th>\n",
              "      <td>-0.057315</td>\n",
              "      <td>0.169458</td>\n",
              "      <td>0.340848</td>\n",
              "      <td>-0.217289</td>\n",
              "      <td>0.434607</td>\n",
              "      <td>-0.225041</td>\n",
              "      <td>1.712334</td>\n",
              "      <td>0.602424</td>\n",
              "      <td>0.060424</td>\n",
              "      <td>-0.664747</td>\n",
              "      <td>0.390007</td>\n",
              "      <td>-1.473616</td>\n",
              "      <td>-1.028392</td>\n",
              "    </tr>\n",
              "    <tr>\n",
              "      <th>4</th>\n",
              "      <td>-0.727805</td>\n",
              "      <td>1.171418</td>\n",
              "      <td>0.340848</td>\n",
              "      <td>0.256346</td>\n",
              "      <td>-1.086732</td>\n",
              "      <td>0.187597</td>\n",
              "      <td>1.906524</td>\n",
              "      <td>0.505018</td>\n",
              "      <td>0.164118</td>\n",
              "      <td>0.495008</td>\n",
              "      <td>0.466638</td>\n",
              "      <td>-1.473616</td>\n",
              "      <td>-1.028392</td>\n",
              "    </tr>\n",
              "  </tbody>\n",
              "</table>\n",
              "</div>\n",
              "      <button class=\"colab-df-convert\" onclick=\"convertToInteractive('df-3036b0af-9e83-4f57-9910-24ee0094aefd')\"\n",
              "              title=\"Convert this dataframe to an interactive table.\"\n",
              "              style=\"display:none;\">\n",
              "        \n",
              "  <svg xmlns=\"http://www.w3.org/2000/svg\" height=\"24px\"viewBox=\"0 0 24 24\"\n",
              "       width=\"24px\">\n",
              "    <path d=\"M0 0h24v24H0V0z\" fill=\"none\"/>\n",
              "    <path d=\"M18.56 5.44l.94 2.06.94-2.06 2.06-.94-2.06-.94-.94-2.06-.94 2.06-2.06.94zm-11 1L8.5 8.5l.94-2.06 2.06-.94-2.06-.94L8.5 2.5l-.94 2.06-2.06.94zm10 10l.94 2.06.94-2.06 2.06-.94-2.06-.94-.94-2.06-.94 2.06-2.06.94z\"/><path d=\"M17.41 7.96l-1.37-1.37c-.4-.4-.92-.59-1.43-.59-.52 0-1.04.2-1.43.59L10.3 9.45l-7.72 7.72c-.78.78-.78 2.05 0 2.83L4 21.41c.39.39.9.59 1.41.59.51 0 1.02-.2 1.41-.59l7.78-7.78 2.81-2.81c.8-.78.8-2.07 0-2.86zM5.41 20L4 18.59l7.72-7.72 1.47 1.35L5.41 20z\"/>\n",
              "  </svg>\n",
              "      </button>\n",
              "      \n",
              "  <style>\n",
              "    .colab-df-container {\n",
              "      display:flex;\n",
              "      flex-wrap:wrap;\n",
              "      gap: 12px;\n",
              "    }\n",
              "\n",
              "    .colab-df-convert {\n",
              "      background-color: #E8F0FE;\n",
              "      border: none;\n",
              "      border-radius: 50%;\n",
              "      cursor: pointer;\n",
              "      display: none;\n",
              "      fill: #1967D2;\n",
              "      height: 32px;\n",
              "      padding: 0 0 0 0;\n",
              "      width: 32px;\n",
              "    }\n",
              "\n",
              "    .colab-df-convert:hover {\n",
              "      background-color: #E2EBFA;\n",
              "      box-shadow: 0px 1px 2px rgba(60, 64, 67, 0.3), 0px 1px 3px 1px rgba(60, 64, 67, 0.15);\n",
              "      fill: #174EA6;\n",
              "    }\n",
              "\n",
              "    [theme=dark] .colab-df-convert {\n",
              "      background-color: #3B4455;\n",
              "      fill: #D2E3FC;\n",
              "    }\n",
              "\n",
              "    [theme=dark] .colab-df-convert:hover {\n",
              "      background-color: #434B5C;\n",
              "      box-shadow: 0px 1px 3px 1px rgba(0, 0, 0, 0.15);\n",
              "      filter: drop-shadow(0px 1px 2px rgba(0, 0, 0, 0.3));\n",
              "      fill: #FFFFFF;\n",
              "    }\n",
              "  </style>\n",
              "\n",
              "      <script>\n",
              "        const buttonEl =\n",
              "          document.querySelector('#df-3036b0af-9e83-4f57-9910-24ee0094aefd button.colab-df-convert');\n",
              "        buttonEl.style.display =\n",
              "          google.colab.kernel.accessAllowed ? 'block' : 'none';\n",
              "\n",
              "        async function convertToInteractive(key) {\n",
              "          const element = document.querySelector('#df-3036b0af-9e83-4f57-9910-24ee0094aefd');\n",
              "          const dataTable =\n",
              "            await google.colab.kernel.invokeFunction('convertToInteractive',\n",
              "                                                     [key], {});\n",
              "          if (!dataTable) return;\n",
              "\n",
              "          const docLinkHtml = 'Like what you see? Visit the ' +\n",
              "            '<a target=\"_blank\" href=https://colab.research.google.com/notebooks/data_table.ipynb>data table notebook</a>'\n",
              "            + ' to learn more about interactive tables.';\n",
              "          element.innerHTML = '';\n",
              "          dataTable['output_type'] = 'display_data';\n",
              "          await google.colab.output.renderOutput(dataTable, element);\n",
              "          const docLink = document.createElement('div');\n",
              "          docLink.innerHTML = docLinkHtml;\n",
              "          element.appendChild(docLink);\n",
              "        }\n",
              "      </script>\n",
              "    </div>\n",
              "  </div>\n",
              "  "
            ]
          },
          "metadata": {},
          "execution_count": 11
        }
      ]
    },
    {
      "cell_type": "code",
      "source": [
        "fm = FillMissing(fill_strategy=FillStrategy.median)"
      ],
      "metadata": {
        "id": "4JcqxdDkOSvn"
      },
      "execution_count": 12,
      "outputs": []
    },
    {
      "cell_type": "code",
      "source": [
        "to = TabularPandas(df, fm, cont_names=cont_names)"
      ],
      "metadata": {
        "id": "W8VKIRQ2Ol7G"
      },
      "execution_count": 13,
      "outputs": []
    },
    {
      "cell_type": "code",
      "source": [
        "to.cat_names"
      ],
      "metadata": {
        "colab": {
          "base_uri": "https://localhost:8080/"
        },
        "id": "iYP-b5miOrdB",
        "outputId": "02d31984-6cab-4b63-bd3d-87c111a5a754"
      },
      "execution_count": 14,
      "outputs": [
        {
          "output_type": "execute_result",
          "data": {
            "text/plain": [
              "(#0) []"
            ]
          },
          "metadata": {},
          "execution_count": 14
        }
      ]
    },
    {
      "cell_type": "code",
      "source": [
        "cats['AREA']"
      ],
      "metadata": {
        "colab": {
          "base_uri": "https://localhost:8080/"
        },
        "id": "_JJ_pv0kPx0h",
        "outputId": "80cbcb63-92d1-403e-9e93-ba12607f1eaa"
      },
      "execution_count": 15,
      "outputs": [
        {
          "output_type": "execute_result",
          "data": {
            "text/plain": [
              "['#na#', 'AREA DEFAULT', 'Ciência, Tecnologia, Sociedade e Emprendedorismo', 'Engenharia de Software, Gerência de Projetos', 'Fundamentos Matemáticos', 'Fundamentos de Programação', 'Organização de Computadores e Sistemas Embarcados', 'Probabilidade e Estatística', 'Redes de Computadores e Segurança', 'Sistemas Operacionais, Concorrência e Paralelismo', 'Teoria da Computação e Linguagens', 'Tratamento e Banco de Dados']"
            ]
          },
          "metadata": {},
          "execution_count": 15
        }
      ]
    },
    {
      "cell_type": "code",
      "source": [
        "splits = RandomSplitter()(range_of(df))\n",
        "splits"
      ],
      "metadata": {
        "colab": {
          "base_uri": "https://localhost:8080/"
        },
        "id": "PGFvSRKWP0kA",
        "outputId": "4aac9c64-0b62-497c-e9eb-0ea16a650eb5"
      },
      "execution_count": 16,
      "outputs": [
        {
          "output_type": "execute_result",
          "data": {
            "text/plain": [
              "((#248) [58,182,235,205,84,278,226,99,239,71...],\n",
              " (#61) [81,195,291,72,46,196,79,17,15,214...])"
            ]
          },
          "metadata": {},
          "execution_count": 16
        }
      ]
    },
    {
      "cell_type": "code",
      "source": [
        "range_of(df)[:5], len(df)"
      ],
      "metadata": {
        "colab": {
          "base_uri": "https://localhost:8080/"
        },
        "id": "UzlrfIzHP-u4",
        "outputId": "77f72bb0-8eea-4180-bd4a-a56740348206"
      },
      "execution_count": 17,
      "outputs": [
        {
          "output_type": "execute_result",
          "data": {
            "text/plain": [
              "([0, 1, 2, 3, 4], 309)"
            ]
          },
          "metadata": {},
          "execution_count": 17
        }
      ]
    },
    {
      "cell_type": "code",
      "source": [
        "cat_names = ['CURSO', 'ORIENTADOR', 'CLASSIF_AREA'] \n",
        "cont_names = ['Area1', 'Area2', 'Area3', 'Area4', 'Area5', 'Area6', \n",
        "              'Area7', 'Area8', 'Area9', 'Area10', 'Area11', 'Area12', 'Area13'] \n",
        "procs = [Categorify, FillMissing, Normalize]\n",
        "y_names = 'AREA'\n",
        "y_block = CategoryBlock()"
      ],
      "metadata": {
        "id": "1ymIyO0TQD0q"
      },
      "execution_count": 18,
      "outputs": []
    },
    {
      "cell_type": "code",
      "source": [
        "to = TabularPandas(df, procs=procs, cat_names=cat_names, cont_names=cont_names,\n",
        "                   y_names=y_names, y_block=y_block, splits=splits)"
      ],
      "metadata": {
        "id": "Q791uTwTQyaF"
      },
      "execution_count": 19,
      "outputs": []
    },
    {
      "cell_type": "code",
      "source": [
        "dls = to.dataloaders()"
      ],
      "metadata": {
        "id": "Gnu4utqJQ6Jq"
      },
      "execution_count": 20,
      "outputs": []
    },
    {
      "cell_type": "code",
      "source": [
        "trn_dl = TabDataLoader(to.train, bs=64, shuffle=True, drop_last=True)\n",
        "val_dl = TabDataLoader(to.valid, bs=128)"
      ],
      "metadata": {
        "id": "VrR2CRtRQ8Qq"
      },
      "execution_count": 21,
      "outputs": []
    },
    {
      "cell_type": "code",
      "source": [
        "dls = DataLoaders(trn_dl, val_dl)"
      ],
      "metadata": {
        "id": "4gQSHJfuQ--B"
      },
      "execution_count": 22,
      "outputs": []
    },
    {
      "cell_type": "code",
      "source": [
        "dls.show_batch()"
      ],
      "metadata": {
        "colab": {
          "base_uri": "https://localhost:8080/",
          "height": 693
        },
        "id": "HRRX1poLRA95",
        "outputId": "623e290d-ef51-436c-973b-500ec7f3c908"
      },
      "execution_count": 23,
      "outputs": [
        {
          "output_type": "display_data",
          "data": {
            "text/plain": [
              "<IPython.core.display.HTML object>"
            ],
            "text/html": [
              "<table border=\"1\" class=\"dataframe\">\n",
              "  <thead>\n",
              "    <tr style=\"text-align: right;\">\n",
              "      <th></th>\n",
              "      <th>CURSO</th>\n",
              "      <th>ORIENTADOR</th>\n",
              "      <th>CLASSIF_AREA</th>\n",
              "      <th>Area1</th>\n",
              "      <th>Area2</th>\n",
              "      <th>Area3</th>\n",
              "      <th>Area4</th>\n",
              "      <th>Area5</th>\n",
              "      <th>Area6</th>\n",
              "      <th>Area7</th>\n",
              "      <th>Area8</th>\n",
              "      <th>Area9</th>\n",
              "      <th>Area10</th>\n",
              "      <th>Area11</th>\n",
              "      <th>Area12</th>\n",
              "      <th>Area13</th>\n",
              "      <th>AREA</th>\n",
              "    </tr>\n",
              "  </thead>\n",
              "  <tbody>\n",
              "    <tr>\n",
              "      <th>0</th>\n",
              "      <td>SISTEMAS DE INFORMAÇÃO (noturno)</td>\n",
              "      <td>Jean Carlo Rossa Hauck</td>\n",
              "      <td>INE5681 - Modelagem e Automação de Processos de Negócios</td>\n",
              "      <td>7.20</td>\n",
              "      <td>7.84</td>\n",
              "      <td>7.00</td>\n",
              "      <td>7.50</td>\n",
              "      <td>6.50</td>\n",
              "      <td>6.50</td>\n",
              "      <td>7.67</td>\n",
              "      <td>6.34</td>\n",
              "      <td>7.50</td>\n",
              "      <td>7.17</td>\n",
              "      <td>7.09</td>\n",
              "      <td>-1.565468e-07</td>\n",
              "      <td>-4.693868e-08</td>\n",
              "      <td>Engenharia de Software, Gerência de Projetos</td>\n",
              "    </tr>\n",
              "    <tr>\n",
              "      <th>1</th>\n",
              "      <td>CIÊNCIAS DA COMPUTAÇÃO</td>\n",
              "      <td>Jean Everson Martina</td>\n",
              "      <td>INE5619 - Administração e Gerência de Redes de Computadores</td>\n",
              "      <td>8.50</td>\n",
              "      <td>7.00</td>\n",
              "      <td>7.50</td>\n",
              "      <td>8.63</td>\n",
              "      <td>7.67</td>\n",
              "      <td>9.50</td>\n",
              "      <td>7.00</td>\n",
              "      <td>7.50</td>\n",
              "      <td>9.25</td>\n",
              "      <td>7.34</td>\n",
              "      <td>7.00</td>\n",
              "      <td>7.340000e+00</td>\n",
              "      <td>7.500000e+00</td>\n",
              "      <td>Redes de Computadores e Segurança</td>\n",
              "    </tr>\n",
              "    <tr>\n",
              "      <th>2</th>\n",
              "      <td>SISTEMAS DE INFORMAÇÃO (noturno)</td>\n",
              "      <td>Frank Augusto Siqueira</td>\n",
              "      <td>INE5608 - Análise e Projeto de Sistemas</td>\n",
              "      <td>8.25</td>\n",
              "      <td>7.50</td>\n",
              "      <td>7.00</td>\n",
              "      <td>7.00</td>\n",
              "      <td>6.50</td>\n",
              "      <td>6.50</td>\n",
              "      <td>6.25</td>\n",
              "      <td>10.00</td>\n",
              "      <td>6.90</td>\n",
              "      <td>7.00</td>\n",
              "      <td>6.00</td>\n",
              "      <td>6.670000e+00</td>\n",
              "      <td>-4.693868e-08</td>\n",
              "      <td>Engenharia de Software, Gerência de Projetos</td>\n",
              "    </tr>\n",
              "    <tr>\n",
              "      <th>3</th>\n",
              "      <td>CIÊNCIAS DA COMPUTAÇÃO</td>\n",
              "      <td>Carina Friedrich Dorneles</td>\n",
              "      <td>INE5454 - Tópicos Especiais em Gerência de Dados</td>\n",
              "      <td>8.25</td>\n",
              "      <td>7.50</td>\n",
              "      <td>7.38</td>\n",
              "      <td>8.84</td>\n",
              "      <td>8.00</td>\n",
              "      <td>9.50</td>\n",
              "      <td>7.25</td>\n",
              "      <td>8.50</td>\n",
              "      <td>9.13</td>\n",
              "      <td>7.67</td>\n",
              "      <td>7.50</td>\n",
              "      <td>8.090000e+00</td>\n",
              "      <td>8.380000e+00</td>\n",
              "      <td>Tratamento e Banco de Dados</td>\n",
              "    </tr>\n",
              "    <tr>\n",
              "      <th>4</th>\n",
              "      <td>SISTEMAS DE INFORMAÇÃO (noturno)</td>\n",
              "      <td>Jean Everson Martina</td>\n",
              "      <td>INE5429 - Segurança em Computação</td>\n",
              "      <td>7.25</td>\n",
              "      <td>7.00</td>\n",
              "      <td>10.00</td>\n",
              "      <td>8.50</td>\n",
              "      <td>6.50</td>\n",
              "      <td>7.50</td>\n",
              "      <td>9.75</td>\n",
              "      <td>8.00</td>\n",
              "      <td>7.67</td>\n",
              "      <td>6.67</td>\n",
              "      <td>7.09</td>\n",
              "      <td>-1.565468e-07</td>\n",
              "      <td>-4.693868e-08</td>\n",
              "      <td>Redes de Computadores e Segurança</td>\n",
              "    </tr>\n",
              "    <tr>\n",
              "      <th>5</th>\n",
              "      <td>CIÊNCIAS DA COMPUTAÇÃO</td>\n",
              "      <td>Vania Bogorny</td>\n",
              "      <td>INE5644 - Data Mining</td>\n",
              "      <td>8.25</td>\n",
              "      <td>7.50</td>\n",
              "      <td>7.00</td>\n",
              "      <td>7.67</td>\n",
              "      <td>8.00</td>\n",
              "      <td>8.50</td>\n",
              "      <td>7.50</td>\n",
              "      <td>7.00</td>\n",
              "      <td>7.13</td>\n",
              "      <td>6.67</td>\n",
              "      <td>7.50</td>\n",
              "      <td>7.250000e+00</td>\n",
              "      <td>7.130000e+00</td>\n",
              "      <td>Tratamento e Banco de Dados</td>\n",
              "    </tr>\n",
              "    <tr>\n",
              "      <th>6</th>\n",
              "      <td>CIÊNCIAS DA COMPUTAÇÃO</td>\n",
              "      <td>Ricardo Felipe Custódio</td>\n",
              "      <td>INE5429 - Segurança em Computação</td>\n",
              "      <td>6.75</td>\n",
              "      <td>7.00</td>\n",
              "      <td>6.67</td>\n",
              "      <td>7.67</td>\n",
              "      <td>7.13</td>\n",
              "      <td>9.00</td>\n",
              "      <td>7.50</td>\n",
              "      <td>6.75</td>\n",
              "      <td>9.25</td>\n",
              "      <td>6.67</td>\n",
              "      <td>6.88</td>\n",
              "      <td>7.400000e+00</td>\n",
              "      <td>6.840000e+00</td>\n",
              "      <td>Redes de Computadores e Segurança</td>\n",
              "    </tr>\n",
              "    <tr>\n",
              "      <th>7</th>\n",
              "      <td>CIÊNCIAS DA COMPUTAÇÃO</td>\n",
              "      <td>Raul Sidnei Wazlawick</td>\n",
              "      <td>INE5614 - Engenharia de Software</td>\n",
              "      <td>9.25</td>\n",
              "      <td>7.50</td>\n",
              "      <td>8.13</td>\n",
              "      <td>8.50</td>\n",
              "      <td>6.84</td>\n",
              "      <td>6.00</td>\n",
              "      <td>7.50</td>\n",
              "      <td>6.50</td>\n",
              "      <td>8.17</td>\n",
              "      <td>6.67</td>\n",
              "      <td>7.25</td>\n",
              "      <td>6.800000e+00</td>\n",
              "      <td>7.500000e+00</td>\n",
              "      <td>Engenharia de Software, Gerência de Projetos</td>\n",
              "    </tr>\n",
              "    <tr>\n",
              "      <th>8</th>\n",
              "      <td>SISTEMAS DE INFORMAÇÃO (noturno)</td>\n",
              "      <td>#na#</td>\n",
              "      <td>INE5644 - Data Mining</td>\n",
              "      <td>8.50</td>\n",
              "      <td>7.60</td>\n",
              "      <td>7.84</td>\n",
              "      <td>8.50</td>\n",
              "      <td>8.00</td>\n",
              "      <td>6.50</td>\n",
              "      <td>6.50</td>\n",
              "      <td>9.00</td>\n",
              "      <td>7.25</td>\n",
              "      <td>7.84</td>\n",
              "      <td>6.75</td>\n",
              "      <td>7.090000e+00</td>\n",
              "      <td>-4.693868e-08</td>\n",
              "      <td>Tratamento e Banco de Dados</td>\n",
              "    </tr>\n",
              "    <tr>\n",
              "      <th>9</th>\n",
              "      <td>CIÊNCIAS DA COMPUTAÇÃO</td>\n",
              "      <td>Renato Fileto</td>\n",
              "      <td>INE5650 - Web Semântica, Ontologias e Sistemas de Informação</td>\n",
              "      <td>8.25</td>\n",
              "      <td>6.00</td>\n",
              "      <td>6.80</td>\n",
              "      <td>6.63</td>\n",
              "      <td>6.50</td>\n",
              "      <td>7.25</td>\n",
              "      <td>6.50</td>\n",
              "      <td>6.00</td>\n",
              "      <td>9.00</td>\n",
              "      <td>7.17</td>\n",
              "      <td>7.88</td>\n",
              "      <td>7.200000e+00</td>\n",
              "      <td>6.400000e+00</td>\n",
              "      <td>Tratamento e Banco de Dados</td>\n",
              "    </tr>\n",
              "  </tbody>\n",
              "</table>"
            ]
          },
          "metadata": {}
        }
      ]
    },
    {
      "cell_type": "code",
      "source": [
        "to._dbunch_type == dls._dbunch_type"
      ],
      "metadata": {
        "colab": {
          "base_uri": "https://localhost:8080/"
        },
        "id": "0c4UMufuRDYh",
        "outputId": "74339658-4c52-4acd-cab9-aa7d223153df"
      },
      "execution_count": 24,
      "outputs": [
        {
          "output_type": "execute_result",
          "data": {
            "text/plain": [
              "True"
            ]
          },
          "metadata": {},
          "execution_count": 24
        }
      ]
    },
    {
      "cell_type": "code",
      "source": [
        "emb_szs = get_emb_sz(to); emb_szs"
      ],
      "metadata": {
        "colab": {
          "base_uri": "https://localhost:8080/"
        },
        "id": "O-B_mvAfRK4q",
        "outputId": "f672ebca-67a2-4fd2-e981-eaa79110c56a"
      },
      "execution_count": 25,
      "outputs": [
        {
          "output_type": "execute_result",
          "data": {
            "text/plain": [
              "[(3, 3), (36, 12), (39, 12)]"
            ]
          },
          "metadata": {},
          "execution_count": 25
        }
      ]
    },
    {
      "cell_type": "code",
      "source": [
        "to.cat_names"
      ],
      "metadata": {
        "colab": {
          "base_uri": "https://localhost:8080/"
        },
        "id": "_qGTIZJpROgT",
        "outputId": "8e0c22d8-182c-4864-80ea-d6a441a82da8"
      },
      "execution_count": 26,
      "outputs": [
        {
          "output_type": "execute_result",
          "data": {
            "text/plain": [
              "(#3) ['CURSO','ORIENTADOR','CLASSIF_AREA']"
            ]
          },
          "metadata": {},
          "execution_count": 26
        }
      ]
    },
    {
      "cell_type": "code",
      "source": [
        "to['AREA'].nunique()"
      ],
      "metadata": {
        "colab": {
          "base_uri": "https://localhost:8080/"
        },
        "id": "WSVT8PSLRTcd",
        "outputId": "f4fb3f65-40bb-48db-a52e-13d4fd4120bc"
      },
      "execution_count": 27,
      "outputs": [
        {
          "output_type": "execute_result",
          "data": {
            "text/plain": [
              "11"
            ]
          },
          "metadata": {},
          "execution_count": 27
        }
      ]
    },
    {
      "cell_type": "code",
      "source": [
        "cont_len = len(to.cont_names); cont_len"
      ],
      "metadata": {
        "colab": {
          "base_uri": "https://localhost:8080/"
        },
        "id": "h_6PQpisR1q0",
        "outputId": "088d3eee-4123-4455-91a2-161ded35f626"
      },
      "execution_count": 28,
      "outputs": [
        {
          "output_type": "execute_result",
          "data": {
            "text/plain": [
              "13"
            ]
          },
          "metadata": {},
          "execution_count": 28
        }
      ]
    },
    {
      "cell_type": "code",
      "source": [
        "batch = dls.one_batch(); len(batch)"
      ],
      "metadata": {
        "colab": {
          "base_uri": "https://localhost:8080/"
        },
        "id": "7wyw5FkSR9hR",
        "outputId": "1102b87b-2e86-4e29-f8ca-b427ca94df7b"
      },
      "execution_count": 29,
      "outputs": [
        {
          "output_type": "execute_result",
          "data": {
            "text/plain": [
              "3"
            ]
          },
          "metadata": {},
          "execution_count": 29
        }
      ]
    },
    {
      "cell_type": "code",
      "source": [
        "batch[0][0], batch[1][0]"
      ],
      "metadata": {
        "colab": {
          "base_uri": "https://localhost:8080/"
        },
        "id": "rXRwqHQxSDmi",
        "outputId": "b19f2cc2-01b8-40f0-f20c-020aedeee146"
      },
      "execution_count": 30,
      "outputs": [
        {
          "output_type": "execute_result",
          "data": {
            "text/plain": [
              "(tensor([ 2, 15, 13]),\n",
              " tensor([-0.4957,  0.3742,  0.7274,  0.7454, -1.0268,  0.3740,  0.9539,  0.4321,\n",
              "         -0.0369, -0.2847, -0.0679, -1.4609, -1.0254]))"
            ]
          },
          "metadata": {},
          "execution_count": 30
        }
      ]
    },
    {
      "cell_type": "code",
      "source": [
        "net = TabularModel(emb_szs, cont_len, 10, [200,100])"
      ],
      "metadata": {
        "id": "FF8QNleASG46"
      },
      "execution_count": 31,
      "outputs": []
    },
    {
      "cell_type": "code",
      "source": [
        "net"
      ],
      "metadata": {
        "colab": {
          "base_uri": "https://localhost:8080/"
        },
        "id": "3vVZjkEKSoX6",
        "outputId": "a0ea176d-d1aa-41ac-956c-e605853a154c"
      },
      "execution_count": 32,
      "outputs": [
        {
          "output_type": "execute_result",
          "data": {
            "text/plain": [
              "TabularModel(\n",
              "  (embeds): ModuleList(\n",
              "    (0): Embedding(3, 3)\n",
              "    (1): Embedding(36, 12)\n",
              "    (2): Embedding(39, 12)\n",
              "  )\n",
              "  (emb_drop): Dropout(p=0.0, inplace=False)\n",
              "  (bn_cont): BatchNorm1d(13, eps=1e-05, momentum=0.1, affine=True, track_running_stats=True)\n",
              "  (layers): Sequential(\n",
              "    (0): LinBnDrop(\n",
              "      (0): Linear(in_features=40, out_features=200, bias=False)\n",
              "      (1): ReLU(inplace=True)\n",
              "      (2): BatchNorm1d(200, eps=1e-05, momentum=0.1, affine=True, track_running_stats=True)\n",
              "    )\n",
              "    (1): LinBnDrop(\n",
              "      (0): Linear(in_features=200, out_features=100, bias=False)\n",
              "      (1): ReLU(inplace=True)\n",
              "      (2): BatchNorm1d(100, eps=1e-05, momentum=0.1, affine=True, track_running_stats=True)\n",
              "    )\n",
              "    (2): LinBnDrop(\n",
              "      (0): Linear(in_features=100, out_features=10, bias=True)\n",
              "    )\n",
              "  )\n",
              ")"
            ]
          },
          "metadata": {},
          "execution_count": 32
        }
      ]
    },
    {
      "cell_type": "code",
      "source": [
        "learn = tabular_learner(dls, [200,100], metrics=accuracy)"
      ],
      "metadata": {
        "id": "Vc_8qM1rSpQi"
      },
      "execution_count": 33,
      "outputs": []
    },
    {
      "cell_type": "code",
      "source": [
        "learn.lr_find()"
      ],
      "metadata": {
        "colab": {
          "base_uri": "https://localhost:8080/",
          "height": 300
        },
        "id": "GCBSVOAeSwAL",
        "outputId": "d6c0d12d-48cf-4b82-a250-d1ec63116ef2"
      },
      "execution_count": 34,
      "outputs": [
        {
          "output_type": "display_data",
          "data": {
            "text/plain": [
              "<IPython.core.display.HTML object>"
            ],
            "text/html": [
              "\n",
              "<style>\n",
              "    /* Turns off some styling */\n",
              "    progress {\n",
              "        /* gets rid of default border in Firefox and Opera. */\n",
              "        border: none;\n",
              "        /* Needs to be in here for Safari polyfill so background images work as expected. */\n",
              "        background-size: auto;\n",
              "    }\n",
              "    progress:not([value]), progress:not([value])::-webkit-progress-bar {\n",
              "        background: repeating-linear-gradient(45deg, #7e7e7e, #7e7e7e 10px, #5c5c5c 10px, #5c5c5c 20px);\n",
              "    }\n",
              "    .progress-bar-interrupted, .progress-bar-interrupted::-webkit-progress-bar {\n",
              "        background: #F44336;\n",
              "    }\n",
              "</style>\n"
            ]
          },
          "metadata": {}
        },
        {
          "output_type": "display_data",
          "data": {
            "text/plain": [
              "<IPython.core.display.HTML object>"
            ],
            "text/html": []
          },
          "metadata": {}
        },
        {
          "output_type": "execute_result",
          "data": {
            "text/plain": [
              "SuggestedLRs(valley=0.001737800776027143)"
            ]
          },
          "metadata": {},
          "execution_count": 34
        },
        {
          "output_type": "display_data",
          "data": {
            "text/plain": [
              "<Figure size 432x288 with 1 Axes>"
            ],
            "image/png": "[encoded data removed]"
          },
          "metadata": {
            "needs_background": "light"
          }
        }
      ]
    },
    {
      "cell_type": "code",
      "source": [
        "dls = to.dataloaders()\n",
        "learn = tabular_learner(dls, [200,100], metrics=accuracy)\n"
      ],
      "metadata": {
        "id": "Rv5L0et7SyxC"
      },
      "execution_count": 35,
      "outputs": []
    },
    {
      "cell_type": "code",
      "source": [
        "learn.fit(10, 1e-3)"
      ],
      "metadata": {
        "colab": {
          "base_uri": "https://localhost:8080/",
          "height": 363
        },
        "id": "Ritof_cfR94F",
        "outputId": "5331096d-914e-4af2-ca15-0c1d27c52ba5"
      },
      "execution_count": 42,
      "outputs": [
        {
          "output_type": "display_data",
          "data": {
            "text/plain": [
              "<IPython.core.display.HTML object>"
            ],
            "text/html": [
              "\n",
              "<style>\n",
              "    /* Turns off some styling */\n",
              "    progress {\n",
              "        /* gets rid of default border in Firefox and Opera. */\n",
              "        border: none;\n",
              "        /* Needs to be in here for Safari polyfill so background images work as expected. */\n",
              "        background-size: auto;\n",
              "    }\n",
              "    progress:not([value]), progress:not([value])::-webkit-progress-bar {\n",
              "        background: repeating-linear-gradient(45deg, #7e7e7e, #7e7e7e 10px, #5c5c5c 10px, #5c5c5c 20px);\n",
              "    }\n",
              "    .progress-bar-interrupted, .progress-bar-interrupted::-webkit-progress-bar {\n",
              "        background: #F44336;\n",
              "    }\n",
              "</style>\n"
            ]
          },
          "metadata": {}
        },
        {
          "output_type": "display_data",
          "data": {
            "text/plain": [
              "<IPython.core.display.HTML object>"
            ],
            "text/html": [
              "<table border=\"1\" class=\"dataframe\">\n",
              "  <thead>\n",
              "    <tr style=\"text-align: left;\">\n",
              "      <th>epoch</th>\n",
              "      <th>train_loss</th>\n",
              "      <th>valid_loss</th>\n",
              "      <th>accuracy</th>\n",
              "      <th>time</th>\n",
              "    </tr>\n",
              "  </thead>\n",
              "  <tbody>\n",
              "    <tr>\n",
              "      <td>0</td>\n",
              "      <td>0.007995</td>\n",
              "      <td>0.725165</td>\n",
              "      <td>0.819672</td>\n",
              "      <td>00:00</td>\n",
              "    </tr>\n",
              "    <tr>\n",
              "      <td>1</td>\n",
              "      <td>0.010325</td>\n",
              "      <td>0.714480</td>\n",
              "      <td>0.819672</td>\n",
              "      <td>00:00</td>\n",
              "    </tr>\n",
              "    <tr>\n",
              "      <td>2</td>\n",
              "      <td>0.009294</td>\n",
              "      <td>0.717439</td>\n",
              "      <td>0.819672</td>\n",
              "      <td>00:00</td>\n",
              "    </tr>\n",
              "    <tr>\n",
              "      <td>3</td>\n",
              "      <td>0.008914</td>\n",
              "      <td>0.727555</td>\n",
              "      <td>0.819672</td>\n",
              "      <td>00:00</td>\n",
              "    </tr>\n",
              "    <tr>\n",
              "      <td>4</td>\n",
              "      <td>0.008176</td>\n",
              "      <td>0.717966</td>\n",
              "      <td>0.819672</td>\n",
              "      <td>00:00</td>\n",
              "    </tr>\n",
              "    <tr>\n",
              "      <td>5</td>\n",
              "      <td>0.008080</td>\n",
              "      <td>0.717007</td>\n",
              "      <td>0.819672</td>\n",
              "      <td>00:00</td>\n",
              "    </tr>\n",
              "    <tr>\n",
              "      <td>6</td>\n",
              "      <td>0.007824</td>\n",
              "      <td>0.716961</td>\n",
              "      <td>0.819672</td>\n",
              "      <td>00:00</td>\n",
              "    </tr>\n",
              "    <tr>\n",
              "      <td>7</td>\n",
              "      <td>0.007543</td>\n",
              "      <td>0.716562</td>\n",
              "      <td>0.819672</td>\n",
              "      <td>00:00</td>\n",
              "    </tr>\n",
              "    <tr>\n",
              "      <td>8</td>\n",
              "      <td>0.007261</td>\n",
              "      <td>0.709829</td>\n",
              "      <td>0.819672</td>\n",
              "      <td>00:00</td>\n",
              "    </tr>\n",
              "    <tr>\n",
              "      <td>9</td>\n",
              "      <td>0.007478</td>\n",
              "      <td>0.706748</td>\n",
              "      <td>0.819672</td>\n",
              "      <td>00:00</td>\n",
              "    </tr>\n",
              "  </tbody>\n",
              "</table>"
            ]
          },
          "metadata": {}
        }
      ]
    },
    {
      "cell_type": "code",
      "source": [
        "# predição em lote\n",
        "dl = learn.dls.test_dl(df.iloc[:100])"
      ],
      "metadata": {
        "id": "hAQjIBT2TONY"
      },
      "execution_count": 37,
      "outputs": []
    },
    {
      "cell_type": "code",
      "source": [
        "dl.show_batch()"
      ],
      "metadata": {
        "id": "b5VpXwWkWaHS",
        "colab": {
          "base_uri": "https://localhost:8080/",
          "height": 936
        },
        "outputId": "11cd0f4d-5819-433c-dd35-3aac66bda6a4"
      },
      "execution_count": 38,
      "outputs": [
        {
          "output_type": "display_data",
          "data": {
            "text/plain": [
              "<IPython.core.display.HTML object>"
            ],
            "text/html": [
              "<table border=\"1\" class=\"dataframe\">\n",
              "  <thead>\n",
              "    <tr style=\"text-align: right;\">\n",
              "      <th></th>\n",
              "      <th>CURSO</th>\n",
              "      <th>ORIENTADOR</th>\n",
              "      <th>CLASSIF_AREA</th>\n",
              "      <th>Area1</th>\n",
              "      <th>Area2</th>\n",
              "      <th>Area3</th>\n",
              "      <th>Area4</th>\n",
              "      <th>Area5</th>\n",
              "      <th>Area6</th>\n",
              "      <th>Area7</th>\n",
              "      <th>Area8</th>\n",
              "      <th>Area9</th>\n",
              "      <th>Area10</th>\n",
              "      <th>Area11</th>\n",
              "      <th>Area12</th>\n",
              "      <th>Area13</th>\n",
              "      <th>AREA</th>\n",
              "    </tr>\n",
              "  </thead>\n",
              "  <tbody>\n",
              "    <tr>\n",
              "      <th>0</th>\n",
              "      <td>SISTEMAS DE INFORMAÇÃO (noturno)</td>\n",
              "      <td>ORIENTADOR DEFAULT</td>\n",
              "      <td>DISCIPLINA DEFAULT</td>\n",
              "      <td>1.00</td>\n",
              "      <td>1.000000e+00</td>\n",
              "      <td>1.00</td>\n",
              "      <td>1.00</td>\n",
              "      <td>1.00</td>\n",
              "      <td>1.00</td>\n",
              "      <td>1.00</td>\n",
              "      <td>1.00</td>\n",
              "      <td>1.000000e+00</td>\n",
              "      <td>1.00</td>\n",
              "      <td>1.00</td>\n",
              "      <td>1.000000e+00</td>\n",
              "      <td>1.000000e+00</td>\n",
              "      <td>AREA DEFAULT</td>\n",
              "    </tr>\n",
              "    <tr>\n",
              "      <th>1</th>\n",
              "      <td>CIÊNCIAS DA COMPUTAÇÃO</td>\n",
              "      <td>Joao Candido Lima Dovicchi</td>\n",
              "      <td>INE5655 - Gestão Estratégica de Tecnologia, Informação e Comunicação</td>\n",
              "      <td>8.84</td>\n",
              "      <td>9.845508e-09</td>\n",
              "      <td>7.67</td>\n",
              "      <td>7.67</td>\n",
              "      <td>6.25</td>\n",
              "      <td>8.50</td>\n",
              "      <td>6.00</td>\n",
              "      <td>6.75</td>\n",
              "      <td>-1.555664e-07</td>\n",
              "      <td>7.00</td>\n",
              "      <td>7.00</td>\n",
              "      <td>7.500000e+00</td>\n",
              "      <td>8.000000e+00</td>\n",
              "      <td>Ciência, Tecnologia, Sociedade e Emprendedorismo</td>\n",
              "    </tr>\n",
              "    <tr>\n",
              "      <th>2</th>\n",
              "      <td>SISTEMAS DE INFORMAÇÃO (noturno)</td>\n",
              "      <td>José Eduardo de Lucca</td>\n",
              "      <td>INE5428 - Informática e Sociedade</td>\n",
              "      <td>7.30</td>\n",
              "      <td>6.750000e+00</td>\n",
              "      <td>6.00</td>\n",
              "      <td>6.50</td>\n",
              "      <td>6.50</td>\n",
              "      <td>8.25</td>\n",
              "      <td>8.00</td>\n",
              "      <td>7.50</td>\n",
              "      <td>7.670000e+00</td>\n",
              "      <td>6.50</td>\n",
              "      <td>6.63</td>\n",
              "      <td>-1.565468e-07</td>\n",
              "      <td>-4.693868e-08</td>\n",
              "      <td>Ciência, Tecnologia, Sociedade e Emprendedorismo</td>\n",
              "    </tr>\n",
              "    <tr>\n",
              "      <th>3</th>\n",
              "      <td>SISTEMAS DE INFORMAÇÃO (noturno)</td>\n",
              "      <td>José Eduardo de Lucca</td>\n",
              "      <td>INE5428 - Informática e Sociedade</td>\n",
              "      <td>8.00</td>\n",
              "      <td>7.340000e+00</td>\n",
              "      <td>8.00</td>\n",
              "      <td>7.50</td>\n",
              "      <td>7.50</td>\n",
              "      <td>7.25</td>\n",
              "      <td>9.75</td>\n",
              "      <td>8.38</td>\n",
              "      <td>8.170000e+00</td>\n",
              "      <td>6.50</td>\n",
              "      <td>7.59</td>\n",
              "      <td>-1.565468e-07</td>\n",
              "      <td>-4.693868e-08</td>\n",
              "      <td>Ciência, Tecnologia, Sociedade e Emprendedorismo</td>\n",
              "    </tr>\n",
              "    <tr>\n",
              "      <th>4</th>\n",
              "      <td>SISTEMAS DE INFORMAÇÃO (noturno)</td>\n",
              "      <td>José Eduardo de Lucca</td>\n",
              "      <td>#na#</td>\n",
              "      <td>7.30</td>\n",
              "      <td>8.840000e+00</td>\n",
              "      <td>8.00</td>\n",
              "      <td>8.00</td>\n",
              "      <td>6.00</td>\n",
              "      <td>7.75</td>\n",
              "      <td>10.00</td>\n",
              "      <td>8.25</td>\n",
              "      <td>8.340000e+00</td>\n",
              "      <td>7.75</td>\n",
              "      <td>7.67</td>\n",
              "      <td>-1.565468e-07</td>\n",
              "      <td>-4.693868e-08</td>\n",
              "      <td>Ciência, Tecnologia, Sociedade e Emprendedorismo</td>\n",
              "    </tr>\n",
              "    <tr>\n",
              "      <th>5</th>\n",
              "      <td>SISTEMAS DE INFORMAÇÃO (noturno)</td>\n",
              "      <td>José Eduardo de Lucca</td>\n",
              "      <td>INE5428 - Informática e Sociedade</td>\n",
              "      <td>7.70</td>\n",
              "      <td>7.670000e+00</td>\n",
              "      <td>7.50</td>\n",
              "      <td>7.50</td>\n",
              "      <td>8.50</td>\n",
              "      <td>6.75</td>\n",
              "      <td>8.50</td>\n",
              "      <td>6.84</td>\n",
              "      <td>8.000000e+00</td>\n",
              "      <td>6.50</td>\n",
              "      <td>7.59</td>\n",
              "      <td>-1.565468e-07</td>\n",
              "      <td>-4.693868e-08</td>\n",
              "      <td>Ciência, Tecnologia, Sociedade e Emprendedorismo</td>\n",
              "    </tr>\n",
              "    <tr>\n",
              "      <th>6</th>\n",
              "      <td>SISTEMAS DE INFORMAÇÃO (noturno)</td>\n",
              "      <td>José Eduardo de Lucca</td>\n",
              "      <td>INE5428 - Informática e Sociedade</td>\n",
              "      <td>7.60</td>\n",
              "      <td>7.840000e+00</td>\n",
              "      <td>8.00</td>\n",
              "      <td>7.00</td>\n",
              "      <td>6.00</td>\n",
              "      <td>6.50</td>\n",
              "      <td>9.00</td>\n",
              "      <td>7.13</td>\n",
              "      <td>8.000000e+00</td>\n",
              "      <td>7.00</td>\n",
              "      <td>7.30</td>\n",
              "      <td>-1.565468e-07</td>\n",
              "      <td>-4.693868e-08</td>\n",
              "      <td>Ciência, Tecnologia, Sociedade e Emprendedorismo</td>\n",
              "    </tr>\n",
              "    <tr>\n",
              "      <th>7</th>\n",
              "      <td>SISTEMAS DE INFORMAÇÃO (noturno)</td>\n",
              "      <td>Joao Candido Lima Dovicchi</td>\n",
              "      <td>INE5655 - Gestão Estratégica de Tecnologia, Informação e Comunicação</td>\n",
              "      <td>8.20</td>\n",
              "      <td>7.670000e+00</td>\n",
              "      <td>6.25</td>\n",
              "      <td>7.00</td>\n",
              "      <td>9.00</td>\n",
              "      <td>7.34</td>\n",
              "      <td>9.50</td>\n",
              "      <td>8.84</td>\n",
              "      <td>8.000000e+00</td>\n",
              "      <td>6.75</td>\n",
              "      <td>7.84</td>\n",
              "      <td>-1.565468e-07</td>\n",
              "      <td>-4.693868e-08</td>\n",
              "      <td>Ciência, Tecnologia, Sociedade e Emprendedorismo</td>\n",
              "    </tr>\n",
              "    <tr>\n",
              "      <th>8</th>\n",
              "      <td>SISTEMAS DE INFORMAÇÃO (noturno)</td>\n",
              "      <td>#na#</td>\n",
              "      <td>INE5428 - Informática e Sociedade</td>\n",
              "      <td>7.50</td>\n",
              "      <td>7.200000e+00</td>\n",
              "      <td>7.42</td>\n",
              "      <td>7.50</td>\n",
              "      <td>6.50</td>\n",
              "      <td>6.50</td>\n",
              "      <td>6.25</td>\n",
              "      <td>8.40</td>\n",
              "      <td>6.750000e+00</td>\n",
              "      <td>7.50</td>\n",
              "      <td>6.25</td>\n",
              "      <td>7.750000e+00</td>\n",
              "      <td>-4.693868e-08</td>\n",
              "      <td>Ciência, Tecnologia, Sociedade e Emprendedorismo</td>\n",
              "    </tr>\n",
              "    <tr>\n",
              "      <th>9</th>\n",
              "      <td>CIÊNCIAS DA COMPUTAÇÃO</td>\n",
              "      <td>Jean Everson Martina</td>\n",
              "      <td>INE5429 - Segurança em Computação</td>\n",
              "      <td>8.50</td>\n",
              "      <td>7.500000e+00</td>\n",
              "      <td>7.25</td>\n",
              "      <td>7.00</td>\n",
              "      <td>6.84</td>\n",
              "      <td>6.00</td>\n",
              "      <td>7.00</td>\n",
              "      <td>6.75</td>\n",
              "      <td>8.750000e+00</td>\n",
              "      <td>6.84</td>\n",
              "      <td>6.63</td>\n",
              "      <td>7.000000e+00</td>\n",
              "      <td>6.840000e+00</td>\n",
              "      <td>Ciência, Tecnologia, Sociedade e Emprendedorismo</td>\n",
              "    </tr>\n",
              "  </tbody>\n",
              "</table>"
            ]
          },
          "metadata": {}
        }
      ]
    },
    {
      "cell_type": "code",
      "source": [
        "learn.validate(dl=dl)"
      ],
      "metadata": {
        "id": "GsEN_cRxWb3i",
        "colab": {
          "base_uri": "https://localhost:8080/",
          "height": 34
        },
        "outputId": "f858aa52-d514-480f-960b-bff400da5576"
      },
      "execution_count": 39,
      "outputs": [
        {
          "output_type": "display_data",
          "data": {
            "text/plain": [
              "<IPython.core.display.HTML object>"
            ],
            "text/html": [
              "\n",
              "<style>\n",
              "    /* Turns off some styling */\n",
              "    progress {\n",
              "        /* gets rid of default border in Firefox and Opera. */\n",
              "        border: none;\n",
              "        /* Needs to be in here for Safari polyfill so background images work as expected. */\n",
              "        background-size: auto;\n",
              "    }\n",
              "    progress:not([value]), progress:not([value])::-webkit-progress-bar {\n",
              "        background: repeating-linear-gradient(45deg, #7e7e7e, #7e7e7e 10px, #5c5c5c 10px, #5c5c5c 20px);\n",
              "    }\n",
              "    .progress-bar-interrupted, .progress-bar-interrupted::-webkit-progress-bar {\n",
              "        background: #F44336;\n",
              "    }\n",
              "</style>\n"
            ]
          },
          "metadata": {}
        },
        {
          "output_type": "display_data",
          "data": {
            "text/plain": [
              "<IPython.core.display.HTML object>"
            ],
            "text/html": []
          },
          "metadata": {}
        },
        {
          "output_type": "execute_result",
          "data": {
            "text/plain": [
              "(#2) [0.0609070286154747,0.9800000190734863]"
            ]
          },
          "metadata": {},
          "execution_count": 39
        }
      ]
    },
    {
      "cell_type": "code",
      "source": [
        "learn.export('modeloParaPredicao.pk1')"
      ],
      "metadata": {
        "id": "ObycdntfiUop"
      },
      "execution_count": 40,
      "outputs": []
    }
  ]
}