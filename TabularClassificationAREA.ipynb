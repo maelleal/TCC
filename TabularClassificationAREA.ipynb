{
  "nbformat": 4,
  "nbformat_minor": 0,
  "metadata": {
    "colab": {
      "provenance": [],
      "collapsed_sections": [],
      "authorship_tag": "ABX9TyNDhJnpsuAc41+bZgnCw45g",
      "include_colab_link": true
    },
    "kernelspec": {
      "name": "python3",
      "display_name": "Python 3"
    },
    "language_info": {
      "name": "python"
    }
  },
  "cells": [
    {
      "cell_type": "markdown",
      "metadata": {
        "id": "view-in-github",
        "colab_type": "text"
      },
      "source": [
        "<a href=\"https://colab.research.google.com/github/maelleal/TCC_Recomendacao_INE/blob/main/TabularClassificationAREA.ipynb\" target=\"_parent\"><img src=\"https://colab.research.google.com/assets/colab-badge.svg\" alt=\"Open In Colab\"/></a>"
      ]
    },
    {
      "cell_type": "code",
      "execution_count": null,
      "metadata": {
        "id": "UkKoZfKooiFP"
      },
      "outputs": [],
      "source": [
        "!pip install -U fastai\n",
        "from fastai.tabular import *\n",
        "from fastai.tabular.all import *\n",
        "import pandas as pd\n",
        "import numpy as np\n",
        "import pathlib"
      ]
    },
    {
      "cell_type": "code",
      "source": [
        "from google.colab import drive\n",
        "drive.mount('/content/drive')"
      ],
      "metadata": {
        "id": "EHxffDsY4vLi",
        "colab": {
          "base_uri": "https://localhost:8080/"
        },
        "outputId": "74740bac-6b3b-4d3d-b853-21b71f4f0285"
      },
      "execution_count": 112,
      "outputs": [
        {
          "output_type": "stream",
          "name": "stdout",
          "text": [
            "Drive already mounted at /content/drive; to attempt to forcibly remount, call drive.mount(\"/content/drive\", force_remount=True).\n"
          ]
        }
      ]
    },
    {
      "cell_type": "code",
      "source": [
        "path = pathlib.Path('/content/drive/My Drive/TCC - Sistema recomendação INE')\n",
        "df = pd.read_excel(path/'tabela_modelo_medias_v5.xlsx')\n",
        "df = df.drop(columns=['ID_UFSC', 'MATRICULA', 'COD_AREA', 'MEDIA_NOTA'])\n",
        "\n",
        "df.head(n=4)"
      ],
      "metadata": {
        "id": "VRzzaaPWzGeJ",
        "colab": {
          "base_uri": "https://localhost:8080/",
          "height": 288
        },
        "outputId": "319752ef-a42e-4996-97b4-79aba3af1d2d"
      },
      "execution_count": 155,
      "outputs": [
        {
          "output_type": "execute_result",
          "data": {
            "text/plain": [
              "                              CURSO  \\\n",
              "0            CIÊNCIAS DA COMPUTAÇÃO   \n",
              "1            CIÊNCIAS DA COMPUTAÇÃO   \n",
              "2  SISTEMAS DE INFORMAÇÃO (noturno)   \n",
              "3  SISTEMAS DE INFORMAÇÃO (noturno)   \n",
              "\n",
              "                                           AREA  \\\n",
              "0             Teoria da Computação e Linguagens   \n",
              "1  Engenharia de Software, Gerência de Projetos   \n",
              "2  Engenharia de Software, Gerência de Projetos   \n",
              "3                    Fundamentos de Programação   \n",
              "\n",
              "                          ORIENTADOR                       CLASSIF_AREA  \\\n",
              "0                      Jerusa Marchi  INE5430 - Inteligência Artificial   \n",
              "1             Jean Carlo Rossa Hauck     INE5617 - Gerência de Projetos   \n",
              "2  Fabiane Barreto Vavassori Benitti   INE5614 - Engenharia de Software   \n",
              "3     Fernando Augusto da Silva Cruz     INE5646 - Programação para Web   \n",
              "\n",
              "   Area1  Area2  Area3  Area4  Area5  Area6  Area7  Area8  Area9  Area10  \\\n",
              "0   8.50   7.00   7.34   9.17   8.13    8.0   7.75   7.50   8.50    6.84   \n",
              "1   7.75   6.50   8.00   7.17   7.67    8.5   7.34   8.00   9.63    7.50   \n",
              "2   9.00   7.40   6.60   8.50   8.00    7.5   7.25   8.63   8.10    7.67   \n",
              "3   8.67   7.25   7.30   7.00   6.00    6.0   7.50   8.17   7.50    7.50   \n",
              "\n",
              "   Area11  Area12  Area13  \n",
              "0    7.38    7.79     7.0  \n",
              "1    8.63    7.09     8.0  \n",
              "2    6.50    7.50     0.0  \n",
              "3    6.25    7.25     0.0  "
            ],
            "text/html": [
              "\n",
              "  <div id=\"df-bf049d41-8104-4f4b-9fcb-c8591cc1b0c5\">\n",
              "    <div class=\"colab-df-container\">\n",
              "      <div>\n",
              "<style scoped>\n",
              "    .dataframe tbody tr th:only-of-type {\n",
              "        vertical-align: middle;\n",
              "    }\n",
              "\n",
              "    .dataframe tbody tr th {\n",
              "        vertical-align: top;\n",
              "    }\n",
              "\n",
              "    .dataframe thead th {\n",
              "        text-align: right;\n",
              "    }\n",
              "</style>\n",
              "<table border=\"1\" class=\"dataframe\">\n",
              "  <thead>\n",
              "    <tr style=\"text-align: right;\">\n",
              "      <th></th>\n",
              "      <th>CURSO</th>\n",
              "      <th>AREA</th>\n",
              "      <th>ORIENTADOR</th>\n",
              "      <th>CLASSIF_AREA</th>\n",
              "      <th>Area1</th>\n",
              "      <th>Area2</th>\n",
              "      <th>Area3</th>\n",
              "      <th>Area4</th>\n",
              "      <th>Area5</th>\n",
              "      <th>Area6</th>\n",
              "      <th>Area7</th>\n",
              "      <th>Area8</th>\n",
              "      <th>Area9</th>\n",
              "      <th>Area10</th>\n",
              "      <th>Area11</th>\n",
              "      <th>Area12</th>\n",
              "      <th>Area13</th>\n",
              "    </tr>\n",
              "  </thead>\n",
              "  <tbody>\n",
              "    <tr>\n",
              "      <th>0</th>\n",
              "      <td>CIÊNCIAS DA COMPUTAÇÃO</td>\n",
              "      <td>Teoria da Computação e Linguagens</td>\n",
              "      <td>Jerusa Marchi</td>\n",
              "      <td>INE5430 - Inteligência Artificial</td>\n",
              "      <td>8.50</td>\n",
              "      <td>7.00</td>\n",
              "      <td>7.34</td>\n",
              "      <td>9.17</td>\n",
              "      <td>8.13</td>\n",
              "      <td>8.0</td>\n",
              "      <td>7.75</td>\n",
              "      <td>7.50</td>\n",
              "      <td>8.50</td>\n",
              "      <td>6.84</td>\n",
              "      <td>7.38</td>\n",
              "      <td>7.79</td>\n",
              "      <td>7.0</td>\n",
              "    </tr>\n",
              "    <tr>\n",
              "      <th>1</th>\n",
              "      <td>CIÊNCIAS DA COMPUTAÇÃO</td>\n",
              "      <td>Engenharia de Software, Gerência de Projetos</td>\n",
              "      <td>Jean Carlo Rossa Hauck</td>\n",
              "      <td>INE5617 - Gerência de Projetos</td>\n",
              "      <td>7.75</td>\n",
              "      <td>6.50</td>\n",
              "      <td>8.00</td>\n",
              "      <td>7.17</td>\n",
              "      <td>7.67</td>\n",
              "      <td>8.5</td>\n",
              "      <td>7.34</td>\n",
              "      <td>8.00</td>\n",
              "      <td>9.63</td>\n",
              "      <td>7.50</td>\n",
              "      <td>8.63</td>\n",
              "      <td>7.09</td>\n",
              "      <td>8.0</td>\n",
              "    </tr>\n",
              "    <tr>\n",
              "      <th>2</th>\n",
              "      <td>SISTEMAS DE INFORMAÇÃO (noturno)</td>\n",
              "      <td>Engenharia de Software, Gerência de Projetos</td>\n",
              "      <td>Fabiane Barreto Vavassori Benitti</td>\n",
              "      <td>INE5614 - Engenharia de Software</td>\n",
              "      <td>9.00</td>\n",
              "      <td>7.40</td>\n",
              "      <td>6.60</td>\n",
              "      <td>8.50</td>\n",
              "      <td>8.00</td>\n",
              "      <td>7.5</td>\n",
              "      <td>7.25</td>\n",
              "      <td>8.63</td>\n",
              "      <td>8.10</td>\n",
              "      <td>7.67</td>\n",
              "      <td>6.50</td>\n",
              "      <td>7.50</td>\n",
              "      <td>0.0</td>\n",
              "    </tr>\n",
              "    <tr>\n",
              "      <th>3</th>\n",
              "      <td>SISTEMAS DE INFORMAÇÃO (noturno)</td>\n",
              "      <td>Fundamentos de Programação</td>\n",
              "      <td>Fernando Augusto da Silva Cruz</td>\n",
              "      <td>INE5646 - Programação para Web</td>\n",
              "      <td>8.67</td>\n",
              "      <td>7.25</td>\n",
              "      <td>7.30</td>\n",
              "      <td>7.00</td>\n",
              "      <td>6.00</td>\n",
              "      <td>6.0</td>\n",
              "      <td>7.50</td>\n",
              "      <td>8.17</td>\n",
              "      <td>7.50</td>\n",
              "      <td>7.50</td>\n",
              "      <td>6.25</td>\n",
              "      <td>7.25</td>\n",
              "      <td>0.0</td>\n",
              "    </tr>\n",
              "  </tbody>\n",
              "</table>\n",
              "</div>\n",
              "      <button class=\"colab-df-convert\" onclick=\"convertToInteractive('df-bf049d41-8104-4f4b-9fcb-c8591cc1b0c5')\"\n",
              "              title=\"Convert this dataframe to an interactive table.\"\n",
              "              style=\"display:none;\">\n",
              "        \n",
              "  <svg xmlns=\"http://www.w3.org/2000/svg\" height=\"24px\"viewBox=\"0 0 24 24\"\n",
              "       width=\"24px\">\n",
              "    <path d=\"M0 0h24v24H0V0z\" fill=\"none\"/>\n",
              "    <path d=\"M18.56 5.44l.94 2.06.94-2.06 2.06-.94-2.06-.94-.94-2.06-.94 2.06-2.06.94zm-11 1L8.5 8.5l.94-2.06 2.06-.94-2.06-.94L8.5 2.5l-.94 2.06-2.06.94zm10 10l.94 2.06.94-2.06 2.06-.94-2.06-.94-.94-2.06-.94 2.06-2.06.94z\"/><path d=\"M17.41 7.96l-1.37-1.37c-.4-.4-.92-.59-1.43-.59-.52 0-1.04.2-1.43.59L10.3 9.45l-7.72 7.72c-.78.78-.78 2.05 0 2.83L4 21.41c.39.39.9.59 1.41.59.51 0 1.02-.2 1.41-.59l7.78-7.78 2.81-2.81c.8-.78.8-2.07 0-2.86zM5.41 20L4 18.59l7.72-7.72 1.47 1.35L5.41 20z\"/>\n",
              "  </svg>\n",
              "      </button>\n",
              "      \n",
              "  <style>\n",
              "    .colab-df-container {\n",
              "      display:flex;\n",
              "      flex-wrap:wrap;\n",
              "      gap: 12px;\n",
              "    }\n",
              "\n",
              "    .colab-df-convert {\n",
              "      background-color: #E8F0FE;\n",
              "      border: none;\n",
              "      border-radius: 50%;\n",
              "      cursor: pointer;\n",
              "      display: none;\n",
              "      fill: #1967D2;\n",
              "      height: 32px;\n",
              "      padding: 0 0 0 0;\n",
              "      width: 32px;\n",
              "    }\n",
              "\n",
              "    .colab-df-convert:hover {\n",
              "      background-color: #E2EBFA;\n",
              "      box-shadow: 0px 1px 2px rgba(60, 64, 67, 0.3), 0px 1px 3px 1px rgba(60, 64, 67, 0.15);\n",
              "      fill: #174EA6;\n",
              "    }\n",
              "\n",
              "    [theme=dark] .colab-df-convert {\n",
              "      background-color: #3B4455;\n",
              "      fill: #D2E3FC;\n",
              "    }\n",
              "\n",
              "    [theme=dark] .colab-df-convert:hover {\n",
              "      background-color: #434B5C;\n",
              "      box-shadow: 0px 1px 3px 1px rgba(0, 0, 0, 0.15);\n",
              "      filter: drop-shadow(0px 1px 2px rgba(0, 0, 0, 0.3));\n",
              "      fill: #FFFFFF;\n",
              "    }\n",
              "  </style>\n",
              "\n",
              "      <script>\n",
              "        const buttonEl =\n",
              "          document.querySelector('#df-bf049d41-8104-4f4b-9fcb-c8591cc1b0c5 button.colab-df-convert');\n",
              "        buttonEl.style.display =\n",
              "          google.colab.kernel.accessAllowed ? 'block' : 'none';\n",
              "\n",
              "        async function convertToInteractive(key) {\n",
              "          const element = document.querySelector('#df-bf049d41-8104-4f4b-9fcb-c8591cc1b0c5');\n",
              "          const dataTable =\n",
              "            await google.colab.kernel.invokeFunction('convertToInteractive',\n",
              "                                                     [key], {});\n",
              "          if (!dataTable) return;\n",
              "\n",
              "          const docLinkHtml = 'Like what you see? Visit the ' +\n",
              "            '<a target=\"_blank\" href=https://colab.research.google.com/notebooks/data_table.ipynb>data table notebook</a>'\n",
              "            + ' to learn more about interactive tables.';\n",
              "          element.innerHTML = '';\n",
              "          dataTable['output_type'] = 'display_data';\n",
              "          await google.colab.output.renderOutput(dataTable, element);\n",
              "          const docLink = document.createElement('div');\n",
              "          docLink.innerHTML = docLinkHtml;\n",
              "          element.appendChild(docLink);\n",
              "        }\n",
              "      </script>\n",
              "    </div>\n",
              "  </div>\n",
              "  "
            ]
          },
          "metadata": {},
          "execution_count": 155
        }
      ]
    },
    {
      "cell_type": "code",
      "source": [
        "#The list of categorical features in the dataset\n",
        "cat_names = ['CURSO', 'ORIENTADOR', 'AREA', 'CLASSIF_AREA'] \n",
        "\n",
        "#The list of continuous features in the dataset\n",
        "#Exclude the Dependent variable 'AREA'\n",
        "cont_names =['Area1', 'Area2', 'Area3', 'Area4', 'Area5', 'Area6', 'Area7', 'Area8', 'Area9', 'Area10', 'Area11', 'Area12', 'Area13'] \n"
      ],
      "metadata": {
        "id": "qpGi1R3yzmla"
      },
      "execution_count": 162,
      "outputs": []
    },
    {
      "cell_type": "code",
      "source": [
        "cat = Categorify()"
      ],
      "metadata": {
        "id": "pCBFf9M3MaKp"
      },
      "execution_count": 163,
      "outputs": []
    },
    {
      "cell_type": "code",
      "source": [
        "to = TabularPandas(df, cat, cat_names)"
      ],
      "metadata": {
        "id": "kOQ_ahXzMz_I"
      },
      "execution_count": 164,
      "outputs": []
    },
    {
      "cell_type": "code",
      "source": [
        "cats = to.procs.categorify"
      ],
      "metadata": {
        "id": "vCcRPNo9M0tq"
      },
      "execution_count": 165,
      "outputs": []
    },
    {
      "cell_type": "code",
      "source": [
        "norm = Normalize()"
      ],
      "metadata": {
        "id": "N4-ObcbSNNO7"
      },
      "execution_count": 166,
      "outputs": []
    },
    {
      "cell_type": "code",
      "source": [
        "to = TabularPandas(df, norm, cont_names=cont_names, cat_names=cat_names)"
      ],
      "metadata": {
        "id": "esTc1ROKNapB"
      },
      "execution_count": 167,
      "outputs": []
    },
    {
      "cell_type": "code",
      "source": [
        "norms = to.procs.normalize"
      ],
      "metadata": {
        "id": "USCUGZGxNeDR"
      },
      "execution_count": 168,
      "outputs": []
    },
    {
      "cell_type": "code",
      "source": [
        "to.conts.head()"
      ],
      "metadata": {
        "colab": {
          "base_uri": "https://localhost:8080/",
          "height": 206
        },
        "id": "N_TDgAdMOFQB",
        "outputId": "6752d352-90bc-4f76-b9c3-064fdaee0042"
      },
      "execution_count": 169,
      "outputs": [
        {
          "output_type": "execute_result",
          "data": {
            "text/plain": [
              "      Area1     Area2     Area3     Area4     Area5     Area6     Area7  \\\n",
              "0  0.428565 -0.089127 -0.290668  1.443855  1.118808  0.390194  0.132630   \n",
              "1 -0.353927 -0.437277  0.342053 -0.600686  0.621272  0.819369 -0.200255   \n",
              "2  0.950226  0.189394 -1.000082  0.758933  0.978200 -0.038982 -0.273327   \n",
              "3  0.605930  0.084949 -0.329015 -0.774472 -1.185003 -1.326508 -0.070348   \n",
              "4  0.428565 -0.785428 -0.808348  0.380694 -0.103401 -0.468157  0.741566   \n",
              "\n",
              "      Area8     Area9    Area10    Area11    Area12    Area13  \n",
              "0 -0.085738  0.256315 -0.404233  0.173227  0.772250  0.812904  \n",
              "1  0.308498  0.980683  0.253742  1.460937  0.571616  1.073697  \n",
              "2  0.805236 -0.000098  0.423221 -0.733321  0.689130 -1.012647  \n",
              "3  0.442538 -0.384719  0.253742 -0.990863  0.617475 -1.012647  \n",
              "4 -1.268445  0.192211 -0.743191  0.430769  0.689130  0.682507  "
            ],
            "text/html": [
              "\n",
              "  <div id=\"df-3ea7c3d8-4d47-4a30-9f5c-51b8b200405e\">\n",
              "    <div class=\"colab-df-container\">\n",
              "      <div>\n",
              "<style scoped>\n",
              "    .dataframe tbody tr th:only-of-type {\n",
              "        vertical-align: middle;\n",
              "    }\n",
              "\n",
              "    .dataframe tbody tr th {\n",
              "        vertical-align: top;\n",
              "    }\n",
              "\n",
              "    .dataframe thead th {\n",
              "        text-align: right;\n",
              "    }\n",
              "</style>\n",
              "<table border=\"1\" class=\"dataframe\">\n",
              "  <thead>\n",
              "    <tr style=\"text-align: right;\">\n",
              "      <th></th>\n",
              "      <th>Area1</th>\n",
              "      <th>Area2</th>\n",
              "      <th>Area3</th>\n",
              "      <th>Area4</th>\n",
              "      <th>Area5</th>\n",
              "      <th>Area6</th>\n",
              "      <th>Area7</th>\n",
              "      <th>Area8</th>\n",
              "      <th>Area9</th>\n",
              "      <th>Area10</th>\n",
              "      <th>Area11</th>\n",
              "      <th>Area12</th>\n",
              "      <th>Area13</th>\n",
              "    </tr>\n",
              "  </thead>\n",
              "  <tbody>\n",
              "    <tr>\n",
              "      <th>0</th>\n",
              "      <td>0.428565</td>\n",
              "      <td>-0.089127</td>\n",
              "      <td>-0.290668</td>\n",
              "      <td>1.443855</td>\n",
              "      <td>1.118808</td>\n",
              "      <td>0.390194</td>\n",
              "      <td>0.132630</td>\n",
              "      <td>-0.085738</td>\n",
              "      <td>0.256315</td>\n",
              "      <td>-0.404233</td>\n",
              "      <td>0.173227</td>\n",
              "      <td>0.772250</td>\n",
              "      <td>0.812904</td>\n",
              "    </tr>\n",
              "    <tr>\n",
              "      <th>1</th>\n",
              "      <td>-0.353927</td>\n",
              "      <td>-0.437277</td>\n",
              "      <td>0.342053</td>\n",
              "      <td>-0.600686</td>\n",
              "      <td>0.621272</td>\n",
              "      <td>0.819369</td>\n",
              "      <td>-0.200255</td>\n",
              "      <td>0.308498</td>\n",
              "      <td>0.980683</td>\n",
              "      <td>0.253742</td>\n",
              "      <td>1.460937</td>\n",
              "      <td>0.571616</td>\n",
              "      <td>1.073697</td>\n",
              "    </tr>\n",
              "    <tr>\n",
              "      <th>2</th>\n",
              "      <td>0.950226</td>\n",
              "      <td>0.189394</td>\n",
              "      <td>-1.000082</td>\n",
              "      <td>0.758933</td>\n",
              "      <td>0.978200</td>\n",
              "      <td>-0.038982</td>\n",
              "      <td>-0.273327</td>\n",
              "      <td>0.805236</td>\n",
              "      <td>-0.000098</td>\n",
              "      <td>0.423221</td>\n",
              "      <td>-0.733321</td>\n",
              "      <td>0.689130</td>\n",
              "      <td>-1.012647</td>\n",
              "    </tr>\n",
              "    <tr>\n",
              "      <th>3</th>\n",
              "      <td>0.605930</td>\n",
              "      <td>0.084949</td>\n",
              "      <td>-0.329015</td>\n",
              "      <td>-0.774472</td>\n",
              "      <td>-1.185003</td>\n",
              "      <td>-1.326508</td>\n",
              "      <td>-0.070348</td>\n",
              "      <td>0.442538</td>\n",
              "      <td>-0.384719</td>\n",
              "      <td>0.253742</td>\n",
              "      <td>-0.990863</td>\n",
              "      <td>0.617475</td>\n",
              "      <td>-1.012647</td>\n",
              "    </tr>\n",
              "    <tr>\n",
              "      <th>4</th>\n",
              "      <td>0.428565</td>\n",
              "      <td>-0.785428</td>\n",
              "      <td>-0.808348</td>\n",
              "      <td>0.380694</td>\n",
              "      <td>-0.103401</td>\n",
              "      <td>-0.468157</td>\n",
              "      <td>0.741566</td>\n",
              "      <td>-1.268445</td>\n",
              "      <td>0.192211</td>\n",
              "      <td>-0.743191</td>\n",
              "      <td>0.430769</td>\n",
              "      <td>0.689130</td>\n",
              "      <td>0.682507</td>\n",
              "    </tr>\n",
              "  </tbody>\n",
              "</table>\n",
              "</div>\n",
              "      <button class=\"colab-df-convert\" onclick=\"convertToInteractive('df-3ea7c3d8-4d47-4a30-9f5c-51b8b200405e')\"\n",
              "              title=\"Convert this dataframe to an interactive table.\"\n",
              "              style=\"display:none;\">\n",
              "        \n",
              "  <svg xmlns=\"http://www.w3.org/2000/svg\" height=\"24px\"viewBox=\"0 0 24 24\"\n",
              "       width=\"24px\">\n",
              "    <path d=\"M0 0h24v24H0V0z\" fill=\"none\"/>\n",
              "    <path d=\"M18.56 5.44l.94 2.06.94-2.06 2.06-.94-2.06-.94-.94-2.06-.94 2.06-2.06.94zm-11 1L8.5 8.5l.94-2.06 2.06-.94-2.06-.94L8.5 2.5l-.94 2.06-2.06.94zm10 10l.94 2.06.94-2.06 2.06-.94-2.06-.94-.94-2.06-.94 2.06-2.06.94z\"/><path d=\"M17.41 7.96l-1.37-1.37c-.4-.4-.92-.59-1.43-.59-.52 0-1.04.2-1.43.59L10.3 9.45l-7.72 7.72c-.78.78-.78 2.05 0 2.83L4 21.41c.39.39.9.59 1.41.59.51 0 1.02-.2 1.41-.59l7.78-7.78 2.81-2.81c.8-.78.8-2.07 0-2.86zM5.41 20L4 18.59l7.72-7.72 1.47 1.35L5.41 20z\"/>\n",
              "  </svg>\n",
              "      </button>\n",
              "      \n",
              "  <style>\n",
              "    .colab-df-container {\n",
              "      display:flex;\n",
              "      flex-wrap:wrap;\n",
              "      gap: 12px;\n",
              "    }\n",
              "\n",
              "    .colab-df-convert {\n",
              "      background-color: #E8F0FE;\n",
              "      border: none;\n",
              "      border-radius: 50%;\n",
              "      cursor: pointer;\n",
              "      display: none;\n",
              "      fill: #1967D2;\n",
              "      height: 32px;\n",
              "      padding: 0 0 0 0;\n",
              "      width: 32px;\n",
              "    }\n",
              "\n",
              "    .colab-df-convert:hover {\n",
              "      background-color: #E2EBFA;\n",
              "      box-shadow: 0px 1px 2px rgba(60, 64, 67, 0.3), 0px 1px 3px 1px rgba(60, 64, 67, 0.15);\n",
              "      fill: #174EA6;\n",
              "    }\n",
              "\n",
              "    [theme=dark] .colab-df-convert {\n",
              "      background-color: #3B4455;\n",
              "      fill: #D2E3FC;\n",
              "    }\n",
              "\n",
              "    [theme=dark] .colab-df-convert:hover {\n",
              "      background-color: #434B5C;\n",
              "      box-shadow: 0px 1px 3px 1px rgba(0, 0, 0, 0.15);\n",
              "      filter: drop-shadow(0px 1px 2px rgba(0, 0, 0, 0.3));\n",
              "      fill: #FFFFFF;\n",
              "    }\n",
              "  </style>\n",
              "\n",
              "      <script>\n",
              "        const buttonEl =\n",
              "          document.querySelector('#df-3ea7c3d8-4d47-4a30-9f5c-51b8b200405e button.colab-df-convert');\n",
              "        buttonEl.style.display =\n",
              "          google.colab.kernel.accessAllowed ? 'block' : 'none';\n",
              "\n",
              "        async function convertToInteractive(key) {\n",
              "          const element = document.querySelector('#df-3ea7c3d8-4d47-4a30-9f5c-51b8b200405e');\n",
              "          const dataTable =\n",
              "            await google.colab.kernel.invokeFunction('convertToInteractive',\n",
              "                                                     [key], {});\n",
              "          if (!dataTable) return;\n",
              "\n",
              "          const docLinkHtml = 'Like what you see? Visit the ' +\n",
              "            '<a target=\"_blank\" href=https://colab.research.google.com/notebooks/data_table.ipynb>data table notebook</a>'\n",
              "            + ' to learn more about interactive tables.';\n",
              "          element.innerHTML = '';\n",
              "          dataTable['output_type'] = 'display_data';\n",
              "          await google.colab.output.renderOutput(dataTable, element);\n",
              "          const docLink = document.createElement('div');\n",
              "          docLink.innerHTML = docLinkHtml;\n",
              "          element.appendChild(docLink);\n",
              "        }\n",
              "      </script>\n",
              "    </div>\n",
              "  </div>\n",
              "  "
            ]
          },
          "metadata": {},
          "execution_count": 169
        }
      ]
    },
    {
      "cell_type": "code",
      "source": [
        "fm = FillMissing(fill_strategy=FillStrategy.median)"
      ],
      "metadata": {
        "id": "4JcqxdDkOSvn"
      },
      "execution_count": 170,
      "outputs": []
    },
    {
      "cell_type": "code",
      "source": [
        "to = TabularPandas(df, fm, cont_names=cont_names)"
      ],
      "metadata": {
        "id": "W8VKIRQ2Ol7G"
      },
      "execution_count": 171,
      "outputs": []
    },
    {
      "cell_type": "code",
      "source": [
        "to.cat_names"
      ],
      "metadata": {
        "colab": {
          "base_uri": "https://localhost:8080/"
        },
        "id": "iYP-b5miOrdB",
        "outputId": "30116495-8044-465c-d2b9-72bc074e4868"
      },
      "execution_count": 172,
      "outputs": [
        {
          "output_type": "execute_result",
          "data": {
            "text/plain": [
              "(#0) []"
            ]
          },
          "metadata": {},
          "execution_count": 172
        }
      ]
    },
    {
      "cell_type": "code",
      "source": [
        "cats['AREA']"
      ],
      "metadata": {
        "colab": {
          "base_uri": "https://localhost:8080/"
        },
        "id": "_JJ_pv0kPx0h",
        "outputId": "870b699f-b161-44f4-e971-89dc1a0017f5"
      },
      "execution_count": 173,
      "outputs": [
        {
          "output_type": "execute_result",
          "data": {
            "text/plain": [
              "['#na#', 'Ciência, Tecnologia, Sociedade e Emprendedorismo', 'Engenharia de Software, Gerência de Projetos', 'Fundamentos Matemáticos', 'Fundamentos de Programação', 'Organização de Computadores e Sistemas Embarcados', 'Probabilidade e Estatística', 'Redes de Computadores e Segurança', 'Sistemas Operacionais, Concorrência e Paralelismo', 'Teoria da Computação e Linguagens', 'Tratamento e Banco de Dados']"
            ]
          },
          "metadata": {},
          "execution_count": 173
        }
      ]
    },
    {
      "cell_type": "code",
      "source": [
        "splits = RandomSplitter()(range_of(df))\n",
        "splits"
      ],
      "metadata": {
        "colab": {
          "base_uri": "https://localhost:8080/"
        },
        "id": "PGFvSRKWP0kA",
        "outputId": "c93dd224-c956-4d43-c312-28be36eb131c"
      },
      "execution_count": 174,
      "outputs": [
        {
          "output_type": "execute_result",
          "data": {
            "text/plain": [
              "((#260) [274,18,20,223,236,247,51,302,262,108...],\n",
              " (#65) [199,39,185,137,272,300,256,150,205,299...])"
            ]
          },
          "metadata": {},
          "execution_count": 174
        }
      ]
    },
    {
      "cell_type": "code",
      "source": [
        "range_of(df)[:5], len(df)"
      ],
      "metadata": {
        "colab": {
          "base_uri": "https://localhost:8080/"
        },
        "id": "UzlrfIzHP-u4",
        "outputId": "aff54ba9-a205-4e30-ac2d-79776db99023"
      },
      "execution_count": 175,
      "outputs": [
        {
          "output_type": "execute_result",
          "data": {
            "text/plain": [
              "([0, 1, 2, 3, 4], 325)"
            ]
          },
          "metadata": {},
          "execution_count": 175
        }
      ]
    },
    {
      "cell_type": "code",
      "source": [
        "cat_names = ['CURSO', 'ORIENTADOR', 'CLASSIF_AREA'] \n",
        "cont_names = ['Area1', 'Area2', 'Area3', 'Area4', 'Area5', 'Area6', 'Area7', 'Area8', 'Area9', 'Area10', 'Area11', 'Area12', 'Area13'] \n",
        "procs = [Categorify, FillMissing, Normalize]\n",
        "y_names = 'AREA'\n",
        "y_block = CategoryBlock()"
      ],
      "metadata": {
        "id": "1ymIyO0TQD0q"
      },
      "execution_count": 178,
      "outputs": []
    },
    {
      "cell_type": "code",
      "source": [
        "to = TabularPandas(df, procs=procs, cat_names=cat_names, cont_names=cont_names,\n",
        "                   y_names=y_names, y_block=y_block, splits=splits)"
      ],
      "metadata": {
        "id": "Q791uTwTQyaF"
      },
      "execution_count": 179,
      "outputs": []
    },
    {
      "cell_type": "code",
      "source": [
        "dls = to.dataloaders()"
      ],
      "metadata": {
        "id": "Gnu4utqJQ6Jq"
      },
      "execution_count": 180,
      "outputs": []
    },
    {
      "cell_type": "code",
      "source": [
        "trn_dl = TabDataLoader(to.train, bs=64, shuffle=True, drop_last=True)\n",
        "val_dl = TabDataLoader(to.valid, bs=128)"
      ],
      "metadata": {
        "id": "VrR2CRtRQ8Qq"
      },
      "execution_count": 181,
      "outputs": []
    },
    {
      "cell_type": "code",
      "source": [
        "dls = DataLoaders(trn_dl, val_dl)"
      ],
      "metadata": {
        "id": "4gQSHJfuQ--B"
      },
      "execution_count": 182,
      "outputs": []
    },
    {
      "cell_type": "code",
      "source": [
        "dls.show_batch()"
      ],
      "metadata": {
        "colab": {
          "base_uri": "https://localhost:8080/",
          "height": 675
        },
        "id": "HRRX1poLRA95",
        "outputId": "b04fd530-354e-4589-c419-f930bb55f387"
      },
      "execution_count": 183,
      "outputs": [
        {
          "output_type": "display_data",
          "data": {
            "text/plain": [
              "<IPython.core.display.HTML object>"
            ],
            "text/html": [
              "<table border=\"1\" class=\"dataframe\">\n",
              "  <thead>\n",
              "    <tr style=\"text-align: right;\">\n",
              "      <th></th>\n",
              "      <th>CURSO</th>\n",
              "      <th>ORIENTADOR</th>\n",
              "      <th>CLASSIF_AREA</th>\n",
              "      <th>Area1</th>\n",
              "      <th>Area2</th>\n",
              "      <th>Area3</th>\n",
              "      <th>Area4</th>\n",
              "      <th>Area5</th>\n",
              "      <th>Area6</th>\n",
              "      <th>Area7</th>\n",
              "      <th>Area8</th>\n",
              "      <th>Area9</th>\n",
              "      <th>Area10</th>\n",
              "      <th>Area11</th>\n",
              "      <th>Area12</th>\n",
              "      <th>Area13</th>\n",
              "      <th>AREA</th>\n",
              "    </tr>\n",
              "  </thead>\n",
              "  <tbody>\n",
              "    <tr>\n",
              "      <th>0</th>\n",
              "      <td>CIÊNCIAS DA COMPUTAÇÃO</td>\n",
              "      <td>Frank Augusto Siqueira</td>\n",
              "      <td>INE5670 - Desenvolvimento de Sistemas Móveis e Embarcados</td>\n",
              "      <td>8.00</td>\n",
              "      <td>6.00</td>\n",
              "      <td>7.00</td>\n",
              "      <td>8.75</td>\n",
              "      <td>6.84</td>\n",
              "      <td>7.00</td>\n",
              "      <td>6.88</td>\n",
              "      <td>6.50</td>\n",
              "      <td>9.10</td>\n",
              "      <td>7.50</td>\n",
              "      <td>7.25</td>\n",
              "      <td>6.920000e+00</td>\n",
              "      <td>7.670000e+00</td>\n",
              "      <td>Fundamentos de Programação</td>\n",
              "    </tr>\n",
              "    <tr>\n",
              "      <th>1</th>\n",
              "      <td>SISTEMAS DE INFORMAÇÃO (noturno)</td>\n",
              "      <td>Jerusa Marchi</td>\n",
              "      <td>INE5633 - Sistemas Inteligentes</td>\n",
              "      <td>7.60</td>\n",
              "      <td>9.09</td>\n",
              "      <td>6.50</td>\n",
              "      <td>8.00</td>\n",
              "      <td>8.50</td>\n",
              "      <td>8.25</td>\n",
              "      <td>10.00</td>\n",
              "      <td>8.75</td>\n",
              "      <td>8.34</td>\n",
              "      <td>8.00</td>\n",
              "      <td>8.20</td>\n",
              "      <td>1.754207e-07</td>\n",
              "      <td>1.155623e-07</td>\n",
              "      <td>Teoria da Computação e Linguagens</td>\n",
              "    </tr>\n",
              "    <tr>\n",
              "      <th>2</th>\n",
              "      <td>CIÊNCIAS DA COMPUTAÇÃO</td>\n",
              "      <td>Rafael Luiz Cancian</td>\n",
              "      <td>INE5416 - Paradigmas de Programação</td>\n",
              "      <td>9.00</td>\n",
              "      <td>6.00</td>\n",
              "      <td>8.17</td>\n",
              "      <td>9.34</td>\n",
              "      <td>7.34</td>\n",
              "      <td>9.00</td>\n",
              "      <td>7.34</td>\n",
              "      <td>7.00</td>\n",
              "      <td>9.13</td>\n",
              "      <td>7.84</td>\n",
              "      <td>7.75</td>\n",
              "      <td>7.420000e+00</td>\n",
              "      <td>7.630000e+00</td>\n",
              "      <td>Teoria da Computação e Linguagens</td>\n",
              "    </tr>\n",
              "    <tr>\n",
              "      <th>3</th>\n",
              "      <td>SISTEMAS DE INFORMAÇÃO (noturno)</td>\n",
              "      <td>Raul Sidnei Wazlawick</td>\n",
              "      <td>INE5455 - Testes de Software</td>\n",
              "      <td>7.00</td>\n",
              "      <td>6.50</td>\n",
              "      <td>9.00</td>\n",
              "      <td>6.00</td>\n",
              "      <td>6.00</td>\n",
              "      <td>6.50</td>\n",
              "      <td>8.00</td>\n",
              "      <td>6.34</td>\n",
              "      <td>7.84</td>\n",
              "      <td>6.25</td>\n",
              "      <td>6.75</td>\n",
              "      <td>1.754207e-07</td>\n",
              "      <td>1.155623e-07</td>\n",
              "      <td>Engenharia de Software, Gerência de Projetos</td>\n",
              "    </tr>\n",
              "    <tr>\n",
              "      <th>4</th>\n",
              "      <td>SISTEMAS DE INFORMAÇÃO (noturno)</td>\n",
              "      <td>Carina Friedrich Dorneles</td>\n",
              "      <td>INE5430 - Inteligência Artificial</td>\n",
              "      <td>7.70</td>\n",
              "      <td>8.92</td>\n",
              "      <td>10.00</td>\n",
              "      <td>9.50</td>\n",
              "      <td>7.50</td>\n",
              "      <td>7.75</td>\n",
              "      <td>8.75</td>\n",
              "      <td>8.50</td>\n",
              "      <td>8.67</td>\n",
              "      <td>7.00</td>\n",
              "      <td>8.25</td>\n",
              "      <td>1.754207e-07</td>\n",
              "      <td>1.155623e-07</td>\n",
              "      <td>Teoria da Computação e Linguagens</td>\n",
              "    </tr>\n",
              "    <tr>\n",
              "      <th>5</th>\n",
              "      <td>SISTEMAS DE INFORMAÇÃO (noturno)</td>\n",
              "      <td>José Eduardo de Lucca</td>\n",
              "      <td>INE5428 - Informática e Sociedade</td>\n",
              "      <td>7.30</td>\n",
              "      <td>6.75</td>\n",
              "      <td>6.00</td>\n",
              "      <td>6.50</td>\n",
              "      <td>6.50</td>\n",
              "      <td>8.25</td>\n",
              "      <td>8.00</td>\n",
              "      <td>7.50</td>\n",
              "      <td>7.67</td>\n",
              "      <td>6.50</td>\n",
              "      <td>6.63</td>\n",
              "      <td>1.754207e-07</td>\n",
              "      <td>1.155623e-07</td>\n",
              "      <td>Ciência, Tecnologia, Sociedade e Emprendedorismo</td>\n",
              "    </tr>\n",
              "    <tr>\n",
              "      <th>6</th>\n",
              "      <td>CIÊNCIAS DA COMPUTAÇÃO</td>\n",
              "      <td>Elder Rizzon Santos</td>\n",
              "      <td>INE5633 - Sistemas Inteligentes</td>\n",
              "      <td>8.00</td>\n",
              "      <td>7.50</td>\n",
              "      <td>9.30</td>\n",
              "      <td>8.84</td>\n",
              "      <td>8.17</td>\n",
              "      <td>7.00</td>\n",
              "      <td>7.34</td>\n",
              "      <td>8.50</td>\n",
              "      <td>9.50</td>\n",
              "      <td>7.67</td>\n",
              "      <td>7.88</td>\n",
              "      <td>8.700000e+00</td>\n",
              "      <td>8.400000e+00</td>\n",
              "      <td>Teoria da Computação e Linguagens</td>\n",
              "    </tr>\n",
              "    <tr>\n",
              "      <th>7</th>\n",
              "      <td>SISTEMAS DE INFORMAÇÃO (noturno)</td>\n",
              "      <td>Carlos Becker Westphall</td>\n",
              "      <td>INE5680 - Segurança da Informação e de Redes</td>\n",
              "      <td>7.10</td>\n",
              "      <td>6.67</td>\n",
              "      <td>7.00</td>\n",
              "      <td>8.50</td>\n",
              "      <td>6.50</td>\n",
              "      <td>6.25</td>\n",
              "      <td>8.75</td>\n",
              "      <td>7.88</td>\n",
              "      <td>7.67</td>\n",
              "      <td>6.34</td>\n",
              "      <td>6.92</td>\n",
              "      <td>1.754207e-07</td>\n",
              "      <td>1.155623e-07</td>\n",
              "      <td>Redes de Computadores e Segurança</td>\n",
              "    </tr>\n",
              "    <tr>\n",
              "      <th>8</th>\n",
              "      <td>SISTEMAS DE INFORMAÇÃO (noturno)</td>\n",
              "      <td>Joao Candido Lima Dovicchi</td>\n",
              "      <td>INE5670 - Desenvolvimento de Sistemas Móveis e Embarcados</td>\n",
              "      <td>8.00</td>\n",
              "      <td>6.88</td>\n",
              "      <td>6.59</td>\n",
              "      <td>6.00</td>\n",
              "      <td>6.00</td>\n",
              "      <td>6.00</td>\n",
              "      <td>6.50</td>\n",
              "      <td>9.00</td>\n",
              "      <td>6.50</td>\n",
              "      <td>7.00</td>\n",
              "      <td>6.00</td>\n",
              "      <td>7.420000e+00</td>\n",
              "      <td>1.155623e-07</td>\n",
              "      <td>Fundamentos de Programação</td>\n",
              "    </tr>\n",
              "    <tr>\n",
              "      <th>9</th>\n",
              "      <td>SISTEMAS DE INFORMAÇÃO (noturno)</td>\n",
              "      <td>Jean Everson Martina</td>\n",
              "      <td>INE5429 - Segurança em Computação</td>\n",
              "      <td>7.25</td>\n",
              "      <td>7.00</td>\n",
              "      <td>10.00</td>\n",
              "      <td>8.50</td>\n",
              "      <td>6.50</td>\n",
              "      <td>7.50</td>\n",
              "      <td>9.75</td>\n",
              "      <td>8.00</td>\n",
              "      <td>7.67</td>\n",
              "      <td>6.67</td>\n",
              "      <td>7.09</td>\n",
              "      <td>1.754207e-07</td>\n",
              "      <td>1.155623e-07</td>\n",
              "      <td>Redes de Computadores e Segurança</td>\n",
              "    </tr>\n",
              "  </tbody>\n",
              "</table>"
            ]
          },
          "metadata": {}
        }
      ]
    },
    {
      "cell_type": "code",
      "source": [
        "to._dbunch_type == dls._dbunch_type"
      ],
      "metadata": {
        "colab": {
          "base_uri": "https://localhost:8080/"
        },
        "id": "0c4UMufuRDYh",
        "outputId": "ad0988b0-4d03-4756-836e-f74efead648d"
      },
      "execution_count": 184,
      "outputs": [
        {
          "output_type": "execute_result",
          "data": {
            "text/plain": [
              "True"
            ]
          },
          "metadata": {},
          "execution_count": 184
        }
      ]
    },
    {
      "cell_type": "code",
      "source": [
        "emb_szs = get_emb_sz(to); emb_szs"
      ],
      "metadata": {
        "colab": {
          "base_uri": "https://localhost:8080/"
        },
        "id": "O-B_mvAfRK4q",
        "outputId": "f007fbd8-e2b2-40f0-d3ad-84f15c95199a"
      },
      "execution_count": 185,
      "outputs": [
        {
          "output_type": "execute_result",
          "data": {
            "text/plain": [
              "[(3, 3), (35, 12), (38, 12)]"
            ]
          },
          "metadata": {},
          "execution_count": 185
        }
      ]
    },
    {
      "cell_type": "code",
      "source": [
        "to.cat_names"
      ],
      "metadata": {
        "colab": {
          "base_uri": "https://localhost:8080/"
        },
        "id": "_qGTIZJpROgT",
        "outputId": "0621583b-bcae-4f1b-9306-e7180db1bbd3"
      },
      "execution_count": 186,
      "outputs": [
        {
          "output_type": "execute_result",
          "data": {
            "text/plain": [
              "(#3) ['CURSO','ORIENTADOR','CLASSIF_AREA']"
            ]
          },
          "metadata": {},
          "execution_count": 186
        }
      ]
    },
    {
      "cell_type": "code",
      "source": [
        "to['AREA'].nunique()"
      ],
      "metadata": {
        "colab": {
          "base_uri": "https://localhost:8080/"
        },
        "id": "WSVT8PSLRTcd",
        "outputId": "dda8d524-0cfb-4692-81b2-15d4461dc767"
      },
      "execution_count": 187,
      "outputs": [
        {
          "output_type": "execute_result",
          "data": {
            "text/plain": [
              "10"
            ]
          },
          "metadata": {},
          "execution_count": 187
        }
      ]
    },
    {
      "cell_type": "code",
      "source": [
        "cont_len = len(to.cont_names); cont_len"
      ],
      "metadata": {
        "colab": {
          "base_uri": "https://localhost:8080/"
        },
        "id": "h_6PQpisR1q0",
        "outputId": "2f4923af-9fe8-4a9a-fba2-3f5dc195e26c"
      },
      "execution_count": 188,
      "outputs": [
        {
          "output_type": "execute_result",
          "data": {
            "text/plain": [
              "13"
            ]
          },
          "metadata": {},
          "execution_count": 188
        }
      ]
    },
    {
      "cell_type": "code",
      "source": [
        "batch = dls.one_batch(); len(batch)"
      ],
      "metadata": {
        "colab": {
          "base_uri": "https://localhost:8080/"
        },
        "id": "7wyw5FkSR9hR",
        "outputId": "40cc0f0e-ca12-4d4c-8970-6f305dc085b6"
      },
      "execution_count": 189,
      "outputs": [
        {
          "output_type": "execute_result",
          "data": {
            "text/plain": [
              "3"
            ]
          },
          "metadata": {},
          "execution_count": 189
        }
      ]
    },
    {
      "cell_type": "code",
      "source": [
        "batch[0][0], batch[1][0]"
      ],
      "metadata": {
        "colab": {
          "base_uri": "https://localhost:8080/"
        },
        "id": "rXRwqHQxSDmi",
        "outputId": "b0276c4a-0da4-44ba-d066-497363336bf9"
      },
      "execution_count": 190,
      "outputs": [
        {
          "output_type": "execute_result",
          "data": {
            "text/plain": [
              "(tensor([ 1, 31, 17]),\n",
              " tensor([-0.8599, -0.5190, -0.8503, -1.1492, -0.6517, -0.4935, -1.2841, -1.3215,\n",
              "         -0.0673,  0.0973, -0.1948,  0.4273,  0.7071]))"
            ]
          },
          "metadata": {},
          "execution_count": 190
        }
      ]
    },
    {
      "cell_type": "code",
      "source": [
        "net = TabularModel(emb_szs, cont_len, 10, [200,100])"
      ],
      "metadata": {
        "id": "FF8QNleASG46"
      },
      "execution_count": 191,
      "outputs": []
    },
    {
      "cell_type": "code",
      "source": [
        "net"
      ],
      "metadata": {
        "colab": {
          "base_uri": "https://localhost:8080/"
        },
        "id": "3vVZjkEKSoX6",
        "outputId": "5514ac4c-afc3-4021-d233-bf58427093fe"
      },
      "execution_count": 192,
      "outputs": [
        {
          "output_type": "execute_result",
          "data": {
            "text/plain": [
              "TabularModel(\n",
              "  (embeds): ModuleList(\n",
              "    (0): Embedding(3, 3)\n",
              "    (1): Embedding(35, 12)\n",
              "    (2): Embedding(38, 12)\n",
              "  )\n",
              "  (emb_drop): Dropout(p=0.0, inplace=False)\n",
              "  (bn_cont): BatchNorm1d(13, eps=1e-05, momentum=0.1, affine=True, track_running_stats=True)\n",
              "  (layers): Sequential(\n",
              "    (0): LinBnDrop(\n",
              "      (0): Linear(in_features=40, out_features=200, bias=False)\n",
              "      (1): ReLU(inplace=True)\n",
              "      (2): BatchNorm1d(200, eps=1e-05, momentum=0.1, affine=True, track_running_stats=True)\n",
              "    )\n",
              "    (1): LinBnDrop(\n",
              "      (0): Linear(in_features=200, out_features=100, bias=False)\n",
              "      (1): ReLU(inplace=True)\n",
              "      (2): BatchNorm1d(100, eps=1e-05, momentum=0.1, affine=True, track_running_stats=True)\n",
              "    )\n",
              "    (2): LinBnDrop(\n",
              "      (0): Linear(in_features=100, out_features=10, bias=True)\n",
              "    )\n",
              "  )\n",
              ")"
            ]
          },
          "metadata": {},
          "execution_count": 192
        }
      ]
    },
    {
      "cell_type": "code",
      "source": [
        "learn = tabular_learner(dls, [200,100], metrics=accuracy)"
      ],
      "metadata": {
        "id": "Vc_8qM1rSpQi"
      },
      "execution_count": 193,
      "outputs": []
    },
    {
      "cell_type": "code",
      "source": [
        "learn.lr_find()"
      ],
      "metadata": {
        "colab": {
          "base_uri": "https://localhost:8080/",
          "height": 300
        },
        "id": "GCBSVOAeSwAL",
        "outputId": "ef5ad1c1-57a9-4a67-a8dd-4d817001b5df"
      },
      "execution_count": 194,
      "outputs": [
        {
          "output_type": "display_data",
          "data": {
            "text/plain": [
              "<IPython.core.display.HTML object>"
            ],
            "text/html": [
              "\n",
              "<style>\n",
              "    /* Turns off some styling */\n",
              "    progress {\n",
              "        /* gets rid of default border in Firefox and Opera. */\n",
              "        border: none;\n",
              "        /* Needs to be in here for Safari polyfill so background images work as expected. */\n",
              "        background-size: auto;\n",
              "    }\n",
              "    progress:not([value]), progress:not([value])::-webkit-progress-bar {\n",
              "        background: repeating-linear-gradient(45deg, #7e7e7e, #7e7e7e 10px, #5c5c5c 10px, #5c5c5c 20px);\n",
              "    }\n",
              "    .progress-bar-interrupted, .progress-bar-interrupted::-webkit-progress-bar {\n",
              "        background: #F44336;\n",
              "    }\n",
              "</style>\n"
            ]
          },
          "metadata": {}
        },
        {
          "output_type": "display_data",
          "data": {
            "text/plain": [
              "<IPython.core.display.HTML object>"
            ],
            "text/html": []
          },
          "metadata": {}
        },
        {
          "output_type": "execute_result",
          "data": {
            "text/plain": [
              "SuggestedLRs(valley=0.002511886414140463)"
            ]
          },
          "metadata": {},
          "execution_count": 194
        },
        {
          "output_type": "display_data",
          "data": {
            "text/plain": [
              "<Figure size 432x288 with 1 Axes>"
            ],
            "image/png": "[encoded data removed]"
          },
          "metadata": {
            "needs_background": "light"
          }
        }
      ]
    },
    {
      "cell_type": "code",
      "source": [
        "dls = to.dataloaders()\n",
        "learn = tabular_learner(dls, [200,100], metrics=accuracy)\n"
      ],
      "metadata": {
        "id": "Rv5L0et7SyxC"
      },
      "execution_count": 195,
      "outputs": []
    },
    {
      "cell_type": "code",
      "source": [
        "learn.fit(20, 1e-2)"
      ],
      "metadata": {
        "colab": {
          "base_uri": "https://localhost:8080/",
          "height": 677
        },
        "id": "Ritof_cfR94F",
        "outputId": "8215d6f6-be7a-4912-efbe-3b108724f65d"
      },
      "execution_count": 196,
      "outputs": [
        {
          "output_type": "display_data",
          "data": {
            "text/plain": [
              "<IPython.core.display.HTML object>"
            ],
            "text/html": [
              "\n",
              "<style>\n",
              "    /* Turns off some styling */\n",
              "    progress {\n",
              "        /* gets rid of default border in Firefox and Opera. */\n",
              "        border: none;\n",
              "        /* Needs to be in here for Safari polyfill so background images work as expected. */\n",
              "        background-size: auto;\n",
              "    }\n",
              "    progress:not([value]), progress:not([value])::-webkit-progress-bar {\n",
              "        background: repeating-linear-gradient(45deg, #7e7e7e, #7e7e7e 10px, #5c5c5c 10px, #5c5c5c 20px);\n",
              "    }\n",
              "    .progress-bar-interrupted, .progress-bar-interrupted::-webkit-progress-bar {\n",
              "        background: #F44336;\n",
              "    }\n",
              "</style>\n"
            ]
          },
          "metadata": {}
        },
        {
          "output_type": "display_data",
          "data": {
            "text/plain": [
              "<IPython.core.display.HTML object>"
            ],
            "text/html": [
              "<table border=\"1\" class=\"dataframe\">\n",
              "  <thead>\n",
              "    <tr style=\"text-align: left;\">\n",
              "      <th>epoch</th>\n",
              "      <th>train_loss</th>\n",
              "      <th>valid_loss</th>\n",
              "      <th>accuracy</th>\n",
              "      <th>time</th>\n",
              "    </tr>\n",
              "  </thead>\n",
              "  <tbody>\n",
              "    <tr>\n",
              "      <td>0</td>\n",
              "      <td>2.467755</td>\n",
              "      <td>2.196307</td>\n",
              "      <td>0.215385</td>\n",
              "      <td>00:00</td>\n",
              "    </tr>\n",
              "    <tr>\n",
              "      <td>1</td>\n",
              "      <td>2.185036</td>\n",
              "      <td>2.055167</td>\n",
              "      <td>0.292308</td>\n",
              "      <td>00:00</td>\n",
              "    </tr>\n",
              "    <tr>\n",
              "      <td>2</td>\n",
              "      <td>1.915830</td>\n",
              "      <td>1.695137</td>\n",
              "      <td>0.584615</td>\n",
              "      <td>00:00</td>\n",
              "    </tr>\n",
              "    <tr>\n",
              "      <td>3</td>\n",
              "      <td>1.626076</td>\n",
              "      <td>1.129192</td>\n",
              "      <td>0.738462</td>\n",
              "      <td>00:00</td>\n",
              "    </tr>\n",
              "    <tr>\n",
              "      <td>4</td>\n",
              "      <td>1.339650</td>\n",
              "      <td>0.557292</td>\n",
              "      <td>0.846154</td>\n",
              "      <td>00:00</td>\n",
              "    </tr>\n",
              "    <tr>\n",
              "      <td>5</td>\n",
              "      <td>1.113593</td>\n",
              "      <td>0.305043</td>\n",
              "      <td>0.892308</td>\n",
              "      <td>00:00</td>\n",
              "    </tr>\n",
              "    <tr>\n",
              "      <td>6</td>\n",
              "      <td>0.939432</td>\n",
              "      <td>0.215774</td>\n",
              "      <td>0.938462</td>\n",
              "      <td>00:00</td>\n",
              "    </tr>\n",
              "    <tr>\n",
              "      <td>7</td>\n",
              "      <td>0.801354</td>\n",
              "      <td>0.166683</td>\n",
              "      <td>0.953846</td>\n",
              "      <td>00:00</td>\n",
              "    </tr>\n",
              "    <tr>\n",
              "      <td>8</td>\n",
              "      <td>0.687894</td>\n",
              "      <td>0.137249</td>\n",
              "      <td>0.953846</td>\n",
              "      <td>00:00</td>\n",
              "    </tr>\n",
              "    <tr>\n",
              "      <td>9</td>\n",
              "      <td>0.597000</td>\n",
              "      <td>0.125349</td>\n",
              "      <td>0.953846</td>\n",
              "      <td>00:00</td>\n",
              "    </tr>\n",
              "    <tr>\n",
              "      <td>10</td>\n",
              "      <td>0.521176</td>\n",
              "      <td>0.116920</td>\n",
              "      <td>0.938462</td>\n",
              "      <td>00:00</td>\n",
              "    </tr>\n",
              "    <tr>\n",
              "      <td>11</td>\n",
              "      <td>0.457879</td>\n",
              "      <td>0.095542</td>\n",
              "      <td>0.953846</td>\n",
              "      <td>00:00</td>\n",
              "    </tr>\n",
              "    <tr>\n",
              "      <td>12</td>\n",
              "      <td>0.405466</td>\n",
              "      <td>0.084091</td>\n",
              "      <td>0.984615</td>\n",
              "      <td>00:00</td>\n",
              "    </tr>\n",
              "    <tr>\n",
              "      <td>13</td>\n",
              "      <td>0.361085</td>\n",
              "      <td>0.081248</td>\n",
              "      <td>0.984615</td>\n",
              "      <td>00:00</td>\n",
              "    </tr>\n",
              "    <tr>\n",
              "      <td>14</td>\n",
              "      <td>0.322268</td>\n",
              "      <td>0.082045</td>\n",
              "      <td>0.984615</td>\n",
              "      <td>00:00</td>\n",
              "    </tr>\n",
              "    <tr>\n",
              "      <td>15</td>\n",
              "      <td>0.288600</td>\n",
              "      <td>0.073398</td>\n",
              "      <td>0.984615</td>\n",
              "      <td>00:00</td>\n",
              "    </tr>\n",
              "    <tr>\n",
              "      <td>16</td>\n",
              "      <td>0.259290</td>\n",
              "      <td>0.072009</td>\n",
              "      <td>0.984615</td>\n",
              "      <td>00:00</td>\n",
              "    </tr>\n",
              "    <tr>\n",
              "      <td>17</td>\n",
              "      <td>0.233612</td>\n",
              "      <td>0.071172</td>\n",
              "      <td>0.984615</td>\n",
              "      <td>00:00</td>\n",
              "    </tr>\n",
              "    <tr>\n",
              "      <td>18</td>\n",
              "      <td>0.210772</td>\n",
              "      <td>0.073114</td>\n",
              "      <td>0.984615</td>\n",
              "      <td>00:00</td>\n",
              "    </tr>\n",
              "    <tr>\n",
              "      <td>19</td>\n",
              "      <td>0.190577</td>\n",
              "      <td>0.074499</td>\n",
              "      <td>0.969231</td>\n",
              "      <td>00:00</td>\n",
              "    </tr>\n",
              "  </tbody>\n",
              "</table>"
            ]
          },
          "metadata": {}
        }
      ]
    },
    {
      "cell_type": "code",
      "source": [
        "# predição em lote\n",
        "dl = learn.dls.test_dl(df.iloc[:100])"
      ],
      "metadata": {
        "id": "hAQjIBT2TONY"
      },
      "execution_count": 197,
      "outputs": []
    },
    {
      "cell_type": "code",
      "source": [
        "dl.show_batch()"
      ],
      "metadata": {
        "id": "b5VpXwWkWaHS",
        "colab": {
          "base_uri": "https://localhost:8080/",
          "height": 537
        },
        "outputId": "fcfb4e91-462f-4af8-f9c5-8fd7e4679be7"
      },
      "execution_count": 198,
      "outputs": [
        {
          "output_type": "display_data",
          "data": {
            "text/plain": [
              "<IPython.core.display.HTML object>"
            ],
            "text/html": [
              "<table border=\"1\" class=\"dataframe\">\n",
              "  <thead>\n",
              "    <tr style=\"text-align: right;\">\n",
              "      <th></th>\n",
              "      <th>CURSO</th>\n",
              "      <th>ORIENTADOR</th>\n",
              "      <th>CLASSIF_AREA</th>\n",
              "      <th>Area1</th>\n",
              "      <th>Area2</th>\n",
              "      <th>Area3</th>\n",
              "      <th>Area4</th>\n",
              "      <th>Area5</th>\n",
              "      <th>Area6</th>\n",
              "      <th>Area7</th>\n",
              "      <th>Area8</th>\n",
              "      <th>Area9</th>\n",
              "      <th>Area10</th>\n",
              "      <th>Area11</th>\n",
              "      <th>Area12</th>\n",
              "      <th>Area13</th>\n",
              "      <th>AREA</th>\n",
              "    </tr>\n",
              "  </thead>\n",
              "  <tbody>\n",
              "    <tr>\n",
              "      <th>0</th>\n",
              "      <td>CIÊNCIAS DA COMPUTAÇÃO</td>\n",
              "      <td>Jerusa Marchi</td>\n",
              "      <td>INE5430 - Inteligência Artificial</td>\n",
              "      <td>8.50</td>\n",
              "      <td>7.00</td>\n",
              "      <td>7.34</td>\n",
              "      <td>9.17</td>\n",
              "      <td>8.13</td>\n",
              "      <td>8.0</td>\n",
              "      <td>7.75</td>\n",
              "      <td>7.50</td>\n",
              "      <td>8.50</td>\n",
              "      <td>6.84</td>\n",
              "      <td>7.38</td>\n",
              "      <td>7.79</td>\n",
              "      <td>7.000000e+00</td>\n",
              "      <td>Teoria da Computação e Linguagens</td>\n",
              "    </tr>\n",
              "    <tr>\n",
              "      <th>1</th>\n",
              "      <td>CIÊNCIAS DA COMPUTAÇÃO</td>\n",
              "      <td>Jean Carlo Rossa Hauck</td>\n",
              "      <td>INE5617 - Gerência de Projetos</td>\n",
              "      <td>7.75</td>\n",
              "      <td>6.50</td>\n",
              "      <td>8.00</td>\n",
              "      <td>7.17</td>\n",
              "      <td>7.67</td>\n",
              "      <td>8.5</td>\n",
              "      <td>7.34</td>\n",
              "      <td>8.00</td>\n",
              "      <td>9.63</td>\n",
              "      <td>7.50</td>\n",
              "      <td>8.63</td>\n",
              "      <td>7.09</td>\n",
              "      <td>8.000000e+00</td>\n",
              "      <td>Engenharia de Software, Gerência de Projetos</td>\n",
              "    </tr>\n",
              "    <tr>\n",
              "      <th>2</th>\n",
              "      <td>SISTEMAS DE INFORMAÇÃO (noturno)</td>\n",
              "      <td>Fabiane Barreto Vavassori Benitti</td>\n",
              "      <td>INE5614 - Engenharia de Software</td>\n",
              "      <td>9.00</td>\n",
              "      <td>7.40</td>\n",
              "      <td>6.60</td>\n",
              "      <td>8.50</td>\n",
              "      <td>8.00</td>\n",
              "      <td>7.5</td>\n",
              "      <td>7.25</td>\n",
              "      <td>8.63</td>\n",
              "      <td>8.10</td>\n",
              "      <td>7.67</td>\n",
              "      <td>6.50</td>\n",
              "      <td>7.50</td>\n",
              "      <td>1.155623e-07</td>\n",
              "      <td>Engenharia de Software, Gerência de Projetos</td>\n",
              "    </tr>\n",
              "    <tr>\n",
              "      <th>3</th>\n",
              "      <td>SISTEMAS DE INFORMAÇÃO (noturno)</td>\n",
              "      <td>Fernando Augusto da Silva Cruz</td>\n",
              "      <td>INE5646 - Programação para Web</td>\n",
              "      <td>8.67</td>\n",
              "      <td>7.25</td>\n",
              "      <td>7.30</td>\n",
              "      <td>7.00</td>\n",
              "      <td>6.00</td>\n",
              "      <td>6.0</td>\n",
              "      <td>7.50</td>\n",
              "      <td>8.17</td>\n",
              "      <td>7.50</td>\n",
              "      <td>7.50</td>\n",
              "      <td>6.25</td>\n",
              "      <td>7.25</td>\n",
              "      <td>1.155623e-07</td>\n",
              "      <td>Fundamentos de Programação</td>\n",
              "    </tr>\n",
              "    <tr>\n",
              "      <th>4</th>\n",
              "      <td>CIÊNCIAS DA COMPUTAÇÃO</td>\n",
              "      <td>Jean Everson Martina</td>\n",
              "      <td>INE5429 - Segurança em Computação</td>\n",
              "      <td>8.50</td>\n",
              "      <td>6.00</td>\n",
              "      <td>6.80</td>\n",
              "      <td>8.13</td>\n",
              "      <td>7.00</td>\n",
              "      <td>7.0</td>\n",
              "      <td>8.50</td>\n",
              "      <td>6.00</td>\n",
              "      <td>8.40</td>\n",
              "      <td>6.50</td>\n",
              "      <td>7.63</td>\n",
              "      <td>7.50</td>\n",
              "      <td>6.500000e+00</td>\n",
              "      <td>Redes de Computadores e Segurança</td>\n",
              "    </tr>\n",
              "    <tr>\n",
              "      <th>5</th>\n",
              "      <td>CIÊNCIAS DA COMPUTAÇÃO</td>\n",
              "      <td>Jean Everson Martina</td>\n",
              "      <td>INE5429 - Segurança em Computação</td>\n",
              "      <td>8.50</td>\n",
              "      <td>7.50</td>\n",
              "      <td>7.25</td>\n",
              "      <td>7.00</td>\n",
              "      <td>6.84</td>\n",
              "      <td>6.0</td>\n",
              "      <td>7.00</td>\n",
              "      <td>6.75</td>\n",
              "      <td>8.75</td>\n",
              "      <td>6.84</td>\n",
              "      <td>6.63</td>\n",
              "      <td>7.00</td>\n",
              "      <td>6.840000e+00</td>\n",
              "      <td>Ciência, Tecnologia, Sociedade e Emprendedorismo</td>\n",
              "    </tr>\n",
              "    <tr>\n",
              "      <th>6</th>\n",
              "      <td>CIÊNCIAS DA COMPUTAÇÃO</td>\n",
              "      <td>Jean Everson Martina</td>\n",
              "      <td>INE5429 - Segurança em Computação</td>\n",
              "      <td>8.75</td>\n",
              "      <td>8.50</td>\n",
              "      <td>7.88</td>\n",
              "      <td>7.84</td>\n",
              "      <td>8.00</td>\n",
              "      <td>8.0</td>\n",
              "      <td>7.25</td>\n",
              "      <td>6.75</td>\n",
              "      <td>9.00</td>\n",
              "      <td>7.00</td>\n",
              "      <td>7.63</td>\n",
              "      <td>7.90</td>\n",
              "      <td>7.670000e+00</td>\n",
              "      <td>Redes de Computadores e Segurança</td>\n",
              "    </tr>\n",
              "    <tr>\n",
              "      <th>7</th>\n",
              "      <td>CIÊNCIAS DA COMPUTAÇÃO</td>\n",
              "      <td>Raul Sidnei Wazlawick</td>\n",
              "      <td>INE5404 - Programação Orientada a Objetos II</td>\n",
              "      <td>7.75</td>\n",
              "      <td>6.00</td>\n",
              "      <td>7.13</td>\n",
              "      <td>8.13</td>\n",
              "      <td>7.50</td>\n",
              "      <td>6.5</td>\n",
              "      <td>7.25</td>\n",
              "      <td>7.25</td>\n",
              "      <td>8.13</td>\n",
              "      <td>7.00</td>\n",
              "      <td>7.38</td>\n",
              "      <td>7.40</td>\n",
              "      <td>7.670000e+00</td>\n",
              "      <td>Fundamentos de Programação</td>\n",
              "    </tr>\n",
              "    <tr>\n",
              "      <th>8</th>\n",
              "      <td>CIÊNCIAS DA COMPUTAÇÃO</td>\n",
              "      <td>Rafael Luiz Cancian</td>\n",
              "      <td>INE5416 - Paradigmas de Programação</td>\n",
              "      <td>9.00</td>\n",
              "      <td>6.00</td>\n",
              "      <td>8.17</td>\n",
              "      <td>9.34</td>\n",
              "      <td>7.34</td>\n",
              "      <td>9.0</td>\n",
              "      <td>7.34</td>\n",
              "      <td>7.00</td>\n",
              "      <td>9.13</td>\n",
              "      <td>7.84</td>\n",
              "      <td>7.75</td>\n",
              "      <td>7.42</td>\n",
              "      <td>7.630000e+00</td>\n",
              "      <td>Teoria da Computação e Linguagens</td>\n",
              "    </tr>\n",
              "    <tr>\n",
              "      <th>9</th>\n",
              "      <td>CIÊNCIAS DA COMPUTAÇÃO</td>\n",
              "      <td>Alexandre Goncalves Silva</td>\n",
              "      <td>INE5420 - Computação Gráfica</td>\n",
              "      <td>9.75</td>\n",
              "      <td>8.50</td>\n",
              "      <td>8.75</td>\n",
              "      <td>9.50</td>\n",
              "      <td>9.25</td>\n",
              "      <td>9.5</td>\n",
              "      <td>7.00</td>\n",
              "      <td>8.75</td>\n",
              "      <td>8.60</td>\n",
              "      <td>8.50</td>\n",
              "      <td>8.13</td>\n",
              "      <td>8.30</td>\n",
              "      <td>9.130000e+00</td>\n",
              "      <td>Fundamentos Matemáticos</td>\n",
              "    </tr>\n",
              "  </tbody>\n",
              "</table>"
            ]
          },
          "metadata": {}
        }
      ]
    },
    {
      "cell_type": "code",
      "source": [
        "learn.validate(dl=dl)"
      ],
      "metadata": {
        "id": "GsEN_cRxWb3i",
        "colab": {
          "base_uri": "https://localhost:8080/",
          "height": 34
        },
        "outputId": "c3bef312-390f-4586-b721-f1141d0a8b9c"
      },
      "execution_count": 199,
      "outputs": [
        {
          "output_type": "display_data",
          "data": {
            "text/plain": [
              "<IPython.core.display.HTML object>"
            ],
            "text/html": [
              "\n",
              "<style>\n",
              "    /* Turns off some styling */\n",
              "    progress {\n",
              "        /* gets rid of default border in Firefox and Opera. */\n",
              "        border: none;\n",
              "        /* Needs to be in here for Safari polyfill so background images work as expected. */\n",
              "        background-size: auto;\n",
              "    }\n",
              "    progress:not([value]), progress:not([value])::-webkit-progress-bar {\n",
              "        background: repeating-linear-gradient(45deg, #7e7e7e, #7e7e7e 10px, #5c5c5c 10px, #5c5c5c 20px);\n",
              "    }\n",
              "    .progress-bar-interrupted, .progress-bar-interrupted::-webkit-progress-bar {\n",
              "        background: #F44336;\n",
              "    }\n",
              "</style>\n"
            ]
          },
          "metadata": {}
        },
        {
          "output_type": "display_data",
          "data": {
            "text/plain": [
              "<IPython.core.display.HTML object>"
            ],
            "text/html": []
          },
          "metadata": {}
        },
        {
          "output_type": "execute_result",
          "data": {
            "text/plain": [
              "(#2) [0.0047061629593372345,1.0]"
            ]
          },
          "metadata": {},
          "execution_count": 199
        }
      ]
    },
    {
      "cell_type": "code",
      "source": [
        "learn.export('modeloParaPredicao.pk1')"
      ],
      "metadata": {
        "id": "ObycdntfiUop"
      },
      "execution_count": 200,
      "outputs": []
    }
  ]
}