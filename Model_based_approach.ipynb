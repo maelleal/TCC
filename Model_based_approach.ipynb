{
  "nbformat": 4,
  "nbformat_minor": 0,
  "metadata": {
    "colab": {
      "provenance": [],
      "authorship_tag": "ABX9TyPt7a53BzjbUmpuKM+iW65b",
      "include_colab_link": true
    },
    "kernelspec": {
      "name": "python3",
      "display_name": "Python 3"
    },
    "language_info": {
      "name": "python"
    }
  },
  "cells": [
    {
      "cell_type": "markdown",
      "metadata": {
        "id": "view-in-github",
        "colab_type": "text"
      },
      "source": [
        "<a href=\"https://colab.research.google.com/github/maelleal/TCC_Recomendacao_INE/blob/main/Model_based_approach.ipynb\" target=\"_parent\"><img src=\"https://colab.research.google.com/assets/colab-badge.svg\" alt=\"Open In Colab\"/></a>"
      ]
    },
    {
      "cell_type": "code",
      "execution_count": null,
      "metadata": {
        "id": "UkKoZfKooiFP"
      },
      "outputs": [],
      "source": [
        "!pip install -U scikit-learn\n",
        "!pip install -U scikit-surprise\n",
        "from google.colab import drive\n",
        "drive.mount('/content/drive')\n",
        "import numpy as np\n",
        "import pandas as pandas\n",
        "import matplotlib.pyplot as plt\n",
        "from sklearn.naive_bayes import GaussianNB\n",
        "from sklearn.decomposition import TruncatedSVD"
      ]
    },
    {
      "cell_type": "code",
      "source": [
        "dataset = pandas.read_excel('/content/drive/My Drive/TCC - Sistema recomendação INE/tabela_areas_como_itens.xlsx')\n",
        "dataset = dataset.replace([\"#N/A\"], 0)\n",
        "dataset_filtrado = dataset.replace(np.nan, 0)\n",
        "dataset_filtrado = dataset_filtrado.round(2)\n",
        "dataset_filtrado.head()\n",
        "print(dataset_filtrado.dtypes)\n",
        "print(dataset_filtrado)"
      ],
      "metadata": {
        "colab": {
          "base_uri": "https://localhost:8080/"
        },
        "id": "EP9YU6YEolIq",
        "outputId": "eec4c588-ec0d-4f4e-9d5f-8254fe863a50"
      },
      "execution_count": 9,
      "outputs": [
        {
          "output_type": "stream",
          "name": "stdout",
          "text": [
            "MATRICULA     float64\n",
            "COD_AREA      float64\n",
            "MEDIA_NOTA    float64\n",
            "dtype: object\n",
            "       MATRICULA  COD_AREA  MEDIA_NOTA\n",
            "0     11100878.0       1.0        9.75\n",
            "1     12200660.0       1.0        8.25\n",
            "2     12101248.0       1.0        8.30\n",
            "3      9232055.0       1.0        9.75\n",
            "4     12101265.0       1.0        7.30\n",
            "...          ...       ...         ...\n",
            "2502  16100725.0      13.0        8.50\n",
            "2503  16100728.0      13.0        9.13\n",
            "2504  16101110.0      13.0        0.00\n",
            "2505  16105151.0      13.0        9.40\n",
            "2506  16105545.0      13.0        0.00\n",
            "\n",
            "[2507 rows x 3 columns]\n"
          ]
        }
      ]
    },
    {
      "cell_type": "code",
      "source": [
        "import numpy as np\n",
        "from sklearn.decomposition import TruncatedSVD\n",
        "\n",
        "'''\n",
        "the user_item_matrix will look like this\n",
        "|        | item 1 | ... | item m |\n",
        "|--------|--------|-----|--------|\n",
        "| user 1 | 3      | 0   | 0      |\n",
        "| ...    | 0      | 4   | 5      |\n",
        "| user n | 2      | 0   | 0      |\n",
        "'''\n",
        "\n",
        "# initial hyperparameter\n",
        "epsilon = 1e-9\n",
        "n_latent_factors = 10\n",
        "\n",
        "# generate item lantent features\n",
        "item_svd = TruncatedSVD(n_components = n_latent_factors)\n",
        "item_features = item_svd.fit_transform(dataset_filtrado.transpose()) + epsilon\n",
        "\n",
        "\n",
        "# generate user latent features\n",
        "user_svd = TruncatedSVD(n_components = n_latent_factors)\n",
        "user_features = user_svd.fit_transform(dataset_filtrado) + epsilon"
      ],
      "metadata": {
        "id": "d1WJ62pqoliD"
      },
      "execution_count": null,
      "outputs": []
    },
    {
      "cell_type": "code",
      "source": [
        "from surprise import SVD, accuracy\n",
        "from surprise import Dataset, Reader\n",
        "from surprise.model_selection import cross_validate\n",
        "from surprise.model_selection.split import train_test_split\n",
        "\n",
        "'''\n",
        "funk MF\n",
        "\n",
        "rating dataframe will look like this\n",
        "| user_id | item_id | rating          |\n",
        "|---------|---------|-----------------|\n",
        "| 1       | 1       | 5               |\n",
        "| ...     | ...     | ...             |\n",
        "| n       | m       | 3               |\n",
        "'''\n",
        "\n",
        "# preprocessing the data\n",
        "reader = Reader(rating_scale=(1,10))\n",
        "\n",
        "\n",
        "# dataset com 3 colunas\n",
        "data = Dataset.load_from_df(dataset_filtrado[['MATRICULA','COD_AREA','MEDIA_NOTA']], reader)\n",
        "\n",
        "train, test = train_test_split(data, test_size=.2, random_state=42)\n",
        "\n",
        "# initial model\n",
        "algo = SVD(random_state = 42)\n",
        "algo.fit(train)\n",
        "pred = algo.test(test)\n",
        "\n",
        "# RMSE = Raiz quadrada do erro-médio\n",
        "# MAE = erro absoluto médio\n",
        "\n",
        "# cross_validate(algo, data, measures=['RMSE', 'MAE'], cv=5, verbose=True)\n",
        "# evaluate the rmse result of the prediction and ground thuth\n",
        "accuracy.rmse(pred)\n",
        "\n",
        "uid = str(16105151.0)  # raw user id (as in the ratings file). They are **strings**!\n",
        "iid = str(13)  # raw item id (as in the ratings file). They are **strings**!\n",
        "\n",
        "# get a prediction for specific users and items.\n",
        "pred = algo.predict(uid, iid, r_ui=4, verbose=True)"
      ],
      "metadata": {
        "colab": {
          "base_uri": "https://localhost:8080/"
        },
        "id": "uh6LUs3DpE55",
        "outputId": "532298a6-ab73-4585-d54a-333c6010248a"
      },
      "execution_count": 26,
      "outputs": [
        {
          "output_type": "stream",
          "name": "stdout",
          "text": [
            "RMSE: 1.7643\n",
            "user: 16105151.0 item: 13         r_ui = 4.00   est = 5.47   {'was_impossible': False}\n"
          ]
        }
      ]
    },
    {
      "cell_type": "code",
      "source": [
        "from surprise import SVD, accuracy\n",
        "from surprise import Dataset, Reader\n",
        "from surprise.model_selection import cross_validate\n",
        "from surprise.model_selection.split import train_test_split\n",
        "from surprise import KNNBasic\n",
        "\n",
        "# preprocessing the data\n",
        "reader = Reader(rating_scale=(1,10))\n",
        "\n",
        "\n",
        "# dataset com 3 colunas\n",
        "data = Dataset.load_from_df(dataset_filtrado[['MATRICULA','COD_AREA','MEDIA_NOTA']], reader)\n",
        "trainset = data.build_full_trainset()\n",
        "\n",
        "algo = KNNBasic()\n",
        "algo.fit(trainset)\n",
        "\n",
        "uid = str(12200660)  # raw user id (as in the ratings file). They are **strings**!\n",
        "iid = str(1)  # raw item id (as in the ratings file). They are **strings**!\n",
        "\n",
        "# get a prediction for specific users and items.\n",
        "pred = algo.predict(uid, iid, r_ui=4, verbose=True)\n"
      ],
      "metadata": {
        "colab": {
          "base_uri": "https://localhost:8080/"
        },
        "id": "8JegGhypM5wG",
        "outputId": "3c1f74ab-2430-400a-aeb8-b7a840def8da"
      },
      "execution_count": 16,
      "outputs": [
        {
          "output_type": "stream",
          "name": "stdout",
          "text": [
            "Computing the msd similarity matrix...\n",
            "Done computing similarity matrix.\n",
            "user: 12200660   item: 1          r_ui = 4.00   est = 5.47   {'was_impossible': True, 'reason': 'User and/or item is unknown.'}\n"
          ]
        }
      ]
    }
  ]
}