{
  "nbformat": 4,
  "nbformat_minor": 0,
  "metadata": {
    "colab": {
      "name": "Untitled2.ipynb",
      "provenance": [],
      "authorship_tag": "ABX9TyPQuH9xndvlP3n/CgMA/0EM",
      "include_colab_link": true
    },
    "kernelspec": {
      "name": "python3",
      "display_name": "Python 3"
    },
    "language_info": {
      "name": "python"
    }
  },
  "cells": [
    {
      "cell_type": "markdown",
      "metadata": {
        "id": "view-in-github",
        "colab_type": "text"
      },
      "source": [
        "<a href=\"https://colab.research.google.com/github/maelleal/TCC_Recomendacao_INE/blob/main/Model_based_approach.ipynb\" target=\"_parent\"><img src=\"https://colab.research.google.com/assets/colab-badge.svg\" alt=\"Open In Colab\"/></a>"
      ]
    },
    {
      "cell_type": "code",
      "execution_count": 1,
      "metadata": {
        "colab": {
          "base_uri": "https://localhost:8080/"
        },
        "id": "UkKoZfKooiFP",
        "outputId": "393cf390-b2d3-477c-b18f-ca77a70c3535"
      },
      "outputs": [
        {
          "output_type": "stream",
          "name": "stdout",
          "text": [
            "Looking in indexes: https://pypi.org/simple, https://us-python.pkg.dev/colab-wheels/public/simple/\n",
            "Requirement already satisfied: scikit-learn in /usr/local/lib/python3.7/dist-packages (1.0.2)\n",
            "Requirement already satisfied: threadpoolctl>=2.0.0 in /usr/local/lib/python3.7/dist-packages (from scikit-learn) (3.1.0)\n",
            "Requirement already satisfied: numpy>=1.14.6 in /usr/local/lib/python3.7/dist-packages (from scikit-learn) (1.21.6)\n",
            "Requirement already satisfied: scipy>=1.1.0 in /usr/local/lib/python3.7/dist-packages (from scikit-learn) (1.7.3)\n",
            "Requirement already satisfied: joblib>=0.11 in /usr/local/lib/python3.7/dist-packages (from scikit-learn) (1.1.0)\n",
            "Mounted at /content/drive\n"
          ]
        }
      ],
      "source": [
        "!pip install -U scikit-learn\n",
        "from google.colab import drive\n",
        "drive.mount('/content/drive')\n",
        "import numpy as np\n",
        "import pandas as pandas\n",
        "import matplotlib.pyplot as plt\n",
        "from sklearn.naive_bayes import GaussianNB\n",
        "from sklearn.decomposition import TruncatedSVD"
      ]
    },
    {
      "cell_type": "code",
      "source": [
        "dataset = pandas.read_excel('/content/drive/My Drive/TCC - Sistema recomendação INE/Tabela para modelo medias v2.xlsx')\n",
        "dataset = dataset.replace([\"#N/A\"], 0)\n",
        "dataset_filtrado = dataset.drop(columns=['ID_UFSC', 'COD_MAT'])\n",
        "dataset_filtrado = dataset_filtrado.replace(np.nan, 0)\n",
        "dataset_filtrado = dataset_filtrado.round(2)\n",
        "dataset_filtrado.head()\n",
        "print(dataset_filtrado.dtypes)\n",
        "print(dataset_filtrado)"
      ],
      "metadata": {
        "colab": {
          "base_uri": "https://localhost:8080/"
        },
        "id": "EP9YU6YEolIq",
        "outputId": "1ba5cc71-9e5d-4d7d-db35-bacdf693d221"
      },
      "execution_count": 2,
      "outputs": [
        {
          "output_type": "stream",
          "name": "stdout",
          "text": [
            "MATRICULA       int64\n",
            "ORIENTADOR      int64\n",
            "COD_AREA      float64\n",
            "MEDIA_NOTA    float64\n",
            "Area1         float64\n",
            "Area2         float64\n",
            "Area3         float64\n",
            "Area4         float64\n",
            "Area5         float64\n",
            "Area6         float64\n",
            "Area7         float64\n",
            "Area8         float64\n",
            "Area9         float64\n",
            "Area10        float64\n",
            "Area11        float64\n",
            "Area12        float64\n",
            "Area13        float64\n",
            "dtype: object\n",
            "     MATRICULA  ORIENTADOR  COD_AREA  MEDIA_NOTA  Area1  Area2  Area3  Area4  \\\n",
            "0     11100878           5      10.0        9.50   8.84   7.60   6.90   7.50   \n",
            "1     12200660           5      12.0       10.00   7.30   8.84   8.00   8.00   \n",
            "2     12101248           5      10.0       10.00   0.00   0.00   0.00   0.00   \n",
            "3      9232055          24       3.0        9.50   8.84   0.00   7.67   7.67   \n",
            "4     12101265          12       3.0        9.67   0.00   0.00   0.00   0.00   \n",
            "..         ...         ...       ...         ...    ...    ...    ...    ...   \n",
            "309   15204125          13      10.0       10.00   7.20   7.34   6.00   7.50   \n",
            "310   16100725           6       3.0       10.00   7.20   7.34   6.00   7.50   \n",
            "311   16100728           1       5.0        8.88   7.20   7.34   6.00   7.50   \n",
            "312   16105151          20      11.0       10.00   7.20   7.34   6.00   7.50   \n",
            "313   16105545          30      10.0        9.00   7.20   7.34   6.00   7.50   \n",
            "\n",
            "     Area5  Area6  Area7  Area8  Area9  Area10  Area11  Area12  Area13  \n",
            "0     8.50   7.00   6.75   8.00   7.90    7.34    6.50    6.67     0.0  \n",
            "1     6.00   7.75  10.00   8.25   8.34    7.75    7.67    0.00     0.0  \n",
            "2     0.00   0.00   0.00   0.00   0.00    0.00    0.00    0.00     0.0  \n",
            "3     6.25   8.50   6.00   6.75   0.00    7.00    7.00    7.50     8.0  \n",
            "4     0.00   0.00   0.00   0.00   0.00    0.00    0.00    0.00     0.0  \n",
            "..     ...    ...    ...    ...    ...     ...     ...     ...     ...  \n",
            "309   6.00   6.00   9.25   6.34   7.50    7.00    6.90    0.00     0.0  \n",
            "310   6.00   6.00   9.25   6.34   7.50    7.00    6.90    0.00     0.0  \n",
            "311   6.00   6.00   9.25   6.34   7.50    7.00    6.90    0.00     0.0  \n",
            "312   6.00   6.00   9.25   6.34   7.50    7.00    6.90    0.00     0.0  \n",
            "313   6.00   6.00   9.25   6.34   7.50    7.00    6.90    0.00     0.0  \n",
            "\n",
            "[314 rows x 17 columns]\n"
          ]
        }
      ]
    },
    {
      "cell_type": "code",
      "source": [
        "import numpy as np\n",
        "from sklearn.decomposition import TruncatedSVD\n",
        "\n",
        "'''\n",
        "the user_item_matrix will look like this\n",
        "|        | item 1 | ... | item m |\n",
        "|--------|--------|-----|--------|\n",
        "| user 1 | 3      | 0   | 0      |\n",
        "| ...    | 0      | 4   | 5      |\n",
        "| user n | 2      | 0   | 0      |\n",
        "'''\n",
        "\n",
        "# initial hyperparameter\n",
        "epsilon = 1e-9\n",
        "n_latent_factors = 10\n",
        "\n",
        "# generate item lantent features\n",
        "item_svd = TruncatedSVD(n_components = n_latent_factors)\n",
        "item_features = item_svd.fit_transform(dataset_filtrado.transpose()) + epsilon\n",
        "\n",
        "# generate user latent features\n",
        "user_svd = TruncatedSVD(n_components = n_latent_factors)\n",
        "user_features = user_svd.fit_transform(dataset_filtrado) + epsilon"
      ],
      "metadata": {
        "id": "d1WJ62pqoliD"
      },
      "execution_count": 3,
      "outputs": []
    },
    {
      "cell_type": "code",
      "source": [
        "!pip install -U scikit-surprise"
      ],
      "metadata": {
        "colab": {
          "base_uri": "https://localhost:8080/"
        },
        "id": "hlOMTVsmpmLd",
        "outputId": "ca86fabd-9b90-472a-c00d-fe9411287b11"
      },
      "execution_count": 4,
      "outputs": [
        {
          "output_type": "stream",
          "name": "stdout",
          "text": [
            "Looking in indexes: https://pypi.org/simple, https://us-python.pkg.dev/colab-wheels/public/simple/\n",
            "Collecting scikit-surprise\n",
            "  Downloading scikit-surprise-1.1.1.tar.gz (11.8 MB)\n",
            "\u001b[K     |████████████████████████████████| 11.8 MB 6.4 MB/s \n",
            "\u001b[?25hRequirement already satisfied: joblib>=0.11 in /usr/local/lib/python3.7/dist-packages (from scikit-surprise) (1.1.0)\n",
            "Requirement already satisfied: numpy>=1.11.2 in /usr/local/lib/python3.7/dist-packages (from scikit-surprise) (1.21.6)\n",
            "Requirement already satisfied: scipy>=1.0.0 in /usr/local/lib/python3.7/dist-packages (from scikit-surprise) (1.7.3)\n",
            "Requirement already satisfied: six>=1.10.0 in /usr/local/lib/python3.7/dist-packages (from scikit-surprise) (1.15.0)\n",
            "Building wheels for collected packages: scikit-surprise\n",
            "  Building wheel for scikit-surprise (setup.py) ... \u001b[?25l\u001b[?25hdone\n",
            "  Created wheel for scikit-surprise: filename=scikit_surprise-1.1.1-cp37-cp37m-linux_x86_64.whl size=1633966 sha256=83cf8d16298b0909501128c985c3fcdcb54d1d7009bee02eda19e989046a215c\n",
            "  Stored in directory: /root/.cache/pip/wheels/76/44/74/b498c42be47b2406bd27994e16c5188e337c657025ab400c1c\n",
            "Successfully built scikit-surprise\n",
            "Installing collected packages: scikit-surprise\n",
            "Successfully installed scikit-surprise-1.1.1\n"
          ]
        }
      ]
    },
    {
      "cell_type": "code",
      "source": [
        "from surprise import SVD, accuracy\n",
        "from surprise import Dataset, Reader\n",
        "from surprise.model_selection import cross_validate\n",
        "from surprise.model_selection.split import train_test_split\n",
        "\n",
        "'''\n",
        "rating dataframe will look like this\n",
        "| user_id | item_id | rating          |\n",
        "|---------|---------|-----------------|\n",
        "| 1       | 1       | 5               |\n",
        "| ...     | ...     | ...             |\n",
        "| n       | m       | 3               |\n",
        "'''\n",
        "\n",
        "# preprocessing the data\n",
        "reader = Reader(rating_scale=(1,10))\n",
        "data = Dataset.load_from_df(dataset_filtrado[['MATRICULA','COD_AREA','MEDIA_NOTA']], reader)\n",
        "train, test = train_test_split(data, test_size=.2, random_state=42)\n",
        "\n",
        "# initial model\n",
        "algo = SVD(random_state = 42)\n",
        "algo.fit(train)\n",
        "pred = algo.test(test)\n",
        "\n",
        "# evaluate the rmse result of the prediction and ground thuth\n",
        "accuracy.rmse(pred)"
      ],
      "metadata": {
        "colab": {
          "base_uri": "https://localhost:8080/"
        },
        "id": "uh6LUs3DpE55",
        "outputId": "401eed8f-d0ad-45db-cfde-8b7829a56077"
      },
      "execution_count": 5,
      "outputs": [
        {
          "output_type": "stream",
          "name": "stdout",
          "text": [
            "RMSE: 2.1855\n"
          ]
        },
        {
          "output_type": "execute_result",
          "data": {
            "text/plain": [
              "2.185482523918402"
            ]
          },
          "metadata": {},
          "execution_count": 5
        }
      ]
    }
  ]
}