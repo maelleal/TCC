{
  "nbformat": 4,
  "nbformat_minor": 0,
  "metadata": {
    "colab": {
      "provenance": [],
      "authorship_tag": "ABX9TyNW4h5MgQpH9dDHzfavx+9I",
      "include_colab_link": true
    },
    "kernelspec": {
      "name": "python3",
      "display_name": "Python 3"
    },
    "language_info": {
      "name": "python"
    }
  },
  "cells": [
    {
      "cell_type": "markdown",
      "metadata": {
        "id": "view-in-github",
        "colab_type": "text"
      },
      "source": [
        "<a href=\"https://colab.research.google.com/github/maelleal/TCC_Recomendacao_INE/blob/main/TabularClassification.ipynb\" target=\"_parent\"><img src=\"https://colab.research.google.com/assets/colab-badge.svg\" alt=\"Open In Colab\"/></a>"
      ]
    },
    {
      "cell_type": "code",
      "execution_count": 399,
      "metadata": {
        "id": "UkKoZfKooiFP",
        "colab": {
          "base_uri": "https://localhost:8080/"
        },
        "outputId": "658d3081-3b9e-4973-ed1e-967b5243d2e4"
      },
      "outputs": [
        {
          "output_type": "stream",
          "name": "stdout",
          "text": [
            "Looking in indexes: https://pypi.org/simple, https://us-python.pkg.dev/colab-wheels/public/simple/\n",
            "Requirement already satisfied: fastai in /usr/local/lib/python3.7/dist-packages (2.7.9)\n",
            "Requirement already satisfied: pillow>6.0.0 in /usr/local/lib/python3.7/dist-packages (from fastai) (7.1.2)\n",
            "Requirement already satisfied: torchvision>=0.8.2 in /usr/local/lib/python3.7/dist-packages (from fastai) (0.13.1+cu113)\n",
            "Requirement already satisfied: scikit-learn in /usr/local/lib/python3.7/dist-packages (from fastai) (1.0.2)\n",
            "Requirement already satisfied: pip in /usr/local/lib/python3.7/dist-packages (from fastai) (21.1.3)\n",
            "Requirement already satisfied: torch<1.14,>=1.7 in /usr/local/lib/python3.7/dist-packages (from fastai) (1.12.1+cu113)\n",
            "Requirement already satisfied: scipy in /usr/local/lib/python3.7/dist-packages (from fastai) (1.7.3)\n",
            "Requirement already satisfied: fastcore<1.6,>=1.4.5 in /usr/local/lib/python3.7/dist-packages (from fastai) (1.5.25)\n",
            "Requirement already satisfied: spacy<4 in /usr/local/lib/python3.7/dist-packages (from fastai) (3.4.1)\n",
            "Requirement already satisfied: packaging in /usr/local/lib/python3.7/dist-packages (from fastai) (21.3)\n",
            "Requirement already satisfied: fastdownload<2,>=0.0.5 in /usr/local/lib/python3.7/dist-packages (from fastai) (0.0.7)\n",
            "Requirement already satisfied: matplotlib in /usr/local/lib/python3.7/dist-packages (from fastai) (3.2.2)\n",
            "Requirement already satisfied: pandas in /usr/local/lib/python3.7/dist-packages (from fastai) (1.3.5)\n",
            "Requirement already satisfied: fastprogress>=0.2.4 in /usr/local/lib/python3.7/dist-packages (from fastai) (1.0.3)\n",
            "Requirement already satisfied: pyyaml in /usr/local/lib/python3.7/dist-packages (from fastai) (6.0)\n",
            "Requirement already satisfied: requests in /usr/local/lib/python3.7/dist-packages (from fastai) (2.23.0)\n",
            "Requirement already satisfied: catalogue<2.1.0,>=2.0.6 in /usr/local/lib/python3.7/dist-packages (from spacy<4->fastai) (2.0.8)\n",
            "Requirement already satisfied: typing-extensions<4.2.0,>=3.7.4 in /usr/local/lib/python3.7/dist-packages (from spacy<4->fastai) (4.1.1)\n",
            "Requirement already satisfied: pydantic!=1.8,!=1.8.1,<1.10.0,>=1.7.4 in /usr/local/lib/python3.7/dist-packages (from spacy<4->fastai) (1.9.2)\n",
            "Requirement already satisfied: wasabi<1.1.0,>=0.9.1 in /usr/local/lib/python3.7/dist-packages (from spacy<4->fastai) (0.10.1)\n",
            "Requirement already satisfied: numpy>=1.15.0 in /usr/local/lib/python3.7/dist-packages (from spacy<4->fastai) (1.21.6)\n",
            "Requirement already satisfied: jinja2 in /usr/local/lib/python3.7/dist-packages (from spacy<4->fastai) (2.11.3)\n",
            "Requirement already satisfied: preshed<3.1.0,>=3.0.2 in /usr/local/lib/python3.7/dist-packages (from spacy<4->fastai) (3.0.7)\n",
            "Requirement already satisfied: srsly<3.0.0,>=2.4.3 in /usr/local/lib/python3.7/dist-packages (from spacy<4->fastai) (2.4.4)\n",
            "Requirement already satisfied: cymem<2.1.0,>=2.0.2 in /usr/local/lib/python3.7/dist-packages (from spacy<4->fastai) (2.0.6)\n",
            "Requirement already satisfied: tqdm<5.0.0,>=4.38.0 in /usr/local/lib/python3.7/dist-packages (from spacy<4->fastai) (4.64.1)\n",
            "Requirement already satisfied: murmurhash<1.1.0,>=0.28.0 in /usr/local/lib/python3.7/dist-packages (from spacy<4->fastai) (1.0.8)\n",
            "Requirement already satisfied: spacy-loggers<2.0.0,>=1.0.0 in /usr/local/lib/python3.7/dist-packages (from spacy<4->fastai) (1.0.3)\n",
            "Requirement already satisfied: typer<0.5.0,>=0.3.0 in /usr/local/lib/python3.7/dist-packages (from spacy<4->fastai) (0.4.2)\n",
            "Requirement already satisfied: spacy-legacy<3.1.0,>=3.0.9 in /usr/local/lib/python3.7/dist-packages (from spacy<4->fastai) (3.0.10)\n",
            "Requirement already satisfied: thinc<8.2.0,>=8.1.0 in /usr/local/lib/python3.7/dist-packages (from spacy<4->fastai) (8.1.0)\n",
            "Requirement already satisfied: langcodes<4.0.0,>=3.2.0 in /usr/local/lib/python3.7/dist-packages (from spacy<4->fastai) (3.3.0)\n",
            "Requirement already satisfied: setuptools in /usr/local/lib/python3.7/dist-packages (from spacy<4->fastai) (57.4.0)\n",
            "Requirement already satisfied: pathy>=0.3.5 in /usr/local/lib/python3.7/dist-packages (from spacy<4->fastai) (0.6.2)\n",
            "Requirement already satisfied: zipp>=0.5 in /usr/local/lib/python3.7/dist-packages (from catalogue<2.1.0,>=2.0.6->spacy<4->fastai) (3.8.1)\n",
            "Requirement already satisfied: pyparsing!=3.0.5,>=2.0.2 in /usr/local/lib/python3.7/dist-packages (from packaging->fastai) (3.0.9)\n",
            "Requirement already satisfied: smart-open<6.0.0,>=5.2.1 in /usr/local/lib/python3.7/dist-packages (from pathy>=0.3.5->spacy<4->fastai) (5.2.1)\n",
            "Requirement already satisfied: idna<3,>=2.5 in /usr/local/lib/python3.7/dist-packages (from requests->fastai) (2.10)\n",
            "Requirement already satisfied: certifi>=2017.4.17 in /usr/local/lib/python3.7/dist-packages (from requests->fastai) (2022.6.15)\n",
            "Requirement already satisfied: chardet<4,>=3.0.2 in /usr/local/lib/python3.7/dist-packages (from requests->fastai) (3.0.4)\n",
            "Requirement already satisfied: urllib3!=1.25.0,!=1.25.1,<1.26,>=1.21.1 in /usr/local/lib/python3.7/dist-packages (from requests->fastai) (1.24.3)\n",
            "Requirement already satisfied: blis<0.8.0,>=0.7.8 in /usr/local/lib/python3.7/dist-packages (from thinc<8.2.0,>=8.1.0->spacy<4->fastai) (0.7.8)\n",
            "Requirement already satisfied: click<9.0.0,>=7.1.1 in /usr/local/lib/python3.7/dist-packages (from typer<0.5.0,>=0.3.0->spacy<4->fastai) (7.1.2)\n",
            "Requirement already satisfied: MarkupSafe>=0.23 in /usr/local/lib/python3.7/dist-packages (from jinja2->spacy<4->fastai) (2.0.1)\n",
            "Requirement already satisfied: cycler>=0.10 in /usr/local/lib/python3.7/dist-packages (from matplotlib->fastai) (0.11.0)\n",
            "Requirement already satisfied: python-dateutil>=2.1 in /usr/local/lib/python3.7/dist-packages (from matplotlib->fastai) (2.8.2)\n",
            "Requirement already satisfied: kiwisolver>=1.0.1 in /usr/local/lib/python3.7/dist-packages (from matplotlib->fastai) (1.4.4)\n",
            "Requirement already satisfied: six>=1.5 in /usr/local/lib/python3.7/dist-packages (from python-dateutil>=2.1->matplotlib->fastai) (1.15.0)\n",
            "Requirement already satisfied: pytz>=2017.3 in /usr/local/lib/python3.7/dist-packages (from pandas->fastai) (2022.2.1)\n",
            "Requirement already satisfied: threadpoolctl>=2.0.0 in /usr/local/lib/python3.7/dist-packages (from scikit-learn->fastai) (3.1.0)\n",
            "Requirement already satisfied: joblib>=0.11 in /usr/local/lib/python3.7/dist-packages (from scikit-learn->fastai) (1.1.0)\n"
          ]
        }
      ],
      "source": [
        "!pip install -U fastai\n",
        "import pandas as pd\n",
        "import numpy as np\n",
        "from fastai.tabular import *\n",
        "import pathlib\n",
        "from fastai.tabular.all import *"
      ]
    },
    {
      "cell_type": "code",
      "source": [
        "from google.colab import drive\n",
        "drive.mount('/content/drive')"
      ],
      "metadata": {
        "colab": {
          "base_uri": "https://localhost:8080/"
        },
        "id": "EHxffDsY4vLi",
        "outputId": "2632ddef-c732-4f1a-e80b-f57325a3cabb"
      },
      "execution_count": 400,
      "outputs": [
        {
          "output_type": "stream",
          "name": "stdout",
          "text": [
            "Drive already mounted at /content/drive; to attempt to forcibly remount, call drive.mount(\"/content/drive\", force_remount=True).\n"
          ]
        }
      ]
    },
    {
      "cell_type": "code",
      "source": [
        "path = pathlib.Path('/content/drive/My Drive/TCC - Sistema recomendação INE')\n",
        "df = pd.read_excel(path/'tabela_modelo_medias_v4.xlsx')\n",
        "df = df.drop(columns=['ID_UFSC', 'MATRICULA', 'COD_AREA'])\n",
        "\n",
        "df.head(n=4)"
      ],
      "metadata": {
        "id": "VRzzaaPWzGeJ",
        "colab": {
          "base_uri": "https://localhost:8080/",
          "height": 271
        },
        "outputId": "c3d4f99a-d6b5-4b0a-9dd9-432f96c1bff3"
      },
      "execution_count": 401,
      "outputs": [
        {
          "output_type": "execute_result",
          "data": {
            "text/plain": [
              "                              CURSO  \\\n",
              "0            CIÊNCIAS DA COMPUTAÇÃO   \n",
              "1            CIÊNCIAS DA COMPUTAÇÃO   \n",
              "2  SISTEMAS DE INFORMAÇÃO (noturno)   \n",
              "3  SISTEMAS DE INFORMAÇÃO (noturno)   \n",
              "\n",
              "                                           AREA  \\\n",
              "0             Teoria da Computação e Linguagens   \n",
              "1  Engenharia de Software, Gerência de Projetos   \n",
              "2  Engenharia de Software, Gerência de Projetos   \n",
              "3                    Fundamentos de Programação   \n",
              "\n",
              "                          ORIENTADOR                       CLASSIF_AREA  \\\n",
              "0                      Jerusa Marchi  INE5430 - Inteligência Artificial   \n",
              "1             Jean Carlo Rossa Hauck     INE5617 - Gerência de Projetos   \n",
              "2  Fabiane Barreto Vavassori Benitti   INE5614 - Engenharia de Software   \n",
              "3     Fernando Augusto da Silva Cruz     INE5646 - Programação para Web   \n",
              "\n",
              "   MEDIA_NOTA  Area1  Area2  Area3  Area4  Area5  Area6  Area7  Area8  Area9  \\\n",
              "0         9.0   8.50   7.00   7.34   9.17   8.13    8.0   7.75   7.50   8.50   \n",
              "1        10.0   7.75   6.50   8.00   7.17   7.67    8.5   7.34   8.00   9.63   \n",
              "2         8.5   9.00   7.40   6.60   8.50   8.00    7.5   7.25   8.63   8.10   \n",
              "3         8.0   8.67   7.25   7.30   7.00   6.00    6.0   7.50   8.17   7.50   \n",
              "\n",
              "   Area10  Area11  Area12  Area13  \n",
              "0    6.84    7.38    7.79     7.0  \n",
              "1    7.50    8.63    7.09     8.0  \n",
              "2    7.67    6.50    7.50     0.0  \n",
              "3    7.50    6.25    7.25     0.0  "
            ],
            "text/html": [
              "\n",
              "  <div id=\"df-0d364273-f1e6-4d14-a405-418d5e4ce288\">\n",
              "    <div class=\"colab-df-container\">\n",
              "      <div>\n",
              "<style scoped>\n",
              "    .dataframe tbody tr th:only-of-type {\n",
              "        vertical-align: middle;\n",
              "    }\n",
              "\n",
              "    .dataframe tbody tr th {\n",
              "        vertical-align: top;\n",
              "    }\n",
              "\n",
              "    .dataframe thead th {\n",
              "        text-align: right;\n",
              "    }\n",
              "</style>\n",
              "<table border=\"1\" class=\"dataframe\">\n",
              "  <thead>\n",
              "    <tr style=\"text-align: right;\">\n",
              "      <th></th>\n",
              "      <th>CURSO</th>\n",
              "      <th>AREA</th>\n",
              "      <th>ORIENTADOR</th>\n",
              "      <th>CLASSIF_AREA</th>\n",
              "      <th>MEDIA_NOTA</th>\n",
              "      <th>Area1</th>\n",
              "      <th>Area2</th>\n",
              "      <th>Area3</th>\n",
              "      <th>Area4</th>\n",
              "      <th>Area5</th>\n",
              "      <th>Area6</th>\n",
              "      <th>Area7</th>\n",
              "      <th>Area8</th>\n",
              "      <th>Area9</th>\n",
              "      <th>Area10</th>\n",
              "      <th>Area11</th>\n",
              "      <th>Area12</th>\n",
              "      <th>Area13</th>\n",
              "    </tr>\n",
              "  </thead>\n",
              "  <tbody>\n",
              "    <tr>\n",
              "      <th>0</th>\n",
              "      <td>CIÊNCIAS DA COMPUTAÇÃO</td>\n",
              "      <td>Teoria da Computação e Linguagens</td>\n",
              "      <td>Jerusa Marchi</td>\n",
              "      <td>INE5430 - Inteligência Artificial</td>\n",
              "      <td>9.0</td>\n",
              "      <td>8.50</td>\n",
              "      <td>7.00</td>\n",
              "      <td>7.34</td>\n",
              "      <td>9.17</td>\n",
              "      <td>8.13</td>\n",
              "      <td>8.0</td>\n",
              "      <td>7.75</td>\n",
              "      <td>7.50</td>\n",
              "      <td>8.50</td>\n",
              "      <td>6.84</td>\n",
              "      <td>7.38</td>\n",
              "      <td>7.79</td>\n",
              "      <td>7.0</td>\n",
              "    </tr>\n",
              "    <tr>\n",
              "      <th>1</th>\n",
              "      <td>CIÊNCIAS DA COMPUTAÇÃO</td>\n",
              "      <td>Engenharia de Software, Gerência de Projetos</td>\n",
              "      <td>Jean Carlo Rossa Hauck</td>\n",
              "      <td>INE5617 - Gerência de Projetos</td>\n",
              "      <td>10.0</td>\n",
              "      <td>7.75</td>\n",
              "      <td>6.50</td>\n",
              "      <td>8.00</td>\n",
              "      <td>7.17</td>\n",
              "      <td>7.67</td>\n",
              "      <td>8.5</td>\n",
              "      <td>7.34</td>\n",
              "      <td>8.00</td>\n",
              "      <td>9.63</td>\n",
              "      <td>7.50</td>\n",
              "      <td>8.63</td>\n",
              "      <td>7.09</td>\n",
              "      <td>8.0</td>\n",
              "    </tr>\n",
              "    <tr>\n",
              "      <th>2</th>\n",
              "      <td>SISTEMAS DE INFORMAÇÃO (noturno)</td>\n",
              "      <td>Engenharia de Software, Gerência de Projetos</td>\n",
              "      <td>Fabiane Barreto Vavassori Benitti</td>\n",
              "      <td>INE5614 - Engenharia de Software</td>\n",
              "      <td>8.5</td>\n",
              "      <td>9.00</td>\n",
              "      <td>7.40</td>\n",
              "      <td>6.60</td>\n",
              "      <td>8.50</td>\n",
              "      <td>8.00</td>\n",
              "      <td>7.5</td>\n",
              "      <td>7.25</td>\n",
              "      <td>8.63</td>\n",
              "      <td>8.10</td>\n",
              "      <td>7.67</td>\n",
              "      <td>6.50</td>\n",
              "      <td>7.50</td>\n",
              "      <td>0.0</td>\n",
              "    </tr>\n",
              "    <tr>\n",
              "      <th>3</th>\n",
              "      <td>SISTEMAS DE INFORMAÇÃO (noturno)</td>\n",
              "      <td>Fundamentos de Programação</td>\n",
              "      <td>Fernando Augusto da Silva Cruz</td>\n",
              "      <td>INE5646 - Programação para Web</td>\n",
              "      <td>8.0</td>\n",
              "      <td>8.67</td>\n",
              "      <td>7.25</td>\n",
              "      <td>7.30</td>\n",
              "      <td>7.00</td>\n",
              "      <td>6.00</td>\n",
              "      <td>6.0</td>\n",
              "      <td>7.50</td>\n",
              "      <td>8.17</td>\n",
              "      <td>7.50</td>\n",
              "      <td>7.50</td>\n",
              "      <td>6.25</td>\n",
              "      <td>7.25</td>\n",
              "      <td>0.0</td>\n",
              "    </tr>\n",
              "  </tbody>\n",
              "</table>\n",
              "</div>\n",
              "      <button class=\"colab-df-convert\" onclick=\"convertToInteractive('df-0d364273-f1e6-4d14-a405-418d5e4ce288')\"\n",
              "              title=\"Convert this dataframe to an interactive table.\"\n",
              "              style=\"display:none;\">\n",
              "        \n",
              "  <svg xmlns=\"http://www.w3.org/2000/svg\" height=\"24px\"viewBox=\"0 0 24 24\"\n",
              "       width=\"24px\">\n",
              "    <path d=\"M0 0h24v24H0V0z\" fill=\"none\"/>\n",
              "    <path d=\"M18.56 5.44l.94 2.06.94-2.06 2.06-.94-2.06-.94-.94-2.06-.94 2.06-2.06.94zm-11 1L8.5 8.5l.94-2.06 2.06-.94-2.06-.94L8.5 2.5l-.94 2.06-2.06.94zm10 10l.94 2.06.94-2.06 2.06-.94-2.06-.94-.94-2.06-.94 2.06-2.06.94z\"/><path d=\"M17.41 7.96l-1.37-1.37c-.4-.4-.92-.59-1.43-.59-.52 0-1.04.2-1.43.59L10.3 9.45l-7.72 7.72c-.78.78-.78 2.05 0 2.83L4 21.41c.39.39.9.59 1.41.59.51 0 1.02-.2 1.41-.59l7.78-7.78 2.81-2.81c.8-.78.8-2.07 0-2.86zM5.41 20L4 18.59l7.72-7.72 1.47 1.35L5.41 20z\"/>\n",
              "  </svg>\n",
              "      </button>\n",
              "      \n",
              "  <style>\n",
              "    .colab-df-container {\n",
              "      display:flex;\n",
              "      flex-wrap:wrap;\n",
              "      gap: 12px;\n",
              "    }\n",
              "\n",
              "    .colab-df-convert {\n",
              "      background-color: #E8F0FE;\n",
              "      border: none;\n",
              "      border-radius: 50%;\n",
              "      cursor: pointer;\n",
              "      display: none;\n",
              "      fill: #1967D2;\n",
              "      height: 32px;\n",
              "      padding: 0 0 0 0;\n",
              "      width: 32px;\n",
              "    }\n",
              "\n",
              "    .colab-df-convert:hover {\n",
              "      background-color: #E2EBFA;\n",
              "      box-shadow: 0px 1px 2px rgba(60, 64, 67, 0.3), 0px 1px 3px 1px rgba(60, 64, 67, 0.15);\n",
              "      fill: #174EA6;\n",
              "    }\n",
              "\n",
              "    [theme=dark] .colab-df-convert {\n",
              "      background-color: #3B4455;\n",
              "      fill: #D2E3FC;\n",
              "    }\n",
              "\n",
              "    [theme=dark] .colab-df-convert:hover {\n",
              "      background-color: #434B5C;\n",
              "      box-shadow: 0px 1px 3px 1px rgba(0, 0, 0, 0.15);\n",
              "      filter: drop-shadow(0px 1px 2px rgba(0, 0, 0, 0.3));\n",
              "      fill: #FFFFFF;\n",
              "    }\n",
              "  </style>\n",
              "\n",
              "      <script>\n",
              "        const buttonEl =\n",
              "          document.querySelector('#df-0d364273-f1e6-4d14-a405-418d5e4ce288 button.colab-df-convert');\n",
              "        buttonEl.style.display =\n",
              "          google.colab.kernel.accessAllowed ? 'block' : 'none';\n",
              "\n",
              "        async function convertToInteractive(key) {\n",
              "          const element = document.querySelector('#df-0d364273-f1e6-4d14-a405-418d5e4ce288');\n",
              "          const dataTable =\n",
              "            await google.colab.kernel.invokeFunction('convertToInteractive',\n",
              "                                                     [key], {});\n",
              "          if (!dataTable) return;\n",
              "\n",
              "          const docLinkHtml = 'Like what you see? Visit the ' +\n",
              "            '<a target=\"_blank\" href=https://colab.research.google.com/notebooks/data_table.ipynb>data table notebook</a>'\n",
              "            + ' to learn more about interactive tables.';\n",
              "          element.innerHTML = '';\n",
              "          dataTable['output_type'] = 'display_data';\n",
              "          await google.colab.output.renderOutput(dataTable, element);\n",
              "          const docLink = document.createElement('div');\n",
              "          docLink.innerHTML = docLinkHtml;\n",
              "          element.appendChild(docLink);\n",
              "        }\n",
              "      </script>\n",
              "    </div>\n",
              "  </div>\n",
              "  "
            ]
          },
          "metadata": {},
          "execution_count": 401
        }
      ]
    },
    {
      "cell_type": "code",
      "source": [
        "#The list of categorical features in the dataset\n",
        "cat_names = ['CURSO', 'ORIENTADOR', 'AREA', 'CLASSIF_AREA'] \n",
        "\n",
        "#The list of continuous features in the dataset\n",
        "#Exclude the Dependent variable 'Price'\n",
        "cont_names =['MEDIA_NOTA', 'Area1', 'Area2', 'Area3', 'Area4', 'Area5', 'Area6', 'Area7', 'Area8', 'Area9', 'Area10', 'Area11', 'Area12', 'Area13'] \n"
      ],
      "metadata": {
        "id": "qpGi1R3yzmla"
      },
      "execution_count": 402,
      "outputs": []
    },
    {
      "cell_type": "code",
      "source": [
        "cat = Categorify()"
      ],
      "metadata": {
        "id": "pCBFf9M3MaKp"
      },
      "execution_count": 403,
      "outputs": []
    },
    {
      "cell_type": "code",
      "source": [
        "to = TabularPandas(df, cat, cat_names)"
      ],
      "metadata": {
        "id": "kOQ_ahXzMz_I"
      },
      "execution_count": 404,
      "outputs": []
    },
    {
      "cell_type": "code",
      "source": [
        "cats = to.procs.categorify"
      ],
      "metadata": {
        "id": "vCcRPNo9M0tq"
      },
      "execution_count": 405,
      "outputs": []
    },
    {
      "cell_type": "code",
      "source": [
        "cats['AREA']"
      ],
      "metadata": {
        "colab": {
          "base_uri": "https://localhost:8080/"
        },
        "id": "Ywx_ilgjM9Tc",
        "outputId": "e80cc4d6-687d-4b51-dc14-0edabd691900"
      },
      "execution_count": 406,
      "outputs": [
        {
          "output_type": "execute_result",
          "data": {
            "text/plain": [
              "['#na#', 'Ciência, Tecnologia, Sociedade e Emprendedorismo', 'Engenharia de Software, Gerência de Projetos', 'Fundamentos Matemáticos', 'Fundamentos de Programação', 'Organização de Computadores e Sistemas Embarcados', 'Probabilidade e Estatística', 'Redes de Computadores e Segurança', 'Sistemas Operacionais, Concorrência e Paralelismo', 'Teoria da Computação e Linguagens', 'Tratamento e Banco de Dados']"
            ]
          },
          "metadata": {},
          "execution_count": 406
        }
      ]
    },
    {
      "cell_type": "code",
      "source": [
        "#to.show(max_n=3)"
      ],
      "metadata": {
        "id": "IR12xd6NNAoB"
      },
      "execution_count": 407,
      "outputs": []
    },
    {
      "cell_type": "code",
      "source": [
        "#to.cats.head()"
      ],
      "metadata": {
        "id": "gdLf3tjGNGvS"
      },
      "execution_count": 408,
      "outputs": []
    },
    {
      "cell_type": "code",
      "source": [
        "norm = Normalize()"
      ],
      "metadata": {
        "id": "N4-ObcbSNNO7"
      },
      "execution_count": 409,
      "outputs": []
    },
    {
      "cell_type": "code",
      "source": [
        "to = TabularPandas(df, norm, cont_names=cont_names)"
      ],
      "metadata": {
        "id": "esTc1ROKNapB"
      },
      "execution_count": 410,
      "outputs": []
    },
    {
      "cell_type": "code",
      "source": [
        "norms = to.procs.normalize"
      ],
      "metadata": {
        "id": "USCUGZGxNeDR"
      },
      "execution_count": 411,
      "outputs": []
    },
    {
      "cell_type": "code",
      "source": [
        "norms.means"
      ],
      "metadata": {
        "colab": {
          "base_uri": "https://localhost:8080/"
        },
        "id": "_Ty1HQ0DNgBy",
        "outputId": "90864710-899c-4597-a5d2-d7e28af6ffa0"
      },
      "execution_count": 412,
      "outputs": [
        {
          "output_type": "execute_result",
          "data": {
            "text/plain": [
              "{'MEDIA_NOTA': 8.4057665,\n",
              " 'Area1': 8.082822,\n",
              " 'Area2': 7.1061354,\n",
              " 'Area3': 7.6442947,\n",
              " 'Area4': 7.7555823,\n",
              " 'Area5': 7.073834,\n",
              " 'Area6': 7.5222692,\n",
              " 'Area7': 7.570276,\n",
              " 'Area8': 7.592239,\n",
              " 'Area9': 8.081135,\n",
              " 'Area10': 7.2294173,\n",
              " 'Area11': 7.1889567,\n",
              " 'Area12': 5.0856442,\n",
              " 'Area13': 3.8745677}"
            ]
          },
          "metadata": {},
          "execution_count": 412
        }
      ]
    },
    {
      "cell_type": "code",
      "source": [
        "norms.stds"
      ],
      "metadata": {
        "colab": {
          "base_uri": "https://localhost:8080/"
        },
        "id": "4mJxSDb0NiJq",
        "outputId": "cc141d14-8672-4496-b90a-9dd5df836d4f"
      },
      "execution_count": 413,
      "outputs": [
        {
          "output_type": "execute_result",
          "data": {
            "text/plain": [
              "{'MEDIA_NOTA': 1.977753,\n",
              " 'Area1': 0.9639538,\n",
              " 'Area2': 1.4871472,\n",
              " 'Area3': 1.0417,\n",
              " 'Area4': 0.9773903,\n",
              " 'Area5': 1.0030686,\n",
              " 'Area6': 1.2358096,\n",
              " 'Area7': 1.3026177,\n",
              " 'Area8': 1.336414,\n",
              " 'Area9': 1.6202556,\n",
              " 'Area10': 1.0844991,\n",
              " 'Area11': 1.047839,\n",
              " 'Area12': 3.499387,\n",
              " 'Area13': 3.8373954}"
            ]
          },
          "metadata": {},
          "execution_count": 413
        }
      ]
    },
    {
      "cell_type": "code",
      "source": [
        "to.conts.head()"
      ],
      "metadata": {
        "colab": {
          "base_uri": "https://localhost:8080/",
          "height": 206
        },
        "id": "N_TDgAdMOFQB",
        "outputId": "b9a01cf1-9afd-43bd-f529-40521cdf9873"
      },
      "execution_count": 414,
      "outputs": [
        {
          "output_type": "execute_result",
          "data": {
            "text/plain": [
              "   MEDIA_NOTA     Area1     Area2     Area3     Area4     Area5     Area6  \\\n",
              "0    0.300459  0.432778 -0.071368 -0.292113  1.447137  1.052935  0.386573   \n",
              "1    0.806083 -0.345267 -0.407583  0.341466 -0.599128  0.594342  0.791166   \n",
              "2    0.047647  0.951475  0.197603 -1.002491  0.761638  0.923333 -0.018020   \n",
              "3   -0.205165  0.609135  0.096739 -0.330512 -0.773061 -1.070549 -1.231799   \n",
              "4   -0.710790  0.432778 -0.743797 -0.810497  0.383079 -0.073608 -0.422613   \n",
              "\n",
              "      Area7     Area8     Area9    Area10    Area11    Area12    Area13  \n",
              "0  0.137972 -0.069020  0.258518 -0.359076  0.182321  0.772808  0.814467  \n",
              "1 -0.176779  0.305116  0.955939  0.249500  1.375253  0.572773  1.075060  \n",
              "2 -0.245871  0.776527  0.011644  0.406255 -0.657502  0.689937 -1.009687  \n",
              "3 -0.053950  0.432322 -0.358669  0.249500 -0.896089  0.618496 -1.009687  \n",
              "4  0.713735 -1.191426  0.196799 -0.672585  0.420908  0.689937  0.684170  "
            ],
            "text/html": [
              "\n",
              "  <div id=\"df-55ce95b0-cac4-42f0-9ea6-350b53289037\">\n",
              "    <div class=\"colab-df-container\">\n",
              "      <div>\n",
              "<style scoped>\n",
              "    .dataframe tbody tr th:only-of-type {\n",
              "        vertical-align: middle;\n",
              "    }\n",
              "\n",
              "    .dataframe tbody tr th {\n",
              "        vertical-align: top;\n",
              "    }\n",
              "\n",
              "    .dataframe thead th {\n",
              "        text-align: right;\n",
              "    }\n",
              "</style>\n",
              "<table border=\"1\" class=\"dataframe\">\n",
              "  <thead>\n",
              "    <tr style=\"text-align: right;\">\n",
              "      <th></th>\n",
              "      <th>MEDIA_NOTA</th>\n",
              "      <th>Area1</th>\n",
              "      <th>Area2</th>\n",
              "      <th>Area3</th>\n",
              "      <th>Area4</th>\n",
              "      <th>Area5</th>\n",
              "      <th>Area6</th>\n",
              "      <th>Area7</th>\n",
              "      <th>Area8</th>\n",
              "      <th>Area9</th>\n",
              "      <th>Area10</th>\n",
              "      <th>Area11</th>\n",
              "      <th>Area12</th>\n",
              "      <th>Area13</th>\n",
              "    </tr>\n",
              "  </thead>\n",
              "  <tbody>\n",
              "    <tr>\n",
              "      <th>0</th>\n",
              "      <td>0.300459</td>\n",
              "      <td>0.432778</td>\n",
              "      <td>-0.071368</td>\n",
              "      <td>-0.292113</td>\n",
              "      <td>1.447137</td>\n",
              "      <td>1.052935</td>\n",
              "      <td>0.386573</td>\n",
              "      <td>0.137972</td>\n",
              "      <td>-0.069020</td>\n",
              "      <td>0.258518</td>\n",
              "      <td>-0.359076</td>\n",
              "      <td>0.182321</td>\n",
              "      <td>0.772808</td>\n",
              "      <td>0.814467</td>\n",
              "    </tr>\n",
              "    <tr>\n",
              "      <th>1</th>\n",
              "      <td>0.806083</td>\n",
              "      <td>-0.345267</td>\n",
              "      <td>-0.407583</td>\n",
              "      <td>0.341466</td>\n",
              "      <td>-0.599128</td>\n",
              "      <td>0.594342</td>\n",
              "      <td>0.791166</td>\n",
              "      <td>-0.176779</td>\n",
              "      <td>0.305116</td>\n",
              "      <td>0.955939</td>\n",
              "      <td>0.249500</td>\n",
              "      <td>1.375253</td>\n",
              "      <td>0.572773</td>\n",
              "      <td>1.075060</td>\n",
              "    </tr>\n",
              "    <tr>\n",
              "      <th>2</th>\n",
              "      <td>0.047647</td>\n",
              "      <td>0.951475</td>\n",
              "      <td>0.197603</td>\n",
              "      <td>-1.002491</td>\n",
              "      <td>0.761638</td>\n",
              "      <td>0.923333</td>\n",
              "      <td>-0.018020</td>\n",
              "      <td>-0.245871</td>\n",
              "      <td>0.776527</td>\n",
              "      <td>0.011644</td>\n",
              "      <td>0.406255</td>\n",
              "      <td>-0.657502</td>\n",
              "      <td>0.689937</td>\n",
              "      <td>-1.009687</td>\n",
              "    </tr>\n",
              "    <tr>\n",
              "      <th>3</th>\n",
              "      <td>-0.205165</td>\n",
              "      <td>0.609135</td>\n",
              "      <td>0.096739</td>\n",
              "      <td>-0.330512</td>\n",
              "      <td>-0.773061</td>\n",
              "      <td>-1.070549</td>\n",
              "      <td>-1.231799</td>\n",
              "      <td>-0.053950</td>\n",
              "      <td>0.432322</td>\n",
              "      <td>-0.358669</td>\n",
              "      <td>0.249500</td>\n",
              "      <td>-0.896089</td>\n",
              "      <td>0.618496</td>\n",
              "      <td>-1.009687</td>\n",
              "    </tr>\n",
              "    <tr>\n",
              "      <th>4</th>\n",
              "      <td>-0.710790</td>\n",
              "      <td>0.432778</td>\n",
              "      <td>-0.743797</td>\n",
              "      <td>-0.810497</td>\n",
              "      <td>0.383079</td>\n",
              "      <td>-0.073608</td>\n",
              "      <td>-0.422613</td>\n",
              "      <td>0.713735</td>\n",
              "      <td>-1.191426</td>\n",
              "      <td>0.196799</td>\n",
              "      <td>-0.672585</td>\n",
              "      <td>0.420908</td>\n",
              "      <td>0.689937</td>\n",
              "      <td>0.684170</td>\n",
              "    </tr>\n",
              "  </tbody>\n",
              "</table>\n",
              "</div>\n",
              "      <button class=\"colab-df-convert\" onclick=\"convertToInteractive('df-55ce95b0-cac4-42f0-9ea6-350b53289037')\"\n",
              "              title=\"Convert this dataframe to an interactive table.\"\n",
              "              style=\"display:none;\">\n",
              "        \n",
              "  <svg xmlns=\"http://www.w3.org/2000/svg\" height=\"24px\"viewBox=\"0 0 24 24\"\n",
              "       width=\"24px\">\n",
              "    <path d=\"M0 0h24v24H0V0z\" fill=\"none\"/>\n",
              "    <path d=\"M18.56 5.44l.94 2.06.94-2.06 2.06-.94-2.06-.94-.94-2.06-.94 2.06-2.06.94zm-11 1L8.5 8.5l.94-2.06 2.06-.94-2.06-.94L8.5 2.5l-.94 2.06-2.06.94zm10 10l.94 2.06.94-2.06 2.06-.94-2.06-.94-.94-2.06-.94 2.06-2.06.94z\"/><path d=\"M17.41 7.96l-1.37-1.37c-.4-.4-.92-.59-1.43-.59-.52 0-1.04.2-1.43.59L10.3 9.45l-7.72 7.72c-.78.78-.78 2.05 0 2.83L4 21.41c.39.39.9.59 1.41.59.51 0 1.02-.2 1.41-.59l7.78-7.78 2.81-2.81c.8-.78.8-2.07 0-2.86zM5.41 20L4 18.59l7.72-7.72 1.47 1.35L5.41 20z\"/>\n",
              "  </svg>\n",
              "      </button>\n",
              "      \n",
              "  <style>\n",
              "    .colab-df-container {\n",
              "      display:flex;\n",
              "      flex-wrap:wrap;\n",
              "      gap: 12px;\n",
              "    }\n",
              "\n",
              "    .colab-df-convert {\n",
              "      background-color: #E8F0FE;\n",
              "      border: none;\n",
              "      border-radius: 50%;\n",
              "      cursor: pointer;\n",
              "      display: none;\n",
              "      fill: #1967D2;\n",
              "      height: 32px;\n",
              "      padding: 0 0 0 0;\n",
              "      width: 32px;\n",
              "    }\n",
              "\n",
              "    .colab-df-convert:hover {\n",
              "      background-color: #E2EBFA;\n",
              "      box-shadow: 0px 1px 2px rgba(60, 64, 67, 0.3), 0px 1px 3px 1px rgba(60, 64, 67, 0.15);\n",
              "      fill: #174EA6;\n",
              "    }\n",
              "\n",
              "    [theme=dark] .colab-df-convert {\n",
              "      background-color: #3B4455;\n",
              "      fill: #D2E3FC;\n",
              "    }\n",
              "\n",
              "    [theme=dark] .colab-df-convert:hover {\n",
              "      background-color: #434B5C;\n",
              "      box-shadow: 0px 1px 3px 1px rgba(0, 0, 0, 0.15);\n",
              "      filter: drop-shadow(0px 1px 2px rgba(0, 0, 0, 0.3));\n",
              "      fill: #FFFFFF;\n",
              "    }\n",
              "  </style>\n",
              "\n",
              "      <script>\n",
              "        const buttonEl =\n",
              "          document.querySelector('#df-55ce95b0-cac4-42f0-9ea6-350b53289037 button.colab-df-convert');\n",
              "        buttonEl.style.display =\n",
              "          google.colab.kernel.accessAllowed ? 'block' : 'none';\n",
              "\n",
              "        async function convertToInteractive(key) {\n",
              "          const element = document.querySelector('#df-55ce95b0-cac4-42f0-9ea6-350b53289037');\n",
              "          const dataTable =\n",
              "            await google.colab.kernel.invokeFunction('convertToInteractive',\n",
              "                                                     [key], {});\n",
              "          if (!dataTable) return;\n",
              "\n",
              "          const docLinkHtml = 'Like what you see? Visit the ' +\n",
              "            '<a target=\"_blank\" href=https://colab.research.google.com/notebooks/data_table.ipynb>data table notebook</a>'\n",
              "            + ' to learn more about interactive tables.';\n",
              "          element.innerHTML = '';\n",
              "          dataTable['output_type'] = 'display_data';\n",
              "          await google.colab.output.renderOutput(dataTable, element);\n",
              "          const docLink = document.createElement('div');\n",
              "          docLink.innerHTML = docLinkHtml;\n",
              "          element.appendChild(docLink);\n",
              "        }\n",
              "      </script>\n",
              "    </div>\n",
              "  </div>\n",
              "  "
            ]
          },
          "metadata": {},
          "execution_count": 414
        }
      ]
    },
    {
      "cell_type": "code",
      "source": [
        "fm = FillMissing(fill_strategy=FillStrategy.median)"
      ],
      "metadata": {
        "id": "4JcqxdDkOSvn"
      },
      "execution_count": 415,
      "outputs": []
    },
    {
      "cell_type": "code",
      "source": [
        "to = TabularPandas(df, fm, cont_names=cont_names)"
      ],
      "metadata": {
        "id": "W8VKIRQ2Ol7G"
      },
      "execution_count": 416,
      "outputs": []
    },
    {
      "cell_type": "code",
      "source": [
        "to.cat_names"
      ],
      "metadata": {
        "colab": {
          "base_uri": "https://localhost:8080/"
        },
        "id": "iYP-b5miOrdB",
        "outputId": "34508f4d-e8e1-4f6a-a556-b11bb18e6972"
      },
      "execution_count": 417,
      "outputs": [
        {
          "output_type": "execute_result",
          "data": {
            "text/plain": [
              "(#1) ['Area13_na']"
            ]
          },
          "metadata": {},
          "execution_count": 417
        }
      ]
    },
    {
      "cell_type": "code",
      "source": [
        "to.cats.head()"
      ],
      "metadata": {
        "colab": {
          "base_uri": "https://localhost:8080/",
          "height": 206
        },
        "id": "_JJ_pv0kPx0h",
        "outputId": "d24511eb-89b3-495f-e504-d33a4eaec3fc"
      },
      "execution_count": 418,
      "outputs": [
        {
          "output_type": "execute_result",
          "data": {
            "text/plain": [
              "   Area13_na\n",
              "0      False\n",
              "1      False\n",
              "2      False\n",
              "3      False\n",
              "4      False"
            ],
            "text/html": [
              "\n",
              "  <div id=\"df-e5b2ceff-20fb-4653-987c-565f389e9119\">\n",
              "    <div class=\"colab-df-container\">\n",
              "      <div>\n",
              "<style scoped>\n",
              "    .dataframe tbody tr th:only-of-type {\n",
              "        vertical-align: middle;\n",
              "    }\n",
              "\n",
              "    .dataframe tbody tr th {\n",
              "        vertical-align: top;\n",
              "    }\n",
              "\n",
              "    .dataframe thead th {\n",
              "        text-align: right;\n",
              "    }\n",
              "</style>\n",
              "<table border=\"1\" class=\"dataframe\">\n",
              "  <thead>\n",
              "    <tr style=\"text-align: right;\">\n",
              "      <th></th>\n",
              "      <th>Area13_na</th>\n",
              "    </tr>\n",
              "  </thead>\n",
              "  <tbody>\n",
              "    <tr>\n",
              "      <th>0</th>\n",
              "      <td>False</td>\n",
              "    </tr>\n",
              "    <tr>\n",
              "      <th>1</th>\n",
              "      <td>False</td>\n",
              "    </tr>\n",
              "    <tr>\n",
              "      <th>2</th>\n",
              "      <td>False</td>\n",
              "    </tr>\n",
              "    <tr>\n",
              "      <th>3</th>\n",
              "      <td>False</td>\n",
              "    </tr>\n",
              "    <tr>\n",
              "      <th>4</th>\n",
              "      <td>False</td>\n",
              "    </tr>\n",
              "  </tbody>\n",
              "</table>\n",
              "</div>\n",
              "      <button class=\"colab-df-convert\" onclick=\"convertToInteractive('df-e5b2ceff-20fb-4653-987c-565f389e9119')\"\n",
              "              title=\"Convert this dataframe to an interactive table.\"\n",
              "              style=\"display:none;\">\n",
              "        \n",
              "  <svg xmlns=\"http://www.w3.org/2000/svg\" height=\"24px\"viewBox=\"0 0 24 24\"\n",
              "       width=\"24px\">\n",
              "    <path d=\"M0 0h24v24H0V0z\" fill=\"none\"/>\n",
              "    <path d=\"M18.56 5.44l.94 2.06.94-2.06 2.06-.94-2.06-.94-.94-2.06-.94 2.06-2.06.94zm-11 1L8.5 8.5l.94-2.06 2.06-.94-2.06-.94L8.5 2.5l-.94 2.06-2.06.94zm10 10l.94 2.06.94-2.06 2.06-.94-2.06-.94-.94-2.06-.94 2.06-2.06.94z\"/><path d=\"M17.41 7.96l-1.37-1.37c-.4-.4-.92-.59-1.43-.59-.52 0-1.04.2-1.43.59L10.3 9.45l-7.72 7.72c-.78.78-.78 2.05 0 2.83L4 21.41c.39.39.9.59 1.41.59.51 0 1.02-.2 1.41-.59l7.78-7.78 2.81-2.81c.8-.78.8-2.07 0-2.86zM5.41 20L4 18.59l7.72-7.72 1.47 1.35L5.41 20z\"/>\n",
              "  </svg>\n",
              "      </button>\n",
              "      \n",
              "  <style>\n",
              "    .colab-df-container {\n",
              "      display:flex;\n",
              "      flex-wrap:wrap;\n",
              "      gap: 12px;\n",
              "    }\n",
              "\n",
              "    .colab-df-convert {\n",
              "      background-color: #E8F0FE;\n",
              "      border: none;\n",
              "      border-radius: 50%;\n",
              "      cursor: pointer;\n",
              "      display: none;\n",
              "      fill: #1967D2;\n",
              "      height: 32px;\n",
              "      padding: 0 0 0 0;\n",
              "      width: 32px;\n",
              "    }\n",
              "\n",
              "    .colab-df-convert:hover {\n",
              "      background-color: #E2EBFA;\n",
              "      box-shadow: 0px 1px 2px rgba(60, 64, 67, 0.3), 0px 1px 3px 1px rgba(60, 64, 67, 0.15);\n",
              "      fill: #174EA6;\n",
              "    }\n",
              "\n",
              "    [theme=dark] .colab-df-convert {\n",
              "      background-color: #3B4455;\n",
              "      fill: #D2E3FC;\n",
              "    }\n",
              "\n",
              "    [theme=dark] .colab-df-convert:hover {\n",
              "      background-color: #434B5C;\n",
              "      box-shadow: 0px 1px 3px 1px rgba(0, 0, 0, 0.15);\n",
              "      filter: drop-shadow(0px 1px 2px rgba(0, 0, 0, 0.3));\n",
              "      fill: #FFFFFF;\n",
              "    }\n",
              "  </style>\n",
              "\n",
              "      <script>\n",
              "        const buttonEl =\n",
              "          document.querySelector('#df-e5b2ceff-20fb-4653-987c-565f389e9119 button.colab-df-convert');\n",
              "        buttonEl.style.display =\n",
              "          google.colab.kernel.accessAllowed ? 'block' : 'none';\n",
              "\n",
              "        async function convertToInteractive(key) {\n",
              "          const element = document.querySelector('#df-e5b2ceff-20fb-4653-987c-565f389e9119');\n",
              "          const dataTable =\n",
              "            await google.colab.kernel.invokeFunction('convertToInteractive',\n",
              "                                                     [key], {});\n",
              "          if (!dataTable) return;\n",
              "\n",
              "          const docLinkHtml = 'Like what you see? Visit the ' +\n",
              "            '<a target=\"_blank\" href=https://colab.research.google.com/notebooks/data_table.ipynb>data table notebook</a>'\n",
              "            + ' to learn more about interactive tables.';\n",
              "          element.innerHTML = '';\n",
              "          dataTable['output_type'] = 'display_data';\n",
              "          await google.colab.output.renderOutput(dataTable, element);\n",
              "          const docLink = document.createElement('div');\n",
              "          docLink.innerHTML = docLinkHtml;\n",
              "          element.appendChild(docLink);\n",
              "        }\n",
              "      </script>\n",
              "    </div>\n",
              "  </div>\n",
              "  "
            ]
          },
          "metadata": {},
          "execution_count": 418
        }
      ]
    },
    {
      "cell_type": "code",
      "source": [
        "splits = RandomSplitter()(range_of(df))\n",
        "splits"
      ],
      "metadata": {
        "colab": {
          "base_uri": "https://localhost:8080/"
        },
        "id": "PGFvSRKWP0kA",
        "outputId": "10ee161d-3f14-4704-ee04-022ce0fcdc0b"
      },
      "execution_count": 419,
      "outputs": [
        {
          "output_type": "execute_result",
          "data": {
            "text/plain": [
              "((#261) [96,90,84,11,54,95,273,55,258,272...],\n",
              " (#65) [283,320,146,92,316,0,64,79,164,97...])"
            ]
          },
          "metadata": {},
          "execution_count": 419
        }
      ]
    },
    {
      "cell_type": "code",
      "source": [
        "range_of(df)[:5], len(df)"
      ],
      "metadata": {
        "colab": {
          "base_uri": "https://localhost:8080/"
        },
        "id": "UzlrfIzHP-u4",
        "outputId": "e953d435-f10a-4e9c-83e7-6f5830e233ac"
      },
      "execution_count": 420,
      "outputs": [
        {
          "output_type": "execute_result",
          "data": {
            "text/plain": [
              "([0, 1, 2, 3, 4], 326)"
            ]
          },
          "metadata": {},
          "execution_count": 420
        }
      ]
    },
    {
      "cell_type": "code",
      "source": [
        "cat_names = ['CURSO', 'ORIENTADOR', 'CLASSIF_AREA'] \n",
        "cont_names = ['MEDIA_NOTA', 'Area1', 'Area2', 'Area3', 'Area4', 'Area5', 'Area6', 'Area7', 'Area8', 'Area9', 'Area10', 'Area11', 'Area12', 'Area13'] \n",
        "procs = [Categorify, FillMissing, Normalize]\n",
        "y_names = 'AREA'\n",
        "y_block = CategoryBlock()"
      ],
      "metadata": {
        "id": "1ymIyO0TQD0q"
      },
      "execution_count": 421,
      "outputs": []
    },
    {
      "cell_type": "code",
      "source": [
        "to = TabularPandas(df, procs=procs, cat_names=cat_names, cont_names=cont_names,\n",
        "                   y_names=y_names, y_block=y_block, splits=splits)"
      ],
      "metadata": {
        "id": "Q791uTwTQyaF"
      },
      "execution_count": 422,
      "outputs": []
    },
    {
      "cell_type": "code",
      "source": [
        "dls = to.dataloaders()"
      ],
      "metadata": {
        "id": "Gnu4utqJQ6Jq"
      },
      "execution_count": 423,
      "outputs": []
    },
    {
      "cell_type": "code",
      "source": [
        "trn_dl = TabDataLoader(to.train, bs=64, shuffle=True, drop_last=True)\n",
        "val_dl = TabDataLoader(to.valid, bs=128)"
      ],
      "metadata": {
        "id": "VrR2CRtRQ8Qq"
      },
      "execution_count": 424,
      "outputs": []
    },
    {
      "cell_type": "code",
      "source": [
        "dls = DataLoaders(trn_dl, val_dl)"
      ],
      "metadata": {
        "id": "4gQSHJfuQ--B"
      },
      "execution_count": 425,
      "outputs": []
    },
    {
      "cell_type": "code",
      "source": [
        "dls.show_batch()"
      ],
      "metadata": {
        "colab": {
          "base_uri": "https://localhost:8080/",
          "height": 571
        },
        "id": "HRRX1poLRA95",
        "outputId": "117e66b2-0f1b-418a-8141-7b1a8d1f7ffb"
      },
      "execution_count": 426,
      "outputs": [
        {
          "output_type": "display_data",
          "data": {
            "text/plain": [
              "<IPython.core.display.HTML object>"
            ],
            "text/html": [
              "<table border=\"1\" class=\"dataframe\">\n",
              "  <thead>\n",
              "    <tr style=\"text-align: right;\">\n",
              "      <th></th>\n",
              "      <th>CURSO</th>\n",
              "      <th>ORIENTADOR</th>\n",
              "      <th>CLASSIF_AREA</th>\n",
              "      <th>Area13_na</th>\n",
              "      <th>MEDIA_NOTA</th>\n",
              "      <th>Area1</th>\n",
              "      <th>Area2</th>\n",
              "      <th>Area3</th>\n",
              "      <th>Area4</th>\n",
              "      <th>Area5</th>\n",
              "      <th>Area6</th>\n",
              "      <th>Area7</th>\n",
              "      <th>Area8</th>\n",
              "      <th>Area9</th>\n",
              "      <th>Area10</th>\n",
              "      <th>Area11</th>\n",
              "      <th>Area12</th>\n",
              "      <th>Area13</th>\n",
              "      <th>AREA</th>\n",
              "    </tr>\n",
              "  </thead>\n",
              "  <tbody>\n",
              "    <tr>\n",
              "      <th>0</th>\n",
              "      <td>CIÊNCIAS DA COMPUTAÇÃO</td>\n",
              "      <td>Carina Friedrich Dorneles</td>\n",
              "      <td>INE5647 - Qualidade da Informação</td>\n",
              "      <td>False</td>\n",
              "      <td>7.50</td>\n",
              "      <td>9.25</td>\n",
              "      <td>7.00</td>\n",
              "      <td>7.88</td>\n",
              "      <td>7.10</td>\n",
              "      <td>7.34</td>\n",
              "      <td>6.00</td>\n",
              "      <td>7.00</td>\n",
              "      <td>8.00</td>\n",
              "      <td>8.88</td>\n",
              "      <td>7.00</td>\n",
              "      <td>6.63</td>\n",
              "      <td>6.930000e+00</td>\n",
              "      <td>7.300000e+00</td>\n",
              "      <td>Tratamento e Banco de Dados</td>\n",
              "    </tr>\n",
              "    <tr>\n",
              "      <th>1</th>\n",
              "      <td>SISTEMAS DE INFORMAÇÃO (noturno)</td>\n",
              "      <td>Elder Rizzon Santos</td>\n",
              "      <td>INE5633 - Sistemas Inteligentes</td>\n",
              "      <td>False</td>\n",
              "      <td>8.17</td>\n",
              "      <td>7.70</td>\n",
              "      <td>7.59</td>\n",
              "      <td>6.00</td>\n",
              "      <td>7.00</td>\n",
              "      <td>7.00</td>\n",
              "      <td>6.75</td>\n",
              "      <td>8.67</td>\n",
              "      <td>8.38</td>\n",
              "      <td>8.00</td>\n",
              "      <td>8.00</td>\n",
              "      <td>7.59</td>\n",
              "      <td>9.626842e-08</td>\n",
              "      <td>-1.797441e-07</td>\n",
              "      <td>Teoria da Computação e Linguagens</td>\n",
              "    </tr>\n",
              "    <tr>\n",
              "      <th>2</th>\n",
              "      <td>CIÊNCIAS DA COMPUTAÇÃO</td>\n",
              "      <td>Jean Carlo Rossa Hauck</td>\n",
              "      <td>INE5624 - Engenharia de Usabilidade</td>\n",
              "      <td>False</td>\n",
              "      <td>9.50</td>\n",
              "      <td>7.50</td>\n",
              "      <td>6.50</td>\n",
              "      <td>7.13</td>\n",
              "      <td>7.38</td>\n",
              "      <td>6.84</td>\n",
              "      <td>8.00</td>\n",
              "      <td>6.50</td>\n",
              "      <td>7.00</td>\n",
              "      <td>9.50</td>\n",
              "      <td>7.84</td>\n",
              "      <td>7.88</td>\n",
              "      <td>7.930000e+00</td>\n",
              "      <td>7.800000e+00</td>\n",
              "      <td>Engenharia de Software, Gerência de Projetos</td>\n",
              "    </tr>\n",
              "    <tr>\n",
              "      <th>3</th>\n",
              "      <td>SISTEMAS DE INFORMAÇÃO (noturno)</td>\n",
              "      <td>Carina Friedrich Dorneles</td>\n",
              "      <td>INE5650 - Web Semântica, Ontologias e Sistemas de Informação</td>\n",
              "      <td>False</td>\n",
              "      <td>9.00</td>\n",
              "      <td>9.25</td>\n",
              "      <td>7.50</td>\n",
              "      <td>7.90</td>\n",
              "      <td>8.00</td>\n",
              "      <td>6.50</td>\n",
              "      <td>6.50</td>\n",
              "      <td>7.00</td>\n",
              "      <td>9.00</td>\n",
              "      <td>8.10</td>\n",
              "      <td>7.67</td>\n",
              "      <td>6.75</td>\n",
              "      <td>8.170000e+00</td>\n",
              "      <td>-1.797441e-07</td>\n",
              "      <td>Tratamento e Banco de Dados</td>\n",
              "    </tr>\n",
              "    <tr>\n",
              "      <th>4</th>\n",
              "      <td>CIÊNCIAS DA COMPUTAÇÃO</td>\n",
              "      <td>Christiane Anneliese Gresse Von Wangenheim</td>\n",
              "      <td>INE5617 - Gerência de Projetos</td>\n",
              "      <td>False</td>\n",
              "      <td>9.50</td>\n",
              "      <td>7.75</td>\n",
              "      <td>6.00</td>\n",
              "      <td>7.34</td>\n",
              "      <td>7.38</td>\n",
              "      <td>6.00</td>\n",
              "      <td>8.00</td>\n",
              "      <td>6.50</td>\n",
              "      <td>6.75</td>\n",
              "      <td>9.40</td>\n",
              "      <td>7.34</td>\n",
              "      <td>7.38</td>\n",
              "      <td>6.700000e+00</td>\n",
              "      <td>7.750000e+00</td>\n",
              "      <td>Engenharia de Software, Gerência de Projetos</td>\n",
              "    </tr>\n",
              "    <tr>\n",
              "      <th>5</th>\n",
              "      <td>CIÊNCIAS DA COMPUTAÇÃO</td>\n",
              "      <td>Márcio Bastos Castro</td>\n",
              "      <td>INE5645 - Programação Paralela e Distribuída</td>\n",
              "      <td>False</td>\n",
              "      <td>9.50</td>\n",
              "      <td>9.50</td>\n",
              "      <td>9.50</td>\n",
              "      <td>9.00</td>\n",
              "      <td>8.34</td>\n",
              "      <td>7.34</td>\n",
              "      <td>9.50</td>\n",
              "      <td>7.75</td>\n",
              "      <td>8.75</td>\n",
              "      <td>9.80</td>\n",
              "      <td>9.00</td>\n",
              "      <td>9.13</td>\n",
              "      <td>8.250000e+00</td>\n",
              "      <td>8.840000e+00</td>\n",
              "      <td>Sistemas Operacionais, Concorrência e Paralelismo</td>\n",
              "    </tr>\n",
              "    <tr>\n",
              "      <th>6</th>\n",
              "      <td>SISTEMAS DE INFORMAÇÃO (noturno)</td>\n",
              "      <td>Raul Sidnei Wazlawick</td>\n",
              "      <td>INE5670 - Desenvolvimento de Sistemas Móveis e Embarcados</td>\n",
              "      <td>False</td>\n",
              "      <td>8.00</td>\n",
              "      <td>6.63</td>\n",
              "      <td>6.84</td>\n",
              "      <td>6.00</td>\n",
              "      <td>6.50</td>\n",
              "      <td>6.00</td>\n",
              "      <td>7.25</td>\n",
              "      <td>9.75</td>\n",
              "      <td>7.63</td>\n",
              "      <td>7.67</td>\n",
              "      <td>7.90</td>\n",
              "      <td>6.90</td>\n",
              "      <td>9.626842e-08</td>\n",
              "      <td>-1.797441e-07</td>\n",
              "      <td>Fundamentos de Programação</td>\n",
              "    </tr>\n",
              "    <tr>\n",
              "      <th>7</th>\n",
              "      <td>CIÊNCIAS DA COMPUTAÇÃO</td>\n",
              "      <td>Raul Sidnei Wazlawick</td>\n",
              "      <td>INE5617 - Gerência de Projetos</td>\n",
              "      <td>False</td>\n",
              "      <td>9.50</td>\n",
              "      <td>9.25</td>\n",
              "      <td>7.50</td>\n",
              "      <td>7.00</td>\n",
              "      <td>7.70</td>\n",
              "      <td>7.17</td>\n",
              "      <td>8.00</td>\n",
              "      <td>6.25</td>\n",
              "      <td>6.75</td>\n",
              "      <td>8.25</td>\n",
              "      <td>8.60</td>\n",
              "      <td>8.25</td>\n",
              "      <td>7.430000e+00</td>\n",
              "      <td>7.840000e+00</td>\n",
              "      <td>Engenharia de Software, Gerência de Projetos</td>\n",
              "    </tr>\n",
              "    <tr>\n",
              "      <th>8</th>\n",
              "      <td>CIÊNCIAS DA COMPUTAÇÃO</td>\n",
              "      <td>Antonio Augusto Medeiros Frohlich</td>\n",
              "      <td>INE5437 - Arquitetura de Computadores II</td>\n",
              "      <td>False</td>\n",
              "      <td>10.00</td>\n",
              "      <td>9.00</td>\n",
              "      <td>8.50</td>\n",
              "      <td>9.30</td>\n",
              "      <td>8.75</td>\n",
              "      <td>8.17</td>\n",
              "      <td>10.00</td>\n",
              "      <td>8.50</td>\n",
              "      <td>9.00</td>\n",
              "      <td>10.00</td>\n",
              "      <td>8.50</td>\n",
              "      <td>8.63</td>\n",
              "      <td>8.000000e+00</td>\n",
              "      <td>8.600000e+00</td>\n",
              "      <td>Organização de Computadores e Sistemas Embarcados</td>\n",
              "    </tr>\n",
              "    <tr>\n",
              "      <th>9</th>\n",
              "      <td>SISTEMAS DE INFORMAÇÃO (noturno)</td>\n",
              "      <td>José Eduardo de Lucca</td>\n",
              "      <td>INE5633 - Sistemas Inteligentes</td>\n",
              "      <td>False</td>\n",
              "      <td>7.25</td>\n",
              "      <td>6.90</td>\n",
              "      <td>7.00</td>\n",
              "      <td>6.50</td>\n",
              "      <td>6.50</td>\n",
              "      <td>6.00</td>\n",
              "      <td>7.00</td>\n",
              "      <td>6.00</td>\n",
              "      <td>6.50</td>\n",
              "      <td>7.17</td>\n",
              "      <td>6.63</td>\n",
              "      <td>7.00</td>\n",
              "      <td>9.626842e-08</td>\n",
              "      <td>-1.797441e-07</td>\n",
              "      <td>Teoria da Computação e Linguagens</td>\n",
              "    </tr>\n",
              "  </tbody>\n",
              "</table>"
            ]
          },
          "metadata": {}
        }
      ]
    },
    {
      "cell_type": "code",
      "source": [
        "to._dbunch_type == dls._dbunch_type"
      ],
      "metadata": {
        "colab": {
          "base_uri": "https://localhost:8080/"
        },
        "id": "0c4UMufuRDYh",
        "outputId": "9363da3e-f13f-4060-9d25-86f9cb873fe7"
      },
      "execution_count": 427,
      "outputs": [
        {
          "output_type": "execute_result",
          "data": {
            "text/plain": [
              "True"
            ]
          },
          "metadata": {},
          "execution_count": 427
        }
      ]
    },
    {
      "cell_type": "code",
      "source": [
        "emb_szs = get_emb_sz(to); emb_szs"
      ],
      "metadata": {
        "colab": {
          "base_uri": "https://localhost:8080/"
        },
        "id": "O-B_mvAfRK4q",
        "outputId": "f228b568-72ff-4d4a-f881-eab85642c383"
      },
      "execution_count": 428,
      "outputs": [
        {
          "output_type": "execute_result",
          "data": {
            "text/plain": [
              "[(3, 3), (35, 12), (38, 12), (3, 3)]"
            ]
          },
          "metadata": {},
          "execution_count": 428
        }
      ]
    },
    {
      "cell_type": "code",
      "source": [
        "to.cat_names"
      ],
      "metadata": {
        "colab": {
          "base_uri": "https://localhost:8080/"
        },
        "id": "_qGTIZJpROgT",
        "outputId": "54077842-9a35-4a11-cea9-e50362bd2a68"
      },
      "execution_count": 429,
      "outputs": [
        {
          "output_type": "execute_result",
          "data": {
            "text/plain": [
              "(#4) ['CURSO','ORIENTADOR','CLASSIF_AREA','Area13_na']"
            ]
          },
          "metadata": {},
          "execution_count": 429
        }
      ]
    },
    {
      "cell_type": "code",
      "source": [
        "to['CURSO'].nunique()"
      ],
      "metadata": {
        "colab": {
          "base_uri": "https://localhost:8080/"
        },
        "id": "WSVT8PSLRTcd",
        "outputId": "6b809923-9ea5-48ff-8745-88b157b7932a"
      },
      "execution_count": 430,
      "outputs": [
        {
          "output_type": "execute_result",
          "data": {
            "text/plain": [
              "2"
            ]
          },
          "metadata": {},
          "execution_count": 430
        }
      ]
    },
    {
      "cell_type": "code",
      "source": [
        "cont_len = len(to.cont_names); cont_len"
      ],
      "metadata": {
        "colab": {
          "base_uri": "https://localhost:8080/"
        },
        "id": "h_6PQpisR1q0",
        "outputId": "23ae6220-a947-4ce3-d40a-7299048fdcb2"
      },
      "execution_count": 431,
      "outputs": [
        {
          "output_type": "execute_result",
          "data": {
            "text/plain": [
              "14"
            ]
          },
          "metadata": {},
          "execution_count": 431
        }
      ]
    },
    {
      "cell_type": "code",
      "source": [
        "batch = dls.one_batch(); len(batch)"
      ],
      "metadata": {
        "colab": {
          "base_uri": "https://localhost:8080/"
        },
        "id": "7wyw5FkSR9hR",
        "outputId": "f494371c-5560-4209-e2b8-8e17367dbf8b"
      },
      "execution_count": 432,
      "outputs": [
        {
          "output_type": "execute_result",
          "data": {
            "text/plain": [
              "3"
            ]
          },
          "metadata": {},
          "execution_count": 432
        }
      ]
    },
    {
      "cell_type": "code",
      "source": [
        "batch[0][0], batch[1][0]"
      ],
      "metadata": {
        "colab": {
          "base_uri": "https://localhost:8080/"
        },
        "id": "rXRwqHQxSDmi",
        "outputId": "235226e5-fd9a-4f3c-f99d-2fe2fc32b88f"
      },
      "execution_count": 433,
      "outputs": [
        {
          "output_type": "execute_result",
          "data": {
            "text/plain": [
              "(tensor([ 1,  6, 14,  1]),\n",
              " tensor([ 0.5557,  0.4497, -0.0909, -0.7482,  0.0397, -0.0709,  0.3828, -0.2375,\n",
              "         -0.2306,  0.1231, -0.5424, -0.2193,  0.3828,  0.6778]))"
            ]
          },
          "metadata": {},
          "execution_count": 433
        }
      ]
    },
    {
      "cell_type": "code",
      "source": [
        "net = TabularModel(emb_szs, cont_len, 2, [200,100])"
      ],
      "metadata": {
        "id": "FF8QNleASG46"
      },
      "execution_count": 434,
      "outputs": []
    },
    {
      "cell_type": "code",
      "source": [
        "net"
      ],
      "metadata": {
        "colab": {
          "base_uri": "https://localhost:8080/"
        },
        "id": "3vVZjkEKSoX6",
        "outputId": "82efbef7-4ff3-4352-c597-16b9508f1b20"
      },
      "execution_count": 435,
      "outputs": [
        {
          "output_type": "execute_result",
          "data": {
            "text/plain": [
              "TabularModel(\n",
              "  (embeds): ModuleList(\n",
              "    (0): Embedding(3, 3)\n",
              "    (1): Embedding(35, 12)\n",
              "    (2): Embedding(38, 12)\n",
              "    (3): Embedding(3, 3)\n",
              "  )\n",
              "  (emb_drop): Dropout(p=0.0, inplace=False)\n",
              "  (bn_cont): BatchNorm1d(14, eps=1e-05, momentum=0.1, affine=True, track_running_stats=True)\n",
              "  (layers): Sequential(\n",
              "    (0): LinBnDrop(\n",
              "      (0): Linear(in_features=44, out_features=200, bias=False)\n",
              "      (1): ReLU(inplace=True)\n",
              "      (2): BatchNorm1d(200, eps=1e-05, momentum=0.1, affine=True, track_running_stats=True)\n",
              "    )\n",
              "    (1): LinBnDrop(\n",
              "      (0): Linear(in_features=200, out_features=100, bias=False)\n",
              "      (1): ReLU(inplace=True)\n",
              "      (2): BatchNorm1d(100, eps=1e-05, momentum=0.1, affine=True, track_running_stats=True)\n",
              "    )\n",
              "    (2): LinBnDrop(\n",
              "      (0): Linear(in_features=100, out_features=2, bias=True)\n",
              "    )\n",
              "  )\n",
              ")"
            ]
          },
          "metadata": {},
          "execution_count": 435
        }
      ]
    },
    {
      "cell_type": "code",
      "source": [
        "learn = tabular_learner(dls, [200,100], metrics=accuracy)"
      ],
      "metadata": {
        "id": "Vc_8qM1rSpQi"
      },
      "execution_count": 436,
      "outputs": []
    },
    {
      "cell_type": "code",
      "source": [
        "learn.lr_find()"
      ],
      "metadata": {
        "colab": {
          "base_uri": "https://localhost:8080/",
          "height": 300
        },
        "id": "GCBSVOAeSwAL",
        "outputId": "ba5c5b33-ecee-416a-e24c-8b66ff0fd44a"
      },
      "execution_count": 437,
      "outputs": [
        {
          "output_type": "display_data",
          "data": {
            "text/plain": [
              "<IPython.core.display.HTML object>"
            ],
            "text/html": [
              "\n",
              "<style>\n",
              "    /* Turns off some styling */\n",
              "    progress {\n",
              "        /* gets rid of default border in Firefox and Opera. */\n",
              "        border: none;\n",
              "        /* Needs to be in here for Safari polyfill so background images work as expected. */\n",
              "        background-size: auto;\n",
              "    }\n",
              "    progress:not([value]), progress:not([value])::-webkit-progress-bar {\n",
              "        background: repeating-linear-gradient(45deg, #7e7e7e, #7e7e7e 10px, #5c5c5c 10px, #5c5c5c 20px);\n",
              "    }\n",
              "    .progress-bar-interrupted, .progress-bar-interrupted::-webkit-progress-bar {\n",
              "        background: #F44336;\n",
              "    }\n",
              "</style>\n"
            ]
          },
          "metadata": {}
        },
        {
          "output_type": "display_data",
          "data": {
            "text/plain": [
              "<IPython.core.display.HTML object>"
            ],
            "text/html": []
          },
          "metadata": {}
        },
        {
          "output_type": "execute_result",
          "data": {
            "text/plain": [
              "SuggestedLRs(valley=0.004365158267319202)"
            ]
          },
          "metadata": {},
          "execution_count": 437
        },
        {
          "output_type": "display_data",
          "data": {
            "text/plain": [
              "<Figure size 432x288 with 1 Axes>"
            ],
            "image/png": "[encoded data removed]"
          },
          "metadata": {
            "needs_background": "light"
          }
        }
      ]
    },
    {
      "cell_type": "code",
      "source": [
        "learn.fit(20, 1e-2)"
      ],
      "metadata": {
        "colab": {
          "base_uri": "https://localhost:8080/",
          "height": 677
        },
        "id": "Rv5L0et7SyxC",
        "outputId": "ce9bc25f-3d59-4bc6-818d-0d4644fd9fa9"
      },
      "execution_count": 438,
      "outputs": [
        {
          "output_type": "display_data",
          "data": {
            "text/plain": [
              "<IPython.core.display.HTML object>"
            ],
            "text/html": [
              "\n",
              "<style>\n",
              "    /* Turns off some styling */\n",
              "    progress {\n",
              "        /* gets rid of default border in Firefox and Opera. */\n",
              "        border: none;\n",
              "        /* Needs to be in here for Safari polyfill so background images work as expected. */\n",
              "        background-size: auto;\n",
              "    }\n",
              "    progress:not([value]), progress:not([value])::-webkit-progress-bar {\n",
              "        background: repeating-linear-gradient(45deg, #7e7e7e, #7e7e7e 10px, #5c5c5c 10px, #5c5c5c 20px);\n",
              "    }\n",
              "    .progress-bar-interrupted, .progress-bar-interrupted::-webkit-progress-bar {\n",
              "        background: #F44336;\n",
              "    }\n",
              "</style>\n"
            ]
          },
          "metadata": {}
        },
        {
          "output_type": "display_data",
          "data": {
            "text/plain": [
              "<IPython.core.display.HTML object>"
            ],
            "text/html": [
              "<table border=\"1\" class=\"dataframe\">\n",
              "  <thead>\n",
              "    <tr style=\"text-align: left;\">\n",
              "      <th>epoch</th>\n",
              "      <th>train_loss</th>\n",
              "      <th>valid_loss</th>\n",
              "      <th>accuracy</th>\n",
              "      <th>time</th>\n",
              "    </tr>\n",
              "  </thead>\n",
              "  <tbody>\n",
              "    <tr>\n",
              "      <td>0</td>\n",
              "      <td>2.378670</td>\n",
              "      <td>2.190800</td>\n",
              "      <td>0.261538</td>\n",
              "      <td>00:00</td>\n",
              "    </tr>\n",
              "    <tr>\n",
              "      <td>1</td>\n",
              "      <td>2.083795</td>\n",
              "      <td>2.089624</td>\n",
              "      <td>0.246154</td>\n",
              "      <td>00:00</td>\n",
              "    </tr>\n",
              "    <tr>\n",
              "      <td>2</td>\n",
              "      <td>1.787593</td>\n",
              "      <td>1.789544</td>\n",
              "      <td>0.538462</td>\n",
              "      <td>00:00</td>\n",
              "    </tr>\n",
              "    <tr>\n",
              "      <td>3</td>\n",
              "      <td>1.476068</td>\n",
              "      <td>1.237900</td>\n",
              "      <td>0.692308</td>\n",
              "      <td>00:00</td>\n",
              "    </tr>\n",
              "    <tr>\n",
              "      <td>4</td>\n",
              "      <td>1.214530</td>\n",
              "      <td>0.821782</td>\n",
              "      <td>0.784615</td>\n",
              "      <td>00:00</td>\n",
              "    </tr>\n",
              "    <tr>\n",
              "      <td>5</td>\n",
              "      <td>1.008717</td>\n",
              "      <td>0.623348</td>\n",
              "      <td>0.830769</td>\n",
              "      <td>00:00</td>\n",
              "    </tr>\n",
              "    <tr>\n",
              "      <td>6</td>\n",
              "      <td>0.850700</td>\n",
              "      <td>0.504715</td>\n",
              "      <td>0.846154</td>\n",
              "      <td>00:00</td>\n",
              "    </tr>\n",
              "    <tr>\n",
              "      <td>7</td>\n",
              "      <td>0.724188</td>\n",
              "      <td>0.458554</td>\n",
              "      <td>0.892308</td>\n",
              "      <td>00:00</td>\n",
              "    </tr>\n",
              "    <tr>\n",
              "      <td>8</td>\n",
              "      <td>0.623584</td>\n",
              "      <td>0.443068</td>\n",
              "      <td>0.907692</td>\n",
              "      <td>00:00</td>\n",
              "    </tr>\n",
              "    <tr>\n",
              "      <td>9</td>\n",
              "      <td>0.542623</td>\n",
              "      <td>0.405734</td>\n",
              "      <td>0.923077</td>\n",
              "      <td>00:00</td>\n",
              "    </tr>\n",
              "    <tr>\n",
              "      <td>10</td>\n",
              "      <td>0.474007</td>\n",
              "      <td>0.399894</td>\n",
              "      <td>0.923077</td>\n",
              "      <td>00:00</td>\n",
              "    </tr>\n",
              "    <tr>\n",
              "      <td>11</td>\n",
              "      <td>0.416857</td>\n",
              "      <td>0.418891</td>\n",
              "      <td>0.923077</td>\n",
              "      <td>00:00</td>\n",
              "    </tr>\n",
              "    <tr>\n",
              "      <td>12</td>\n",
              "      <td>0.368526</td>\n",
              "      <td>0.421324</td>\n",
              "      <td>0.923077</td>\n",
              "      <td>00:00</td>\n",
              "    </tr>\n",
              "    <tr>\n",
              "      <td>13</td>\n",
              "      <td>0.327021</td>\n",
              "      <td>0.415158</td>\n",
              "      <td>0.923077</td>\n",
              "      <td>00:00</td>\n",
              "    </tr>\n",
              "    <tr>\n",
              "      <td>14</td>\n",
              "      <td>0.291498</td>\n",
              "      <td>0.418426</td>\n",
              "      <td>0.923077</td>\n",
              "      <td>00:00</td>\n",
              "    </tr>\n",
              "    <tr>\n",
              "      <td>15</td>\n",
              "      <td>0.260799</td>\n",
              "      <td>0.400547</td>\n",
              "      <td>0.923077</td>\n",
              "      <td>00:00</td>\n",
              "    </tr>\n",
              "    <tr>\n",
              "      <td>16</td>\n",
              "      <td>0.234615</td>\n",
              "      <td>0.392479</td>\n",
              "      <td>0.923077</td>\n",
              "      <td>00:00</td>\n",
              "    </tr>\n",
              "    <tr>\n",
              "      <td>17</td>\n",
              "      <td>0.211080</td>\n",
              "      <td>0.408368</td>\n",
              "      <td>0.923077</td>\n",
              "      <td>00:00</td>\n",
              "    </tr>\n",
              "    <tr>\n",
              "      <td>18</td>\n",
              "      <td>0.190493</td>\n",
              "      <td>0.414812</td>\n",
              "      <td>0.923077</td>\n",
              "      <td>00:00</td>\n",
              "    </tr>\n",
              "    <tr>\n",
              "      <td>19</td>\n",
              "      <td>0.172782</td>\n",
              "      <td>0.405231</td>\n",
              "      <td>0.923077</td>\n",
              "      <td>00:00</td>\n",
              "    </tr>\n",
              "  </tbody>\n",
              "</table>"
            ]
          },
          "metadata": {}
        }
      ]
    },
    {
      "cell_type": "code",
      "source": [
        "dls = to.dataloaders()\n",
        "learn = tabular_learner(dls, [200,100], metrics=accuracy)\n",
        "learn.fit(50, 1e-2)"
      ],
      "metadata": {
        "colab": {
          "base_uri": "https://localhost:8080/",
          "height": 1000
        },
        "id": "cLYC3U-SS3I6",
        "outputId": "4d6018b8-d63d-415b-f98e-e7d608f9b080"
      },
      "execution_count": 439,
      "outputs": [
        {
          "output_type": "display_data",
          "data": {
            "text/plain": [
              "<IPython.core.display.HTML object>"
            ],
            "text/html": [
              "\n",
              "<style>\n",
              "    /* Turns off some styling */\n",
              "    progress {\n",
              "        /* gets rid of default border in Firefox and Opera. */\n",
              "        border: none;\n",
              "        /* Needs to be in here for Safari polyfill so background images work as expected. */\n",
              "        background-size: auto;\n",
              "    }\n",
              "    progress:not([value]), progress:not([value])::-webkit-progress-bar {\n",
              "        background: repeating-linear-gradient(45deg, #7e7e7e, #7e7e7e 10px, #5c5c5c 10px, #5c5c5c 20px);\n",
              "    }\n",
              "    .progress-bar-interrupted, .progress-bar-interrupted::-webkit-progress-bar {\n",
              "        background: #F44336;\n",
              "    }\n",
              "</style>\n"
            ]
          },
          "metadata": {}
        },
        {
          "output_type": "display_data",
          "data": {
            "text/plain": [
              "<IPython.core.display.HTML object>"
            ],
            "text/html": [
              "<table border=\"1\" class=\"dataframe\">\n",
              "  <thead>\n",
              "    <tr style=\"text-align: left;\">\n",
              "      <th>epoch</th>\n",
              "      <th>train_loss</th>\n",
              "      <th>valid_loss</th>\n",
              "      <th>accuracy</th>\n",
              "      <th>time</th>\n",
              "    </tr>\n",
              "  </thead>\n",
              "  <tbody>\n",
              "    <tr>\n",
              "      <td>0</td>\n",
              "      <td>2.477777</td>\n",
              "      <td>2.301578</td>\n",
              "      <td>0.200000</td>\n",
              "      <td>00:00</td>\n",
              "    </tr>\n",
              "    <tr>\n",
              "      <td>1</td>\n",
              "      <td>2.172713</td>\n",
              "      <td>2.157598</td>\n",
              "      <td>0.246154</td>\n",
              "      <td>00:00</td>\n",
              "    </tr>\n",
              "    <tr>\n",
              "      <td>2</td>\n",
              "      <td>1.915303</td>\n",
              "      <td>1.912711</td>\n",
              "      <td>0.430769</td>\n",
              "      <td>00:00</td>\n",
              "    </tr>\n",
              "    <tr>\n",
              "      <td>3</td>\n",
              "      <td>1.602928</td>\n",
              "      <td>1.292161</td>\n",
              "      <td>0.692308</td>\n",
              "      <td>00:00</td>\n",
              "    </tr>\n",
              "    <tr>\n",
              "      <td>4</td>\n",
              "      <td>1.314919</td>\n",
              "      <td>0.769731</td>\n",
              "      <td>0.830769</td>\n",
              "      <td>00:00</td>\n",
              "    </tr>\n",
              "    <tr>\n",
              "      <td>5</td>\n",
              "      <td>1.090570</td>\n",
              "      <td>0.540169</td>\n",
              "      <td>0.830769</td>\n",
              "      <td>00:00</td>\n",
              "    </tr>\n",
              "    <tr>\n",
              "      <td>6</td>\n",
              "      <td>0.916410</td>\n",
              "      <td>0.419286</td>\n",
              "      <td>0.876923</td>\n",
              "      <td>00:00</td>\n",
              "    </tr>\n",
              "    <tr>\n",
              "      <td>7</td>\n",
              "      <td>0.776122</td>\n",
              "      <td>0.341993</td>\n",
              "      <td>0.907692</td>\n",
              "      <td>00:00</td>\n",
              "    </tr>\n",
              "    <tr>\n",
              "      <td>8</td>\n",
              "      <td>0.664949</td>\n",
              "      <td>0.308764</td>\n",
              "      <td>0.907692</td>\n",
              "      <td>00:00</td>\n",
              "    </tr>\n",
              "    <tr>\n",
              "      <td>9</td>\n",
              "      <td>0.574853</td>\n",
              "      <td>0.308104</td>\n",
              "      <td>0.907692</td>\n",
              "      <td>00:00</td>\n",
              "    </tr>\n",
              "    <tr>\n",
              "      <td>10</td>\n",
              "      <td>0.500614</td>\n",
              "      <td>0.310728</td>\n",
              "      <td>0.923077</td>\n",
              "      <td>00:00</td>\n",
              "    </tr>\n",
              "    <tr>\n",
              "      <td>11</td>\n",
              "      <td>0.439173</td>\n",
              "      <td>0.306698</td>\n",
              "      <td>0.923077</td>\n",
              "      <td>00:00</td>\n",
              "    </tr>\n",
              "    <tr>\n",
              "      <td>12</td>\n",
              "      <td>0.387762</td>\n",
              "      <td>0.306671</td>\n",
              "      <td>0.923077</td>\n",
              "      <td>00:00</td>\n",
              "    </tr>\n",
              "    <tr>\n",
              "      <td>13</td>\n",
              "      <td>0.343866</td>\n",
              "      <td>0.301711</td>\n",
              "      <td>0.923077</td>\n",
              "      <td>00:00</td>\n",
              "    </tr>\n",
              "    <tr>\n",
              "      <td>14</td>\n",
              "      <td>0.306309</td>\n",
              "      <td>0.299536</td>\n",
              "      <td>0.923077</td>\n",
              "      <td>00:00</td>\n",
              "    </tr>\n",
              "    <tr>\n",
              "      <td>15</td>\n",
              "      <td>0.273989</td>\n",
              "      <td>0.296757</td>\n",
              "      <td>0.907692</td>\n",
              "      <td>00:00</td>\n",
              "    </tr>\n",
              "    <tr>\n",
              "      <td>16</td>\n",
              "      <td>0.245744</td>\n",
              "      <td>0.295899</td>\n",
              "      <td>0.907692</td>\n",
              "      <td>00:00</td>\n",
              "    </tr>\n",
              "    <tr>\n",
              "      <td>17</td>\n",
              "      <td>0.221437</td>\n",
              "      <td>0.302903</td>\n",
              "      <td>0.907692</td>\n",
              "      <td>00:00</td>\n",
              "    </tr>\n",
              "    <tr>\n",
              "      <td>18</td>\n",
              "      <td>0.199740</td>\n",
              "      <td>0.303457</td>\n",
              "      <td>0.907692</td>\n",
              "      <td>00:00</td>\n",
              "    </tr>\n",
              "    <tr>\n",
              "      <td>19</td>\n",
              "      <td>0.180666</td>\n",
              "      <td>0.300346</td>\n",
              "      <td>0.907692</td>\n",
              "      <td>00:00</td>\n",
              "    </tr>\n",
              "    <tr>\n",
              "      <td>20</td>\n",
              "      <td>0.163652</td>\n",
              "      <td>0.296053</td>\n",
              "      <td>0.923077</td>\n",
              "      <td>00:00</td>\n",
              "    </tr>\n",
              "    <tr>\n",
              "      <td>21</td>\n",
              "      <td>0.148479</td>\n",
              "      <td>0.297582</td>\n",
              "      <td>0.923077</td>\n",
              "      <td>00:00</td>\n",
              "    </tr>\n",
              "    <tr>\n",
              "      <td>22</td>\n",
              "      <td>0.135041</td>\n",
              "      <td>0.300610</td>\n",
              "      <td>0.923077</td>\n",
              "      <td>00:00</td>\n",
              "    </tr>\n",
              "    <tr>\n",
              "      <td>23</td>\n",
              "      <td>0.123037</td>\n",
              "      <td>0.301636</td>\n",
              "      <td>0.923077</td>\n",
              "      <td>00:00</td>\n",
              "    </tr>\n",
              "    <tr>\n",
              "      <td>24</td>\n",
              "      <td>0.112094</td>\n",
              "      <td>0.299182</td>\n",
              "      <td>0.923077</td>\n",
              "      <td>00:00</td>\n",
              "    </tr>\n",
              "    <tr>\n",
              "      <td>25</td>\n",
              "      <td>0.102264</td>\n",
              "      <td>0.304612</td>\n",
              "      <td>0.923077</td>\n",
              "      <td>00:00</td>\n",
              "    </tr>\n",
              "    <tr>\n",
              "      <td>26</td>\n",
              "      <td>0.093403</td>\n",
              "      <td>0.304031</td>\n",
              "      <td>0.923077</td>\n",
              "      <td>00:00</td>\n",
              "    </tr>\n",
              "    <tr>\n",
              "      <td>27</td>\n",
              "      <td>0.085404</td>\n",
              "      <td>0.303459</td>\n",
              "      <td>0.923077</td>\n",
              "      <td>00:00</td>\n",
              "    </tr>\n",
              "    <tr>\n",
              "      <td>28</td>\n",
              "      <td>0.078188</td>\n",
              "      <td>0.305806</td>\n",
              "      <td>0.923077</td>\n",
              "      <td>00:00</td>\n",
              "    </tr>\n",
              "    <tr>\n",
              "      <td>29</td>\n",
              "      <td>0.071612</td>\n",
              "      <td>0.313118</td>\n",
              "      <td>0.923077</td>\n",
              "      <td>00:00</td>\n",
              "    </tr>\n",
              "    <tr>\n",
              "      <td>30</td>\n",
              "      <td>0.065628</td>\n",
              "      <td>0.320073</td>\n",
              "      <td>0.923077</td>\n",
              "      <td>00:00</td>\n",
              "    </tr>\n",
              "    <tr>\n",
              "      <td>31</td>\n",
              "      <td>0.060173</td>\n",
              "      <td>0.316051</td>\n",
              "      <td>0.923077</td>\n",
              "      <td>00:00</td>\n",
              "    </tr>\n",
              "    <tr>\n",
              "      <td>32</td>\n",
              "      <td>0.055794</td>\n",
              "      <td>0.305658</td>\n",
              "      <td>0.923077</td>\n",
              "      <td>00:00</td>\n",
              "    </tr>\n",
              "    <tr>\n",
              "      <td>33</td>\n",
              "      <td>0.052089</td>\n",
              "      <td>0.278971</td>\n",
              "      <td>0.923077</td>\n",
              "      <td>00:00</td>\n",
              "    </tr>\n",
              "    <tr>\n",
              "      <td>34</td>\n",
              "      <td>0.050181</td>\n",
              "      <td>0.309251</td>\n",
              "      <td>0.923077</td>\n",
              "      <td>00:00</td>\n",
              "    </tr>\n",
              "    <tr>\n",
              "      <td>35</td>\n",
              "      <td>0.046417</td>\n",
              "      <td>0.287702</td>\n",
              "      <td>0.923077</td>\n",
              "      <td>00:00</td>\n",
              "    </tr>\n",
              "    <tr>\n",
              "      <td>36</td>\n",
              "      <td>0.042846</td>\n",
              "      <td>0.255389</td>\n",
              "      <td>0.938462</td>\n",
              "      <td>00:00</td>\n",
              "    </tr>\n",
              "    <tr>\n",
              "      <td>37</td>\n",
              "      <td>0.039441</td>\n",
              "      <td>0.244929</td>\n",
              "      <td>0.938462</td>\n",
              "      <td>00:00</td>\n",
              "    </tr>\n",
              "    <tr>\n",
              "      <td>38</td>\n",
              "      <td>0.036345</td>\n",
              "      <td>0.244715</td>\n",
              "      <td>0.938462</td>\n",
              "      <td>00:00</td>\n",
              "    </tr>\n",
              "    <tr>\n",
              "      <td>39</td>\n",
              "      <td>0.033528</td>\n",
              "      <td>0.243478</td>\n",
              "      <td>0.923077</td>\n",
              "      <td>00:00</td>\n",
              "    </tr>\n",
              "    <tr>\n",
              "      <td>40</td>\n",
              "      <td>0.030890</td>\n",
              "      <td>0.246806</td>\n",
              "      <td>0.923077</td>\n",
              "      <td>00:00</td>\n",
              "    </tr>\n",
              "    <tr>\n",
              "      <td>41</td>\n",
              "      <td>0.028466</td>\n",
              "      <td>0.247705</td>\n",
              "      <td>0.923077</td>\n",
              "      <td>00:00</td>\n",
              "    </tr>\n",
              "    <tr>\n",
              "      <td>42</td>\n",
              "      <td>0.026246</td>\n",
              "      <td>0.250605</td>\n",
              "      <td>0.923077</td>\n",
              "      <td>00:00</td>\n",
              "    </tr>\n",
              "    <tr>\n",
              "      <td>43</td>\n",
              "      <td>0.024190</td>\n",
              "      <td>0.249835</td>\n",
              "      <td>0.923077</td>\n",
              "      <td>00:00</td>\n",
              "    </tr>\n",
              "    <tr>\n",
              "      <td>44</td>\n",
              "      <td>0.022307</td>\n",
              "      <td>0.254561</td>\n",
              "      <td>0.923077</td>\n",
              "      <td>00:00</td>\n",
              "    </tr>\n",
              "    <tr>\n",
              "      <td>45</td>\n",
              "      <td>0.020590</td>\n",
              "      <td>0.257025</td>\n",
              "      <td>0.923077</td>\n",
              "      <td>00:00</td>\n",
              "    </tr>\n",
              "    <tr>\n",
              "      <td>46</td>\n",
              "      <td>0.019007</td>\n",
              "      <td>0.258404</td>\n",
              "      <td>0.923077</td>\n",
              "      <td>00:00</td>\n",
              "    </tr>\n",
              "    <tr>\n",
              "      <td>47</td>\n",
              "      <td>0.017537</td>\n",
              "      <td>0.260128</td>\n",
              "      <td>0.923077</td>\n",
              "      <td>00:00</td>\n",
              "    </tr>\n",
              "    <tr>\n",
              "      <td>48</td>\n",
              "      <td>0.016192</td>\n",
              "      <td>0.260437</td>\n",
              "      <td>0.923077</td>\n",
              "      <td>00:00</td>\n",
              "    </tr>\n",
              "    <tr>\n",
              "      <td>49</td>\n",
              "      <td>0.014971</td>\n",
              "      <td>0.256181</td>\n",
              "      <td>0.923077</td>\n",
              "      <td>00:00</td>\n",
              "    </tr>\n",
              "  </tbody>\n",
              "</table>"
            ]
          },
          "metadata": {}
        }
      ]
    },
    {
      "cell_type": "code",
      "source": [
        "row, cls, probs = learn.predict(df.iloc[0])"
      ],
      "metadata": {
        "colab": {
          "base_uri": "https://localhost:8080/",
          "height": 17
        },
        "id": "nzuIWaEVTCBo",
        "outputId": "9bffe115-d666-4119-b72e-53b3babfea2f"
      },
      "execution_count": 440,
      "outputs": [
        {
          "output_type": "display_data",
          "data": {
            "text/plain": [
              "<IPython.core.display.HTML object>"
            ],
            "text/html": [
              "\n",
              "<style>\n",
              "    /* Turns off some styling */\n",
              "    progress {\n",
              "        /* gets rid of default border in Firefox and Opera. */\n",
              "        border: none;\n",
              "        /* Needs to be in here for Safari polyfill so background images work as expected. */\n",
              "        background-size: auto;\n",
              "    }\n",
              "    progress:not([value]), progress:not([value])::-webkit-progress-bar {\n",
              "        background: repeating-linear-gradient(45deg, #7e7e7e, #7e7e7e 10px, #5c5c5c 10px, #5c5c5c 20px);\n",
              "    }\n",
              "    .progress-bar-interrupted, .progress-bar-interrupted::-webkit-progress-bar {\n",
              "        background: #F44336;\n",
              "    }\n",
              "</style>\n"
            ]
          },
          "metadata": {}
        },
        {
          "output_type": "display_data",
          "data": {
            "text/plain": [
              "<IPython.core.display.HTML object>"
            ],
            "text/html": []
          },
          "metadata": {}
        }
      ]
    },
    {
      "cell_type": "code",
      "source": [
        "row.show()"
      ],
      "metadata": {
        "colab": {
          "base_uri": "https://localhost:8080/",
          "height": 81
        },
        "id": "H1zB6cH1TKNK",
        "outputId": "0062bae5-7786-4d0a-b2c8-561306270e97"
      },
      "execution_count": 441,
      "outputs": [
        {
          "output_type": "display_data",
          "data": {
            "text/plain": [
              "<IPython.core.display.HTML object>"
            ],
            "text/html": [
              "<table border=\"1\" class=\"dataframe\">\n",
              "  <thead>\n",
              "    <tr style=\"text-align: right;\">\n",
              "      <th></th>\n",
              "      <th>CURSO</th>\n",
              "      <th>ORIENTADOR</th>\n",
              "      <th>CLASSIF_AREA</th>\n",
              "      <th>Area13_na</th>\n",
              "      <th>MEDIA_NOTA</th>\n",
              "      <th>Area1</th>\n",
              "      <th>Area2</th>\n",
              "      <th>Area3</th>\n",
              "      <th>Area4</th>\n",
              "      <th>Area5</th>\n",
              "      <th>Area6</th>\n",
              "      <th>Area7</th>\n",
              "      <th>Area8</th>\n",
              "      <th>Area9</th>\n",
              "      <th>Area10</th>\n",
              "      <th>Area11</th>\n",
              "      <th>Area12</th>\n",
              "      <th>Area13</th>\n",
              "      <th>AREA</th>\n",
              "    </tr>\n",
              "  </thead>\n",
              "  <tbody>\n",
              "    <tr>\n",
              "      <th>0</th>\n",
              "      <td>CIÊNCIAS DA COMPUTAÇÃO</td>\n",
              "      <td>Jerusa Marchi</td>\n",
              "      <td>INE5430 - Inteligência Artificial</td>\n",
              "      <td>False</td>\n",
              "      <td>9.0</td>\n",
              "      <td>8.5</td>\n",
              "      <td>7.0</td>\n",
              "      <td>7.34</td>\n",
              "      <td>9.17</td>\n",
              "      <td>8.13</td>\n",
              "      <td>8.0</td>\n",
              "      <td>7.75</td>\n",
              "      <td>7.5</td>\n",
              "      <td>8.5</td>\n",
              "      <td>6.84</td>\n",
              "      <td>7.38</td>\n",
              "      <td>7.79</td>\n",
              "      <td>7.0</td>\n",
              "      <td>Teoria da Computação e Linguagens</td>\n",
              "    </tr>\n",
              "  </tbody>\n",
              "</table>"
            ]
          },
          "metadata": {}
        }
      ]
    },
    {
      "cell_type": "code",
      "source": [
        "dl = learn.dls.test_dl(df.iloc[:100])"
      ],
      "metadata": {
        "id": "hAQjIBT2TONY"
      },
      "execution_count": 442,
      "outputs": []
    },
    {
      "cell_type": "code",
      "source": [
        "dl.show_batch()"
      ],
      "metadata": {
        "colab": {
          "base_uri": "https://localhost:8080/",
          "height": 537
        },
        "id": "b5VpXwWkWaHS",
        "outputId": "c95b7187-1d2a-4cbf-9876-47d11d77e35a"
      },
      "execution_count": 443,
      "outputs": [
        {
          "output_type": "display_data",
          "data": {
            "text/plain": [
              "<IPython.core.display.HTML object>"
            ],
            "text/html": [
              "<table border=\"1\" class=\"dataframe\">\n",
              "  <thead>\n",
              "    <tr style=\"text-align: right;\">\n",
              "      <th></th>\n",
              "      <th>CURSO</th>\n",
              "      <th>ORIENTADOR</th>\n",
              "      <th>CLASSIF_AREA</th>\n",
              "      <th>Area13_na</th>\n",
              "      <th>MEDIA_NOTA</th>\n",
              "      <th>Area1</th>\n",
              "      <th>Area2</th>\n",
              "      <th>Area3</th>\n",
              "      <th>Area4</th>\n",
              "      <th>Area5</th>\n",
              "      <th>Area6</th>\n",
              "      <th>Area7</th>\n",
              "      <th>Area8</th>\n",
              "      <th>Area9</th>\n",
              "      <th>Area10</th>\n",
              "      <th>Area11</th>\n",
              "      <th>Area12</th>\n",
              "      <th>Area13</th>\n",
              "      <th>AREA</th>\n",
              "    </tr>\n",
              "  </thead>\n",
              "  <tbody>\n",
              "    <tr>\n",
              "      <th>0</th>\n",
              "      <td>CIÊNCIAS DA COMPUTAÇÃO</td>\n",
              "      <td>Jerusa Marchi</td>\n",
              "      <td>INE5430 - Inteligência Artificial</td>\n",
              "      <td>False</td>\n",
              "      <td>9.0</td>\n",
              "      <td>8.50</td>\n",
              "      <td>7.00</td>\n",
              "      <td>7.34</td>\n",
              "      <td>9.17</td>\n",
              "      <td>8.13</td>\n",
              "      <td>8.0</td>\n",
              "      <td>7.75</td>\n",
              "      <td>7.50</td>\n",
              "      <td>8.50</td>\n",
              "      <td>6.84</td>\n",
              "      <td>7.38</td>\n",
              "      <td>7.79</td>\n",
              "      <td>7.000000e+00</td>\n",
              "      <td>Teoria da Computação e Linguagens</td>\n",
              "    </tr>\n",
              "    <tr>\n",
              "      <th>1</th>\n",
              "      <td>CIÊNCIAS DA COMPUTAÇÃO</td>\n",
              "      <td>Jean Carlo Rossa Hauck</td>\n",
              "      <td>INE5617 - Gerência de Projetos</td>\n",
              "      <td>False</td>\n",
              "      <td>10.0</td>\n",
              "      <td>7.75</td>\n",
              "      <td>6.50</td>\n",
              "      <td>8.00</td>\n",
              "      <td>7.17</td>\n",
              "      <td>7.67</td>\n",
              "      <td>8.5</td>\n",
              "      <td>7.34</td>\n",
              "      <td>8.00</td>\n",
              "      <td>9.63</td>\n",
              "      <td>7.50</td>\n",
              "      <td>8.63</td>\n",
              "      <td>7.09</td>\n",
              "      <td>8.000000e+00</td>\n",
              "      <td>Engenharia de Software, Gerência de Projetos</td>\n",
              "    </tr>\n",
              "    <tr>\n",
              "      <th>2</th>\n",
              "      <td>SISTEMAS DE INFORMAÇÃO (noturno)</td>\n",
              "      <td>Fabiane Barreto Vavassori Benitti</td>\n",
              "      <td>INE5614 - Engenharia de Software</td>\n",
              "      <td>False</td>\n",
              "      <td>8.5</td>\n",
              "      <td>9.00</td>\n",
              "      <td>7.40</td>\n",
              "      <td>6.60</td>\n",
              "      <td>8.50</td>\n",
              "      <td>8.00</td>\n",
              "      <td>7.5</td>\n",
              "      <td>7.25</td>\n",
              "      <td>8.63</td>\n",
              "      <td>8.10</td>\n",
              "      <td>7.67</td>\n",
              "      <td>6.50</td>\n",
              "      <td>7.50</td>\n",
              "      <td>-1.797441e-07</td>\n",
              "      <td>Engenharia de Software, Gerência de Projetos</td>\n",
              "    </tr>\n",
              "    <tr>\n",
              "      <th>3</th>\n",
              "      <td>SISTEMAS DE INFORMAÇÃO (noturno)</td>\n",
              "      <td>Fernando Augusto da Silva Cruz</td>\n",
              "      <td>INE5646 - Programação para Web</td>\n",
              "      <td>False</td>\n",
              "      <td>8.0</td>\n",
              "      <td>8.67</td>\n",
              "      <td>7.25</td>\n",
              "      <td>7.30</td>\n",
              "      <td>7.00</td>\n",
              "      <td>6.00</td>\n",
              "      <td>6.0</td>\n",
              "      <td>7.50</td>\n",
              "      <td>8.17</td>\n",
              "      <td>7.50</td>\n",
              "      <td>7.50</td>\n",
              "      <td>6.25</td>\n",
              "      <td>7.25</td>\n",
              "      <td>-1.797441e-07</td>\n",
              "      <td>Fundamentos de Programação</td>\n",
              "    </tr>\n",
              "    <tr>\n",
              "      <th>4</th>\n",
              "      <td>CIÊNCIAS DA COMPUTAÇÃO</td>\n",
              "      <td>Jean Everson Martina</td>\n",
              "      <td>INE5429 - Segurança em Computação</td>\n",
              "      <td>False</td>\n",
              "      <td>7.0</td>\n",
              "      <td>8.50</td>\n",
              "      <td>6.00</td>\n",
              "      <td>6.80</td>\n",
              "      <td>8.13</td>\n",
              "      <td>7.00</td>\n",
              "      <td>7.0</td>\n",
              "      <td>8.50</td>\n",
              "      <td>6.00</td>\n",
              "      <td>8.40</td>\n",
              "      <td>6.50</td>\n",
              "      <td>7.63</td>\n",
              "      <td>7.50</td>\n",
              "      <td>6.500000e+00</td>\n",
              "      <td>Redes de Computadores e Segurança</td>\n",
              "    </tr>\n",
              "    <tr>\n",
              "      <th>5</th>\n",
              "      <td>CIÊNCIAS DA COMPUTAÇÃO</td>\n",
              "      <td>Jean Everson Martina</td>\n",
              "      <td>INE5429 - Segurança em Computação</td>\n",
              "      <td>False</td>\n",
              "      <td>9.5</td>\n",
              "      <td>8.50</td>\n",
              "      <td>7.50</td>\n",
              "      <td>7.25</td>\n",
              "      <td>7.00</td>\n",
              "      <td>6.84</td>\n",
              "      <td>6.0</td>\n",
              "      <td>7.00</td>\n",
              "      <td>6.75</td>\n",
              "      <td>8.75</td>\n",
              "      <td>6.84</td>\n",
              "      <td>6.63</td>\n",
              "      <td>7.00</td>\n",
              "      <td>6.840000e+00</td>\n",
              "      <td>Ciência, Tecnologia, Sociedade e Emprendedorismo</td>\n",
              "    </tr>\n",
              "    <tr>\n",
              "      <th>6</th>\n",
              "      <td>CIÊNCIAS DA COMPUTAÇÃO</td>\n",
              "      <td>Jean Everson Martina</td>\n",
              "      <td>INE5429 - Segurança em Computação</td>\n",
              "      <td>False</td>\n",
              "      <td>9.0</td>\n",
              "      <td>8.75</td>\n",
              "      <td>8.50</td>\n",
              "      <td>7.88</td>\n",
              "      <td>7.84</td>\n",
              "      <td>8.00</td>\n",
              "      <td>8.0</td>\n",
              "      <td>7.25</td>\n",
              "      <td>6.75</td>\n",
              "      <td>9.00</td>\n",
              "      <td>7.00</td>\n",
              "      <td>7.63</td>\n",
              "      <td>7.90</td>\n",
              "      <td>7.670000e+00</td>\n",
              "      <td>Redes de Computadores e Segurança</td>\n",
              "    </tr>\n",
              "    <tr>\n",
              "      <th>7</th>\n",
              "      <td>CIÊNCIAS DA COMPUTAÇÃO</td>\n",
              "      <td>Raul Sidnei Wazlawick</td>\n",
              "      <td>INE5404 - Programação Orientada a Objetos II</td>\n",
              "      <td>False</td>\n",
              "      <td>9.5</td>\n",
              "      <td>7.75</td>\n",
              "      <td>6.00</td>\n",
              "      <td>7.13</td>\n",
              "      <td>8.13</td>\n",
              "      <td>7.50</td>\n",
              "      <td>6.5</td>\n",
              "      <td>7.25</td>\n",
              "      <td>7.25</td>\n",
              "      <td>8.13</td>\n",
              "      <td>7.00</td>\n",
              "      <td>7.38</td>\n",
              "      <td>7.40</td>\n",
              "      <td>7.670000e+00</td>\n",
              "      <td>Fundamentos de Programação</td>\n",
              "    </tr>\n",
              "    <tr>\n",
              "      <th>8</th>\n",
              "      <td>CIÊNCIAS DA COMPUTAÇÃO</td>\n",
              "      <td>Rafael Luiz Cancian</td>\n",
              "      <td>INE5416 - Paradigmas de Programação</td>\n",
              "      <td>False</td>\n",
              "      <td>9.5</td>\n",
              "      <td>9.00</td>\n",
              "      <td>6.00</td>\n",
              "      <td>8.17</td>\n",
              "      <td>9.34</td>\n",
              "      <td>7.34</td>\n",
              "      <td>9.0</td>\n",
              "      <td>7.34</td>\n",
              "      <td>7.00</td>\n",
              "      <td>9.13</td>\n",
              "      <td>7.84</td>\n",
              "      <td>7.75</td>\n",
              "      <td>7.42</td>\n",
              "      <td>7.630000e+00</td>\n",
              "      <td>Teoria da Computação e Linguagens</td>\n",
              "    </tr>\n",
              "    <tr>\n",
              "      <th>9</th>\n",
              "      <td>CIÊNCIAS DA COMPUTAÇÃO</td>\n",
              "      <td>Alexandre Goncalves Silva</td>\n",
              "      <td>INE5420 - Computação Gráfica</td>\n",
              "      <td>False</td>\n",
              "      <td>9.0</td>\n",
              "      <td>9.75</td>\n",
              "      <td>8.50</td>\n",
              "      <td>8.75</td>\n",
              "      <td>9.50</td>\n",
              "      <td>9.25</td>\n",
              "      <td>9.5</td>\n",
              "      <td>7.00</td>\n",
              "      <td>8.75</td>\n",
              "      <td>8.60</td>\n",
              "      <td>8.50</td>\n",
              "      <td>8.13</td>\n",
              "      <td>8.30</td>\n",
              "      <td>9.130000e+00</td>\n",
              "      <td>Fundamentos Matemáticos</td>\n",
              "    </tr>\n",
              "  </tbody>\n",
              "</table>"
            ]
          },
          "metadata": {}
        }
      ]
    },
    {
      "cell_type": "code",
      "source": [
        "learn.validate(dl=dl)"
      ],
      "metadata": {
        "colab": {
          "base_uri": "https://localhost:8080/",
          "height": 34
        },
        "id": "GsEN_cRxWb3i",
        "outputId": "ddfc1fcc-4ba0-4cee-e69d-b664db3da20d"
      },
      "execution_count": 444,
      "outputs": [
        {
          "output_type": "display_data",
          "data": {
            "text/plain": [
              "<IPython.core.display.HTML object>"
            ],
            "text/html": [
              "\n",
              "<style>\n",
              "    /* Turns off some styling */\n",
              "    progress {\n",
              "        /* gets rid of default border in Firefox and Opera. */\n",
              "        border: none;\n",
              "        /* Needs to be in here for Safari polyfill so background images work as expected. */\n",
              "        background-size: auto;\n",
              "    }\n",
              "    progress:not([value]), progress:not([value])::-webkit-progress-bar {\n",
              "        background: repeating-linear-gradient(45deg, #7e7e7e, #7e7e7e 10px, #5c5c5c 10px, #5c5c5c 20px);\n",
              "    }\n",
              "    .progress-bar-interrupted, .progress-bar-interrupted::-webkit-progress-bar {\n",
              "        background: #F44336;\n",
              "    }\n",
              "</style>\n"
            ]
          },
          "metadata": {}
        },
        {
          "output_type": "display_data",
          "data": {
            "text/plain": [
              "<IPython.core.display.HTML object>"
            ],
            "text/html": []
          },
          "metadata": {}
        },
        {
          "output_type": "execute_result",
          "data": {
            "text/plain": [
              "(#2) [0.04461591690778732,0.9800000190734863]"
            ]
          },
          "metadata": {},
          "execution_count": 444
        }
      ]
    },
    {
      "cell_type": "code",
      "source": [
        "df2 = df.iloc[:100].drop('AREA', axis=1)\n",
        "df2.head()"
      ],
      "metadata": {
        "colab": {
          "base_uri": "https://localhost:8080/",
          "height": 206
        },
        "id": "aYf45suOWlJb",
        "outputId": "cbf816c9-3c27-4815-af55-f8a274608cf8"
      },
      "execution_count": 445,
      "outputs": [
        {
          "output_type": "execute_result",
          "data": {
            "text/plain": [
              "                              CURSO                         ORIENTADOR  \\\n",
              "0            CIÊNCIAS DA COMPUTAÇÃO                      Jerusa Marchi   \n",
              "1            CIÊNCIAS DA COMPUTAÇÃO             Jean Carlo Rossa Hauck   \n",
              "2  SISTEMAS DE INFORMAÇÃO (noturno)  Fabiane Barreto Vavassori Benitti   \n",
              "3  SISTEMAS DE INFORMAÇÃO (noturno)     Fernando Augusto da Silva Cruz   \n",
              "4            CIÊNCIAS DA COMPUTAÇÃO               Jean Everson Martina   \n",
              "\n",
              "                        CLASSIF_AREA  MEDIA_NOTA  Area1  Area2  Area3  Area4  \\\n",
              "0  INE5430 - Inteligência Artificial         9.0   8.50   7.00   7.34   9.17   \n",
              "1     INE5617 - Gerência de Projetos        10.0   7.75   6.50   8.00   7.17   \n",
              "2   INE5614 - Engenharia de Software         8.5   9.00   7.40   6.60   8.50   \n",
              "3     INE5646 - Programação para Web         8.0   8.67   7.25   7.30   7.00   \n",
              "4  INE5429 - Segurança em Computação         7.0   8.50   6.00   6.80   8.13   \n",
              "\n",
              "   Area5  Area6  Area7  Area8  Area9  Area10  Area11  Area12  Area13  \n",
              "0   8.13    8.0   7.75   7.50   8.50    6.84    7.38    7.79     7.0  \n",
              "1   7.67    8.5   7.34   8.00   9.63    7.50    8.63    7.09     8.0  \n",
              "2   8.00    7.5   7.25   8.63   8.10    7.67    6.50    7.50     0.0  \n",
              "3   6.00    6.0   7.50   8.17   7.50    7.50    6.25    7.25     0.0  \n",
              "4   7.00    7.0   8.50   6.00   8.40    6.50    7.63    7.50     6.5  "
            ],
            "text/html": [
              "\n",
              "  <div id=\"df-39d505bc-7b75-4004-b3ec-7a6112aa4740\">\n",
              "    <div class=\"colab-df-container\">\n",
              "      <div>\n",
              "<style scoped>\n",
              "    .dataframe tbody tr th:only-of-type {\n",
              "        vertical-align: middle;\n",
              "    }\n",
              "\n",
              "    .dataframe tbody tr th {\n",
              "        vertical-align: top;\n",
              "    }\n",
              "\n",
              "    .dataframe thead th {\n",
              "        text-align: right;\n",
              "    }\n",
              "</style>\n",
              "<table border=\"1\" class=\"dataframe\">\n",
              "  <thead>\n",
              "    <tr style=\"text-align: right;\">\n",
              "      <th></th>\n",
              "      <th>CURSO</th>\n",
              "      <th>ORIENTADOR</th>\n",
              "      <th>CLASSIF_AREA</th>\n",
              "      <th>MEDIA_NOTA</th>\n",
              "      <th>Area1</th>\n",
              "      <th>Area2</th>\n",
              "      <th>Area3</th>\n",
              "      <th>Area4</th>\n",
              "      <th>Area5</th>\n",
              "      <th>Area6</th>\n",
              "      <th>Area7</th>\n",
              "      <th>Area8</th>\n",
              "      <th>Area9</th>\n",
              "      <th>Area10</th>\n",
              "      <th>Area11</th>\n",
              "      <th>Area12</th>\n",
              "      <th>Area13</th>\n",
              "    </tr>\n",
              "  </thead>\n",
              "  <tbody>\n",
              "    <tr>\n",
              "      <th>0</th>\n",
              "      <td>CIÊNCIAS DA COMPUTAÇÃO</td>\n",
              "      <td>Jerusa Marchi</td>\n",
              "      <td>INE5430 - Inteligência Artificial</td>\n",
              "      <td>9.0</td>\n",
              "      <td>8.50</td>\n",
              "      <td>7.00</td>\n",
              "      <td>7.34</td>\n",
              "      <td>9.17</td>\n",
              "      <td>8.13</td>\n",
              "      <td>8.0</td>\n",
              "      <td>7.75</td>\n",
              "      <td>7.50</td>\n",
              "      <td>8.50</td>\n",
              "      <td>6.84</td>\n",
              "      <td>7.38</td>\n",
              "      <td>7.79</td>\n",
              "      <td>7.0</td>\n",
              "    </tr>\n",
              "    <tr>\n",
              "      <th>1</th>\n",
              "      <td>CIÊNCIAS DA COMPUTAÇÃO</td>\n",
              "      <td>Jean Carlo Rossa Hauck</td>\n",
              "      <td>INE5617 - Gerência de Projetos</td>\n",
              "      <td>10.0</td>\n",
              "      <td>7.75</td>\n",
              "      <td>6.50</td>\n",
              "      <td>8.00</td>\n",
              "      <td>7.17</td>\n",
              "      <td>7.67</td>\n",
              "      <td>8.5</td>\n",
              "      <td>7.34</td>\n",
              "      <td>8.00</td>\n",
              "      <td>9.63</td>\n",
              "      <td>7.50</td>\n",
              "      <td>8.63</td>\n",
              "      <td>7.09</td>\n",
              "      <td>8.0</td>\n",
              "    </tr>\n",
              "    <tr>\n",
              "      <th>2</th>\n",
              "      <td>SISTEMAS DE INFORMAÇÃO (noturno)</td>\n",
              "      <td>Fabiane Barreto Vavassori Benitti</td>\n",
              "      <td>INE5614 - Engenharia de Software</td>\n",
              "      <td>8.5</td>\n",
              "      <td>9.00</td>\n",
              "      <td>7.40</td>\n",
              "      <td>6.60</td>\n",
              "      <td>8.50</td>\n",
              "      <td>8.00</td>\n",
              "      <td>7.5</td>\n",
              "      <td>7.25</td>\n",
              "      <td>8.63</td>\n",
              "      <td>8.10</td>\n",
              "      <td>7.67</td>\n",
              "      <td>6.50</td>\n",
              "      <td>7.50</td>\n",
              "      <td>0.0</td>\n",
              "    </tr>\n",
              "    <tr>\n",
              "      <th>3</th>\n",
              "      <td>SISTEMAS DE INFORMAÇÃO (noturno)</td>\n",
              "      <td>Fernando Augusto da Silva Cruz</td>\n",
              "      <td>INE5646 - Programação para Web</td>\n",
              "      <td>8.0</td>\n",
              "      <td>8.67</td>\n",
              "      <td>7.25</td>\n",
              "      <td>7.30</td>\n",
              "      <td>7.00</td>\n",
              "      <td>6.00</td>\n",
              "      <td>6.0</td>\n",
              "      <td>7.50</td>\n",
              "      <td>8.17</td>\n",
              "      <td>7.50</td>\n",
              "      <td>7.50</td>\n",
              "      <td>6.25</td>\n",
              "      <td>7.25</td>\n",
              "      <td>0.0</td>\n",
              "    </tr>\n",
              "    <tr>\n",
              "      <th>4</th>\n",
              "      <td>CIÊNCIAS DA COMPUTAÇÃO</td>\n",
              "      <td>Jean Everson Martina</td>\n",
              "      <td>INE5429 - Segurança em Computação</td>\n",
              "      <td>7.0</td>\n",
              "      <td>8.50</td>\n",
              "      <td>6.00</td>\n",
              "      <td>6.80</td>\n",
              "      <td>8.13</td>\n",
              "      <td>7.00</td>\n",
              "      <td>7.0</td>\n",
              "      <td>8.50</td>\n",
              "      <td>6.00</td>\n",
              "      <td>8.40</td>\n",
              "      <td>6.50</td>\n",
              "      <td>7.63</td>\n",
              "      <td>7.50</td>\n",
              "      <td>6.5</td>\n",
              "    </tr>\n",
              "  </tbody>\n",
              "</table>\n",
              "</div>\n",
              "      <button class=\"colab-df-convert\" onclick=\"convertToInteractive('df-39d505bc-7b75-4004-b3ec-7a6112aa4740')\"\n",
              "              title=\"Convert this dataframe to an interactive table.\"\n",
              "              style=\"display:none;\">\n",
              "        \n",
              "  <svg xmlns=\"http://www.w3.org/2000/svg\" height=\"24px\"viewBox=\"0 0 24 24\"\n",
              "       width=\"24px\">\n",
              "    <path d=\"M0 0h24v24H0V0z\" fill=\"none\"/>\n",
              "    <path d=\"M18.56 5.44l.94 2.06.94-2.06 2.06-.94-2.06-.94-.94-2.06-.94 2.06-2.06.94zm-11 1L8.5 8.5l.94-2.06 2.06-.94-2.06-.94L8.5 2.5l-.94 2.06-2.06.94zm10 10l.94 2.06.94-2.06 2.06-.94-2.06-.94-.94-2.06-.94 2.06-2.06.94z\"/><path d=\"M17.41 7.96l-1.37-1.37c-.4-.4-.92-.59-1.43-.59-.52 0-1.04.2-1.43.59L10.3 9.45l-7.72 7.72c-.78.78-.78 2.05 0 2.83L4 21.41c.39.39.9.59 1.41.59.51 0 1.02-.2 1.41-.59l7.78-7.78 2.81-2.81c.8-.78.8-2.07 0-2.86zM5.41 20L4 18.59l7.72-7.72 1.47 1.35L5.41 20z\"/>\n",
              "  </svg>\n",
              "      </button>\n",
              "      \n",
              "  <style>\n",
              "    .colab-df-container {\n",
              "      display:flex;\n",
              "      flex-wrap:wrap;\n",
              "      gap: 12px;\n",
              "    }\n",
              "\n",
              "    .colab-df-convert {\n",
              "      background-color: #E8F0FE;\n",
              "      border: none;\n",
              "      border-radius: 50%;\n",
              "      cursor: pointer;\n",
              "      display: none;\n",
              "      fill: #1967D2;\n",
              "      height: 32px;\n",
              "      padding: 0 0 0 0;\n",
              "      width: 32px;\n",
              "    }\n",
              "\n",
              "    .colab-df-convert:hover {\n",
              "      background-color: #E2EBFA;\n",
              "      box-shadow: 0px 1px 2px rgba(60, 64, 67, 0.3), 0px 1px 3px 1px rgba(60, 64, 67, 0.15);\n",
              "      fill: #174EA6;\n",
              "    }\n",
              "\n",
              "    [theme=dark] .colab-df-convert {\n",
              "      background-color: #3B4455;\n",
              "      fill: #D2E3FC;\n",
              "    }\n",
              "\n",
              "    [theme=dark] .colab-df-convert:hover {\n",
              "      background-color: #434B5C;\n",
              "      box-shadow: 0px 1px 3px 1px rgba(0, 0, 0, 0.15);\n",
              "      filter: drop-shadow(0px 1px 2px rgba(0, 0, 0, 0.3));\n",
              "      fill: #FFFFFF;\n",
              "    }\n",
              "  </style>\n",
              "\n",
              "      <script>\n",
              "        const buttonEl =\n",
              "          document.querySelector('#df-39d505bc-7b75-4004-b3ec-7a6112aa4740 button.colab-df-convert');\n",
              "        buttonEl.style.display =\n",
              "          google.colab.kernel.accessAllowed ? 'block' : 'none';\n",
              "\n",
              "        async function convertToInteractive(key) {\n",
              "          const element = document.querySelector('#df-39d505bc-7b75-4004-b3ec-7a6112aa4740');\n",
              "          const dataTable =\n",
              "            await google.colab.kernel.invokeFunction('convertToInteractive',\n",
              "                                                     [key], {});\n",
              "          if (!dataTable) return;\n",
              "\n",
              "          const docLinkHtml = 'Like what you see? Visit the ' +\n",
              "            '<a target=\"_blank\" href=https://colab.research.google.com/notebooks/data_table.ipynb>data table notebook</a>'\n",
              "            + ' to learn more about interactive tables.';\n",
              "          element.innerHTML = '';\n",
              "          dataTable['output_type'] = 'display_data';\n",
              "          await google.colab.output.renderOutput(dataTable, element);\n",
              "          const docLink = document.createElement('div');\n",
              "          docLink.innerHTML = docLinkHtml;\n",
              "          element.appendChild(docLink);\n",
              "        }\n",
              "      </script>\n",
              "    </div>\n",
              "  </div>\n",
              "  "
            ]
          },
          "metadata": {},
          "execution_count": 445
        }
      ]
    },
    {
      "cell_type": "code",
      "source": [
        "dl = learn.dls.test_dl(df2)\n",
        "learn.validate(dl=dl)\n"
      ],
      "metadata": {
        "colab": {
          "base_uri": "https://localhost:8080/",
          "height": 34
        },
        "id": "RGTXQT9sW3WS",
        "outputId": "755e7bd9-48b1-4f2e-c1b0-eb1334bc1d14"
      },
      "execution_count": 446,
      "outputs": [
        {
          "output_type": "display_data",
          "data": {
            "text/plain": [
              "<IPython.core.display.HTML object>"
            ],
            "text/html": [
              "\n",
              "<style>\n",
              "    /* Turns off some styling */\n",
              "    progress {\n",
              "        /* gets rid of default border in Firefox and Opera. */\n",
              "        border: none;\n",
              "        /* Needs to be in here for Safari polyfill so background images work as expected. */\n",
              "        background-size: auto;\n",
              "    }\n",
              "    progress:not([value]), progress:not([value])::-webkit-progress-bar {\n",
              "        background: repeating-linear-gradient(45deg, #7e7e7e, #7e7e7e 10px, #5c5c5c 10px, #5c5c5c 20px);\n",
              "    }\n",
              "    .progress-bar-interrupted, .progress-bar-interrupted::-webkit-progress-bar {\n",
              "        background: #F44336;\n",
              "    }\n",
              "</style>\n"
            ]
          },
          "metadata": {}
        },
        {
          "output_type": "display_data",
          "data": {
            "text/plain": [
              "<IPython.core.display.HTML object>"
            ],
            "text/html": []
          },
          "metadata": {}
        },
        {
          "output_type": "execute_result",
          "data": {
            "text/plain": [
              "(#2) [None,None]"
            ]
          },
          "metadata": {},
          "execution_count": 446
        }
      ]
    }
  ]
}